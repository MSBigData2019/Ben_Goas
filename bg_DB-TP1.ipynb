{
  "cells": [
    {
      "metadata": {},
      "cell_type": "markdown",
      "source": "# TP1 - Finding Keys using Functional Dependencies \n--------------------------\n\nIn this lab, we are going to learn \n\n- how to use Jupyter\n- how to use SQLite\n- how to discover keys in relations\n\n## How to use Jupyter\n\nTo execute a cell, click on it, and then use SHIFT+ENTER (this will execute the contents of the cell, and move down to the next one!)\n\nTo edit a cell, click on it. If the cell uses markdown code, then use ENTER to edit it.\n\nSee the Help menu for other useful keyboard commands. You can always use the menu bar instead as well.\n"
    },
    {
      "metadata": {
        "trusted": true
      },
      "cell_type": "code",
      "source": "print(\"Hello world!\")",
      "execution_count": 1,
      "outputs": [
        {
          "output_type": "stream",
          "text": "Hello world!\n",
          "name": "stdout"
        }
      ]
    },
    {
      "metadata": {},
      "cell_type": "markdown",
      "source": "Another example:"
    },
    {
      "metadata": {
        "trusted": true
      },
      "cell_type": "code",
      "source": "for i in range(1,10):\n    print(i)",
      "execution_count": 2,
      "outputs": [
        {
          "output_type": "stream",
          "text": "1\n2\n3\n4\n5\n6\n7\n8\n9\n",
          "name": "stdout"
        }
      ]
    },
    {
      "metadata": {},
      "cell_type": "markdown",
      "source": "#### Exercise 1\n\nPrint numbers 1 to 9 in reverse order"
    },
    {
      "metadata": {
        "trusted": true
      },
      "cell_type": "code",
      "source": "for i in range(9,0,-1):\n    print(i)",
      "execution_count": 4,
      "outputs": [
        {
          "output_type": "stream",
          "text": "9\n8\n7\n6\n5\n4\n3\n2\n1\n",
          "name": "stdout"
        }
      ]
    },
    {
      "metadata": {},
      "cell_type": "markdown",
      "source": "## How to use SQLite\n\nTo work with SQL easily in a notebook, we'll load the ipython-sql extension as follows:"
    },
    {
      "metadata": {
        "trusted": true
      },
      "cell_type": "code",
      "source": "#KO\n#!pip install pysqlite3 \n\n#OK, à ne pas relancer ?     \n#!conda install -c conda-forge ipython-sql -y",
      "execution_count": null,
      "outputs": [
        {
          "output_type": "stream",
          "text": "Solving environment: done\n\n## Package Plan ##\n\n  environment location: /home/nbuser/anaconda3_501\n\n  added / updated specs: \n    - ipython-sql\n\n\nThe following packages will be downloaded:\n\n    package                    |            build\n    ---------------------------|-----------------\n    wheel-0.32.1               |           py36_0          34 KB  conda-forge\n    prettytable-0.7.2          |             py_2          14 KB  conda-forge\n    ipython_genutils-0.2.0     |             py_1          21 KB  conda-forge\n    pygments-2.2.0             |             py_1         622 KB  conda-forge\n    six-1.11.0                 |        py36_1001          21 KB  conda-forge\n    setuptools-40.4.3          |           py36_0         554 KB  conda-forge\n    traitlets-4.3.2            |        py36_1000         131 KB  conda-forge\n    parso-0.3.1                |             py_0          59 KB  conda-forge\n    pip-18.1                   |        py36_1000         1.8 MB  conda-forge\n    openssl-1.0.2p             |       h470a237_1         3.1 MB  conda-forge\n    ipython-7.0.1              |py36h24bf2e0_1000         1.1 MB  conda-forge\n    wcwidth-0.1.7              |             py_1          17 KB  conda-forge\n    decorator-4.3.0            |             py_0          10 KB  conda-forge\n    prompt_toolkit-2.0.6       |             py_0         218 KB  conda-forge\n    ipython-sql-0.3.9          |           py36_0          27 KB  conda-forge\n    sqlalchemy-1.2.12          |   py36h470a237_0         1.6 MB  conda-forge\n    backcall-0.1.0             |             py_0          13 KB  conda-forge\n    simplegeneric-0.8.1        |             py_1           7 KB  conda-forge\n    readline-7.0               |       haf1bffa_1         381 KB  conda-forge\n    sqlparse-0.2.4             |             py_0          27 KB  conda-forge\n    ptyprocess-0.6.0           |        py36_1000          22 KB  conda-forge\n    certifi-2018.10.15         |        py36_1000         138 KB  conda-forge\n    pexpect-4.6.0              |        py36_1000          75 KB  conda-forge\n    pickleshare-0.7.5          |        py36_1000          12 KB  conda-forge\n    jedi-0.13.1                |        py36_1000         228 KB  conda-forge\n    ------------------------------------------------------------\n                                           Total:        10.2 MB\n\nThe following NEW packages will be INSTALLED:\n\n    backcall:         0.1.0-py_0                 conda-forge\n    ipython-sql:      0.3.9-py36_0               conda-forge\n    parso:            0.3.1-py_0                 conda-forge\n    prettytable:      0.7.2-py_2                 conda-forge\n    readline:         7.0-haf1bffa_1             conda-forge\n    sqlparse:         0.2.4-py_0                 conda-forge\n\nThe following packages will be UPDATED:\n\n    certifi:          2017.7.27.1-py36h8b7b77e_0             --> 2018.10.15-py36_1000    conda-forge\n    decorator:        4.1.2-py36hd076ac8_0                   --> 4.3.0-py_0              conda-forge\n    ipython:          6.2.1-py36h88c514a_1                   --> 7.0.1-py36h24bf2e0_1000 conda-forge\n    ipython_genutils: 0.2.0-py36hb52b0d5_0                   --> 0.2.0-py_1              conda-forge\n    jedi:             0.10.2-py36h552def0_0                  --> 0.13.1-py36_1000        conda-forge\n    openssl:          1.0.2p-h14c3975_0                      --> 1.0.2p-h470a237_1       conda-forge\n    pexpect:          4.2.1-py36h3b9d41b_0                   --> 4.6.0-py36_1000         conda-forge\n    pickleshare:      0.7.4-py36h63277f8_0                   --> 0.7.5-py36_1000         conda-forge\n    pip:              9.0.1-py36h8ec8b28_3                   --> 18.1-py36_1000          conda-forge\n    prompt_toolkit:   1.0.15-py36h17d85b1_0                  --> 2.0.6-py_0              conda-forge\n    ptyprocess:       0.5.2-py36h69acd42_0                   --> 0.6.0-py36_1000         conda-forge\n    pygments:         2.2.0-py36h0d3125c_0                   --> 2.2.0-py_1              conda-forge\n    setuptools:       36.5.0-py36he42e2e1_0                  --> 40.4.3-py36_0           conda-forge\n    simplegeneric:    0.8.1-py36h2cb9092_0                   --> 0.8.1-py_1              conda-forge\n    six:              1.11.0-py36h372c433_1                  --> 1.11.0-py36_1001        conda-forge\n    sqlalchemy:       1.1.13-py36hfb5efd7_0                  --> 1.2.12-py36h470a237_0   conda-forge\n    traitlets:        4.3.2-py36h674d592_0                   --> 4.3.2-py36_1000         conda-forge\n    wcwidth:          0.1.7-py36hdf4376a_0                   --> 0.1.7-py_1              conda-forge\n    wheel:            0.29.0-py36he7f4e38_1                  --> 0.32.1-py36_0           conda-forge\n\n\nDownloading and Extracting Packages\nwheel-0.32.1         | 34 KB     | ##################################### | 100% \nprettytable-0.7.2    | 14 KB     | ##################################### | 100% \nipython_genutils-0.2 | 21 KB     | ##################################### | 100% \npygments-2.2.0       | 622 KB    | ##################################### | 100% \nsix-1.11.0           | 21 KB     | ##################################### | 100% \nsetuptools-40.4.3    | 554 KB    | ##################################### | 100% \ntraitlets-4.3.2      | 131 KB    | ##################################### | 100% \nparso-0.3.1          | 59 KB     | ##################################### | 100% \npip-18.1             | 1.8 MB    | ##################################### | 100% \nopenssl-1.0.2p       | 3.1 MB    | ##################################### | 100% \nipython-7.0.1        | 1.1 MB    | ##################################### | 100% \nwcwidth-0.1.7        | 17 KB     | ##################################### | 100% \ndecorator-4.3.0      | 10 KB     | ##################################### | 100% \nprompt_toolkit-2.0.6 | 218 KB    | ##################################### | 100% \nipython-sql-0.3.9    | 27 KB     | ##################################### | 100% \nsqlalchemy-1.2.12    | 1.6 MB    | ##################################### | 100% \nbackcall-0.1.0       | 13 KB     | ##################################### | 100% \nsimplegeneric-0.8.1  | 7 KB      | ##################################### | 100% \nreadline-7.0         | 381 KB    | ##################################### | 100% \nsqlparse-0.2.4       | 27 KB     | ##################################### | 100% \nptyprocess-0.6.0     | 22 KB     | ##################################### | 100% \ncertifi-2018.10.15   | 138 KB    | ##################################### | 100% \npexpect-4.6.0        | 75 KB     | ##################################### | 100% \npickleshare-0.7.5    | 12 KB     | ##################################### | 100% \njedi-0.13.1          | 228 KB    | ##################################### | 100% \nPreparing transaction: done\nVerifying transaction: done\nExecuting transaction: - ",
          "name": "stdout"
        }
      ]
    },
    {
      "metadata": {
        "trusted": true
      },
      "cell_type": "code",
      "source": "%load_ext sql\n%sql sqlite://",
      "execution_count": 13,
      "outputs": [
        {
          "output_type": "execute_result",
          "execution_count": 13,
          "data": {
            "text/plain": "'Connected: @None'"
          },
          "metadata": {}
        }
      ]
    },
    {
      "metadata": {},
      "cell_type": "markdown",
      "source": "We are going to create a table:"
    },
    {
      "metadata": {
        "trusted": true
      },
      "cell_type": "code",
      "source": "%%sql DROP TABLE IF EXISTS T;\nCREATE TABLE T(course VARCHAR, classroom INT, time INT);\nINSERT INTO T VALUES ('CS 364', 132, 900);\nINSERT INTO T VALUES ('CS 245', 140, 1000);\nINSERT INTO T VALUES ('EE 101', 210, 900);",
      "execution_count": 14,
      "outputs": [
        {
          "output_type": "stream",
          "text": " * sqlite://\nDone.\nDone.\n1 rows affected.\n1 rows affected.\n1 rows affected.\n",
          "name": "stdout"
        },
        {
          "output_type": "execute_result",
          "execution_count": 14,
          "data": {
            "text/plain": "[]"
          },
          "metadata": {}
        }
      ]
    },
    {
      "metadata": {},
      "cell_type": "markdown",
      "source": "Let's run our first SQL query:"
    },
    {
      "metadata": {
        "trusted": true
      },
      "cell_type": "code",
      "source": "%sql SELECT * FROM T;",
      "execution_count": 15,
      "outputs": [
        {
          "output_type": "stream",
          "text": " * sqlite://\nDone.\n",
          "name": "stdout"
        },
        {
          "output_type": "execute_result",
          "execution_count": 15,
          "data": {
            "text/html": "<table>\n    <tr>\n        <th>course</th>\n        <th>classroom</th>\n        <th>time</th>\n    </tr>\n    <tr>\n        <td>CS 364</td>\n        <td>132</td>\n        <td>900</td>\n    </tr>\n    <tr>\n        <td>CS 245</td>\n        <td>140</td>\n        <td>1000</td>\n    </tr>\n    <tr>\n        <td>EE 101</td>\n        <td>210</td>\n        <td>900</td>\n    </tr>\n</table>",
            "text/plain": "[('CS 364', 132, 900), ('CS 245', 140, 1000), ('EE 101', 210, 900)]"
          },
          "metadata": {}
        }
      ]
    },
    {
      "metadata": {},
      "cell_type": "markdown",
      "source": "#### Exercise 2\n\nList the name of the courses with time less than 950"
    },
    {
      "metadata": {
        "trusted": true
      },
      "cell_type": "code",
      "source": "%sql SELECT * FROM T WHERE time <= 950;",
      "execution_count": 16,
      "outputs": [
        {
          "output_type": "stream",
          "text": " * sqlite://\nDone.\n",
          "name": "stdout"
        },
        {
          "output_type": "execute_result",
          "execution_count": 16,
          "data": {
            "text/html": "<table>\n    <tr>\n        <th>course</th>\n        <th>classroom</th>\n        <th>time</th>\n    </tr>\n    <tr>\n        <td>CS 364</td>\n        <td>132</td>\n        <td>900</td>\n    </tr>\n    <tr>\n        <td>EE 101</td>\n        <td>210</td>\n        <td>900</td>\n    </tr>\n</table>",
            "text/plain": "[('CS 364', 132, 900), ('EE 101', 210, 900)]"
          },
          "metadata": {}
        }
      ]
    },
    {
      "metadata": {},
      "cell_type": "markdown",
      "source": "## How to discover keys in relations\n\nNow, we are going to work with functional dependencies, keys and closures. Our final goal is going to build a method to find keys in a relation.\n\n### Functional Dependencies\n\nRecall that given a set of attributes  $\\{A_1, \\dots, A_n\\}$ and a set of FDs $\\Gamma$\n\nThe closure, denoted $\\{A_1, \\dots, A_n\\}^+$, is defined to be the largest set of attributes B s.t. $$A_1,\\dots,A_n \\rightarrow B \\text{ using } \\Gamma.$$\n\nWe're going to use some functions to compute the closure of a set of attributes and other such operations (_from CS145 Stanford_)"
    },
    {
      "metadata": {
        "trusted": true
      },
      "cell_type": "code",
      "source": "# Source code\n\ndef to_set(x):\n  \"\"\"Convert input int, string, list, tuple, set -> set\"\"\"\n  if type(x) == set:\n    return x\n  elif type(x) in [list, set]:\n    return set(x)\n  elif type(x) in [str, int]:\n    return set([x])\n  else:\n    raise Exception(\"Unrecognized type.\")\n\ndef fd_to_str(lr_tuple):\n    lhs = lr_tuple[0]\n    rhs = lr_tuple[1]\n    return \",\".join(to_set(lhs)) + \" -> \" + \",\".join(to_set(rhs))\n\ndef fds_to_str(fds): return \"\\n\\t\".join(map(fd_to_str, fds))\n\ndef set_to_str(x): return \"{\" + \",\".join(x) + \"}\"\n\ndef fd_applies_to(fd, x): \n  lhs, rhs = map(to_set, fd)\n  return lhs.issubset(x)\n\ndef print_setup(A, fds):\n  print(\"Attributes = \" + set_to_str(A))\n  print(\"FDs = \\t\" + fds_to_str(fds))\n\ndef print_fds(fds):\n  print(\"FDs = \\t\" + fds_to_str(fds))    \n",
      "execution_count": 17,
      "outputs": []
    },
    {
      "metadata": {},
      "cell_type": "markdown",
      "source": "Now, let's look at a concrete example. For example, the code for\n\nattributes = { name, category, color, department, price}\n\nand functional dependencies:\n\nname $\\rightarrow$ color\n\ncategory $\\rightarrow$ department\n\ncolor, category $\\rightarrow$ price\n\nis the following:"
    },
    {
      "metadata": {
        "trusted": true
      },
      "cell_type": "code",
      "source": "attributes  = set([\"name\", \"category\", \"color\", \"department\", \"price\"]) # These are the attribute set.\nfds = [(set([\"name\"]),\"color\"),\n         (set([\"category\"]), \"department\"),\n         (set([\"color\", \"category\"]), \"price\")]\n\nprint_setup(attributes, fds)",
      "execution_count": 18,
      "outputs": [
        {
          "output_type": "stream",
          "text": "Attributes = {price,name,category,color,department}\nFDs = \tname -> color\n\tcategory -> department\n\tcategory,color -> price\n",
          "name": "stdout"
        }
      ]
    },
    {
      "metadata": {},
      "cell_type": "markdown",
      "source": "### Closure of a set of Attributes\n\nLet's implement the algorithm for obtaining the closure of a set of attributes:"
    },
    {
      "metadata": {
        "trusted": true
      },
      "cell_type": "code",
      "source": "def compute_closure(x, fds, verbose=False):\n    bChanged = True        # We will repeat until there are no changes.\n    x_ret    = x.copy()    # Make a copy of the input to hold x^{+}\n    while bChanged:\n        bChanged = False   # Must change on each iteration\n        for fd in fds:     # loop through all the FDs.\n            (lhs, rhs) = map(to_set, fd) # recall: lhs -> rhs\n            if fd_applies_to(fd, x_ret) and not rhs.issubset(x_ret):\n                x_ret = x_ret.union(rhs)\n                if verbose:\n                    print(\"Using FD \" + fd_to_str(fd))\n                    print(\"\\t Updated x to \" + set_to_str(x_ret))\n                bChanged = True\n    return x_ret",
      "execution_count": 19,
      "outputs": []
    },
    {
      "metadata": {},
      "cell_type": "markdown",
      "source": "As an example, let's compute the closure for the attribute \"name\":"
    },
    {
      "metadata": {
        "trusted": true
      },
      "cell_type": "code",
      "source": "A = set([\"name\"])\ncompute_closure(A,fds, True)",
      "execution_count": 20,
      "outputs": [
        {
          "output_type": "stream",
          "text": "Using FD name -> color\n\t Updated x to {name,color}\n",
          "name": "stdout"
        },
        {
          "output_type": "execute_result",
          "execution_count": 20,
          "data": {
            "text/plain": "{'color', 'name'}"
          },
          "metadata": {}
        }
      ]
    },
    {
      "metadata": {},
      "cell_type": "markdown",
      "source": "#### Exercise 3\n\nIs the attribute \"name\" a superkey for this relation? Why?"
    },
    {
      "metadata": {},
      "cell_type": "raw",
      "source": "No, the closure is not the full set of attributes"
    },
    {
      "metadata": {},
      "cell_type": "markdown",
      "source": "### Keys and Superkeys\n\nNext, we'll add some new functions now for finding superkeys and keys.  Recall:\n* A _superkey_ for a relation $R(B_1,\\dots,B_m)$ is a set of attributes $\\{A_1,\\dots,A_n\\}$ s.t.\n$$ \\{A_1,\\dots,A_n\\} \\rightarrow B_{j} \\text{ for all } j=1,\\dots m$$\n* A _key_ is a minimal (setwise) _superkey_\n\nThe algorithm to determine if a set of attributes $A$ is a superkey for $X$ is actually very simple (check if $A^+=X$):"
    },
    {
      "metadata": {
        "trusted": true
      },
      "cell_type": "code",
      "source": "def is_superkey_for(A, X, fds, verbose=False): \n    return X.issubset(compute_closure(A, fds, verbose=verbose))",
      "execution_count": 21,
      "outputs": []
    },
    {
      "metadata": {},
      "cell_type": "markdown",
      "source": "Is \"name\" a superkey of the relation?"
    },
    {
      "metadata": {
        "trusted": true
      },
      "cell_type": "code",
      "source": "is_superkey_for(A, attributes, fds)",
      "execution_count": 22,
      "outputs": [
        {
          "output_type": "execute_result",
          "execution_count": 22,
          "data": {
            "text/plain": "False"
          },
          "metadata": {}
        }
      ]
    },
    {
      "metadata": {},
      "cell_type": "markdown",
      "source": "Then, to check if $A$ is a key for $X$, we just confirm that:\n* (a) it is a superkey\n* (b) there are no smaller superkeys (_Note that we only need to check for superkeys of one size smaller_)"
    },
    {
      "metadata": {
        "trusted": true
      },
      "cell_type": "code",
      "source": "import itertools\ndef is_key_for(A, X, fds, verbose=False):\n    subsets = set(itertools.combinations(A, len(A)-1))\n    return is_superkey_for(A, X, fds) and \\\n        all([not is_superkey_for(set(SA), X, fds) for SA in subsets])",
      "execution_count": 23,
      "outputs": []
    },
    {
      "metadata": {},
      "cell_type": "markdown",
      "source": "Now, let's look at another example:\n\nattributes = { cru, type, client, remise}\n\nand functional dependencies:\n\ncru $\\rightarrow$ type\n\ntype, client $\\rightarrow$ remise\n\n#### Exercise 4\n\nIs \"cru\" and \"client\" a key of the relation? Why?"
    },
    {
      "metadata": {
        "trusted": true
      },
      "cell_type": "code",
      "source": "attributes  = set([\"cru\", \"type\", \"client\", \"remise\"]) # These are the attribute set.\nfds = [(set([\"cru\"]),\"type\"),\n         (set([\"type\", \"client\"]), \"remise\")]\nis_key_for(set([\"cru\", \"client\"]), attributes, fds)\n#cru gives type, + client gives remise, full cover",
      "execution_count": 25,
      "outputs": [
        {
          "output_type": "execute_result",
          "execution_count": 25,
          "data": {
            "text/plain": "True"
          },
          "metadata": {}
        }
      ]
    },
    {
      "metadata": {},
      "cell_type": "markdown",
      "source": "Because it's a superkey and it is minimal. "
    },
    {
      "metadata": {},
      "cell_type": "markdown",
      "source": "### Closure of a set of functional dependencies\n\nThe algorithm to find the closure of a set of functional dependencies is the following:"
    },
    {
      "metadata": {
        "trusted": true
      },
      "cell_type": "code",
      "source": "import itertools\ndef findsubsets(S,m):\n    return set(itertools.combinations(S, m))\ndef closure(X, fds, verbose=False):\n    c = []\n    for size in range(1, len(X)):\n        subsets = findsubsets(X, size) \n        for SA in subsets:      # loop through all the subsets.\n            cl = compute_closure(set(SA), fds, verbose)\n            if len(cl.difference(SA)) > 0: \n                c.extend([(set(SA), cl.difference(SA))])\n    return c",
      "execution_count": 26,
      "outputs": []
    },
    {
      "metadata": {},
      "cell_type": "markdown",
      "source": "Let's see some examples of how to use it:"
    },
    {
      "metadata": {
        "trusted": true
      },
      "cell_type": "code",
      "source": "attributes1 = set(['A', 'B', 'C', 'D'])\nfds1 = [(set(['A', 'B']), 'C'),\n     (set(['A', 'D']), 'B'),\n     (set(['B']), 'D')]\nprint_fds(closure(attributes1, fds1))\n",
      "execution_count": 27,
      "outputs": [
        {
          "output_type": "stream",
          "text": "FDs = \tB -> D\n\tC,B -> D\n\tA,D -> C,B\n\tB,A -> D,C\n\tC,A,D -> B\n\tC,B,A -> D\n\tB,A,D -> C\n",
          "name": "stdout"
        }
      ]
    },
    {
      "metadata": {
        "trusted": true
      },
      "cell_type": "code",
      "source": "attributes2 = set (['CRU', 'TYPE', 'CLIENT', 'REMISE'])\nfds2 = [(set(['CRU']), 'TYPE'),\n     (set(['TYPE', 'CLIENT']), 'REMISE')]\nprint_fds(closure(attributes2, fds2))",
      "execution_count": 28,
      "outputs": [
        {
          "output_type": "stream",
          "text": "FDs = \tCRU -> TYPE\n\tTYPE,CLIENT -> REMISE\n\tCRU,CLIENT -> REMISE,TYPE\n\tCRU,REMISE -> TYPE\n\tCRU,TYPE,CLIENT -> REMISE\n\tCRU,REMISE,CLIENT -> TYPE\n",
          "name": "stdout"
        }
      ]
    },
    {
      "metadata": {
        "trusted": true
      },
      "cell_type": "code",
      "source": "attributes3 = set( ['N VEH', 'TYPE', 'COULEUR', 'MARQUE', 'PUISSANCE'])\nfds3 = [(set(['N VEH']), 'TYPE'), \n      (set(['N VEH']), 'COULEUR'),\n      (set(['TYPE']), 'MARQUE'),\n      (set(['TYPE']), 'PUISSANCE')]\nprint_fds(closure(attributes3,fds3))",
      "execution_count": 29,
      "outputs": [
        {
          "output_type": "stream",
          "text": "FDs = \tTYPE -> PUISSANCE,MARQUE\n\tN VEH -> PUISSANCE,TYPE,MARQUE,COULEUR\n\tN VEH,TYPE -> PUISSANCE,MARQUE,COULEUR\n\tPUISSANCE,TYPE -> MARQUE\n\tN VEH,MARQUE -> PUISSANCE,TYPE,COULEUR\n\tN VEH,COULEUR -> PUISSANCE,TYPE,MARQUE\n\tTYPE,COULEUR -> PUISSANCE,MARQUE\n\tPUISSANCE,N VEH -> TYPE,MARQUE,COULEUR\n\tMARQUE,TYPE -> PUISSANCE\n\tPUISSANCE,N VEH,MARQUE -> TYPE,COULEUR\n\tPUISSANCE,TYPE,COULEUR -> MARQUE\n\tMARQUE,TYPE,COULEUR -> PUISSANCE\n\tN VEH,MARQUE,COULEUR -> PUISSANCE,TYPE\n\tN VEH,MARQUE,TYPE -> PUISSANCE,COULEUR\n\tN VEH,TYPE,COULEUR -> PUISSANCE,MARQUE\n\tPUISSANCE,N VEH,TYPE -> MARQUE,COULEUR\n\tPUISSANCE,N VEH,COULEUR -> TYPE,MARQUE\n\tN VEH,MARQUE,TYPE,COULEUR -> PUISSANCE\n\tPUISSANCE,N VEH,MARQUE,COULEUR -> TYPE\n\tPUISSANCE,N VEH,MARQUE,TYPE -> COULEUR\n\tPUISSANCE,N VEH,TYPE,COULEUR -> MARQUE\n",
          "name": "stdout"
        }
      ]
    },
    {
      "metadata": {},
      "cell_type": "markdown",
      "source": "Now, let's write a method to find superkeys of the relations:\n"
    },
    {
      "metadata": {
        "trusted": true
      },
      "cell_type": "code",
      "source": "def superkeys(X, fds, verbose=False):\n    c = []\n    for size in range(1, len(X)):\n        subsets = findsubsets(X, size)\n        for SA in subsets:\n            cl = compute_closure(set(SA), fds, verbose)\n            if cl == X and len(cl.difference(SA)) > 0: ## cl = X\n                c.extend([SA])\n    return c",
      "execution_count": 30,
      "outputs": []
    },
    {
      "metadata": {
        "trusted": true
      },
      "cell_type": "code",
      "source": "superkeys(attributes1, fds1)\n",
      "execution_count": 31,
      "outputs": [
        {
          "output_type": "execute_result",
          "execution_count": 31,
          "data": {
            "text/plain": "[('A', 'D'), ('B', 'A'), ('C', 'A', 'D'), ('C', 'B', 'A'), ('B', 'A', 'D')]"
          },
          "metadata": {}
        }
      ]
    },
    {
      "metadata": {},
      "cell_type": "markdown",
      "source": "Let's see some examples:"
    },
    {
      "metadata": {
        "trusted": true
      },
      "cell_type": "code",
      "source": "superkeys(attributes2, fds2)\n",
      "execution_count": 32,
      "outputs": [
        {
          "output_type": "execute_result",
          "execution_count": 32,
          "data": {
            "text/plain": "[('CRU', 'CLIENT'), ('CRU', 'TYPE', 'CLIENT'), ('CRU', 'REMISE', 'CLIENT')]"
          },
          "metadata": {}
        }
      ]
    },
    {
      "metadata": {
        "trusted": true
      },
      "cell_type": "code",
      "source": "superkeys(attributes3, fds3)",
      "execution_count": 33,
      "outputs": [
        {
          "output_type": "execute_result",
          "execution_count": 33,
          "data": {
            "text/plain": "[('N VEH',),\n ('TYPE', 'N VEH'),\n ('MARQUE', 'N VEH'),\n ('N VEH', 'COULEUR'),\n ('PUISSANCE', 'N VEH'),\n ('MARQUE', 'PUISSANCE', 'N VEH'),\n ('MARQUE', 'N VEH', 'COULEUR'),\n ('TYPE', 'MARQUE', 'N VEH'),\n ('TYPE', 'N VEH', 'COULEUR'),\n ('TYPE', 'PUISSANCE', 'N VEH'),\n ('PUISSANCE', 'N VEH', 'COULEUR'),\n ('TYPE', 'MARQUE', 'N VEH', 'COULEUR'),\n ('MARQUE', 'PUISSANCE', 'N VEH', 'COULEUR'),\n ('TYPE', 'MARQUE', 'PUISSANCE', 'N VEH'),\n ('TYPE', 'PUISSANCE', 'N VEH', 'COULEUR')]"
          },
          "metadata": {}
        }
      ]
    },
    {
      "metadata": {},
      "cell_type": "markdown",
      "source": "#### Exercise 5\n\nImplement a `keys` method to find keys of a relation.\n\n**Note**: If there exist multiple keys of a relation, the `keys` method should return at least one of them."
    },
    {
      "metadata": {
        "trusted": true
      },
      "cell_type": "code",
      "source": "def keys(X, fds):\n    c = superkeys(X, fds)\n    c = list(map(lambda x: set(list(x)), c))\n    d = c.copy();\n    for elt in c:\n        for other in c:\n            if elt != other and elt.issubset(other):\n                if other in d:\n                    d.remove(other)\n    return d",
      "execution_count": 102,
      "outputs": []
    },
    {
      "metadata": {},
      "cell_type": "markdown",
      "source": "Test it "
    },
    {
      "metadata": {
        "trusted": true
      },
      "cell_type": "code",
      "source": "a = {'CRU', 'CLIENT'}\nb = {'CRU', 'REMISE', 'CLIENT'}\na.issubset(b)\n",
      "execution_count": 103,
      "outputs": [
        {
          "output_type": "execute_result",
          "execution_count": 103,
          "data": {
            "text/plain": "True"
          },
          "metadata": {}
        }
      ]
    },
    {
      "metadata": {
        "trusted": true
      },
      "cell_type": "code",
      "source": "keys(attributes1, fds1)",
      "execution_count": 104,
      "outputs": [
        {
          "output_type": "execute_result",
          "execution_count": 104,
          "data": {
            "text/plain": "[{'A', 'D'}, {'A', 'B'}]"
          },
          "metadata": {}
        }
      ]
    },
    {
      "metadata": {
        "trusted": true
      },
      "cell_type": "code",
      "source": "keys(attributes2, fds2)",
      "execution_count": 105,
      "outputs": [
        {
          "output_type": "execute_result",
          "execution_count": 105,
          "data": {
            "text/plain": "[{'CLIENT', 'CRU'}]"
          },
          "metadata": {}
        }
      ]
    },
    {
      "metadata": {
        "trusted": true
      },
      "cell_type": "code",
      "source": "keys(attributes3, fds3)",
      "execution_count": 106,
      "outputs": [
        {
          "output_type": "execute_result",
          "execution_count": 106,
          "data": {
            "text/plain": "[{'N VEH'}]"
          },
          "metadata": {}
        }
      ]
    },
    {
      "metadata": {
        "trusted": false
      },
      "cell_type": "code",
      "source": "",
      "execution_count": null,
      "outputs": []
    }
  ],
  "metadata": {
    "anaconda-cloud": {},
    "kernelspec": {
      "name": "python36",
      "display_name": "Python 3.6",
      "language": "python"
    },
    "language_info": {
      "mimetype": "text/x-python",
      "nbconvert_exporter": "python",
      "name": "python",
      "pygments_lexer": "ipython3",
      "version": "3.6.6",
      "file_extension": ".py",
      "codemirror_mode": {
        "version": 3,
        "name": "ipython"
      }
    }
  },
  "nbformat": 4,
  "nbformat_minor": 2
}