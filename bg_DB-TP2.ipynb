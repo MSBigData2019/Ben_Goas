{
  "cells": [
    {
      "metadata": {},
      "cell_type": "markdown",
      "source": "# TP2 - DB Normalization and Querying\n\nThe objectives of this TP are:\n1. Apply normalization 1NF -> 2NF -> 3NF\n2. Perform SQL queries on the normalized database\n\nIn this TP, we will use a database **`wine.db`** (available in the course's website) containing wine information related to 'production' and 'sales'. \n\n> Production <---> Wine <---> Sales\n\n\n---\n\n### Working with db files in Jupyter\n- Python provides an interface for SQLite through the *sqlite3* module\n- The **`%%sql`** magic builds upon it (and other tools) to enable the usage of SQL commands within a Jupyter Notebook as in common SQL clients.\n- Before proceeding, make sure that **`wine.db`** is in the same path as this notebook.\n  - If **`wine.db`** is not in the same path, an empty **`wine.db`** file will be created, resulting in errors in later steps of the TP.\n- The SQLite module in Python commits transactions automatically, this means that any change in the DB is immediately written to the file, e.g. creating/deleting tables.\n  -  For this reason, it is recommended to have a backup of **`wine.db`** as it is provided in the course's website.\n\n---"
    },
    {
      "metadata": {},
      "cell_type": "markdown",
      "source": "**`wine.db`** contains the following unnormalized tables:\n\n<center>**Master1**</center>\n\n|*Attribute*|         *Description*          |\n| -------   |--------------------------------|\n| NV        | Wine number                    |\n| CRU       | Vineyard or group of vineyards |\n| DEGRE     | Alcohol content                |\n| MILL      | Vintage year                   |\n| QTE       | Number of bottles harvested    |\n| NP        | Producer number                |\n| NOM       | Producer's last name           |\n| PRENOM    | Producer's first name          |\n| REGION    | Production region              |\n\nFrom wikipedia:\n\n__Cru__: Often used to indicate a specifically named and legally defined vineyard or ensemble of vineyards and the vines \"which grow on [such] a reputed terroir; by extension of good quality.\" The term is also used to refer to the wine produced from such vines.\n\n\n<center>**Master2**</center>\n\n|*Attribute*|                         *Description*                  |\n| -------   |--------------------------------------------------------|\n| NV        | Wine number                                            |\n| CRU       | Vineyard or group of vineyards                         |\n| DEGRE     | Alcohol content                                        |\n| MILL      | Vintage year                                           |\n| DATES     | Buying date                                            |\n| LIEU      | Place where the wine was sold                          |\n| QTE       | Number of bottles bought                               |\n| NB        | Client (buveur) number                                 |\n| NOM       | Client's last name                                     |\n| PRENOM    | Client's first name                                    |\n| TYPE      | Type of client by volume of purchases                  |\n| REGION    | Administrative Region (different to production region) |\n"
    },
    {
      "metadata": {
        "trusted": true
      },
      "cell_type": "code",
      "source": "import sqlite3    # Python interface for SQLite databases",
      "execution_count": 10,
      "outputs": []
    },
    {
      "metadata": {
        "trusted": true
      },
      "cell_type": "code",
      "source": "def printSchema(connection):\n    # Function to print the DB schema\n    # Source: http://stackoverflow.com/a/35092773/4765776\n    for (tableName,) in connection.execute(\n        \"\"\"\n        select NAME from SQLITE_MASTER where TYPE='table' order by NAME;\n        \"\"\"\n    ):\n        print(\"{}:\".format(tableName))\n        for (\n            columnID, columnName, columnType,\n            columnNotNull, columnDefault, columnPK,\n        ) in connection.execute(\"pragma table_info('{}');\".format(tableName)):\n            print(\"  {id}: {name}({type}){null}{default}{pk}\".format(\n                id=columnID,\n                name=columnName,\n                type=columnType,\n                null=\" not null\" if columnNotNull else \"\",\n                default=\" [{}]\".format(columnDefault) if columnDefault else \"\",\n                pk=\" *{}\".format(columnPK) if columnPK else \"\",\n            ))",
      "execution_count": 11,
      "outputs": []
    },
    {
      "metadata": {
        "trusted": true
      },
      "cell_type": "code",
      "source": "conn = sqlite3.connect('wine.db')\nc = conn.cursor()\nprint(\"Database schema:\")\nprintSchema(conn)           # An usefull way to viualize the content of the database",
      "execution_count": 12,
      "outputs": [
        {
          "output_type": "stream",
          "text": "Database schema:\nMASTER1:\n  0: NV(NUM)\n  1: CRU(TEXT)\n  2: DEGRE(NUM)\n  3: MILL(NUM)\n  4: QTE(NUM)\n  5: NP(NUM)\n  6: NOM(TEXT)\n  7: PRENOM(TEXT)\n  8: REGION(TEXT)\nMASTER2:\n  0: NV(NUM)\n  1: CRU(TEXT)\n  2: DEGRE(NUM)\n  3: MILL(NUM)\n  4: DATES(DATE)\n  5: LIEU(TEXT)\n  6: QTE(NUM)\n  7: NB(NUM)\n  8: NOM(TEXT)\n  9: PRENOM(TEXT)\n  10: TYPE(TEXT)\n  11: REGION(TEXT)\nclients:\n  0: NB(NUM)\n  1: NOM(TEXT)\n  2: PRENOM(TEXT)\n  3: TYPE(TEXT)\nproducers:\n  0: NP(NUM)\n  1: NOM(TEXT)\n  2: PRENOM(TEXT)\n  3: REGION(TEXT)\nproduction:\n  0: NP(NUM)\n  1: NV(NUM)\n  2: QTE(NUM)\nsales:\n  0: NV(NUM)\n  1: DATES(NUM)\n  2: LIEU(TEXT)\n  3: QTE(NUM)\n  4: NB(NUM)\nvilles:\n  0: LIEU(TEXT)\n  1: REGION(TEXT)\nwines:\n  0: NV(NUM)\n  1: CRU(TEXT)\n  2: DEGRE(NUM)\n  3: MILL(NUM)\n",
          "name": "stdout"
        }
      ]
    },
    {
      "metadata": {},
      "cell_type": "markdown",
      "source": "From this point we will use __%%sql__ magic"
    },
    {
      "metadata": {
        "trusted": true
      },
      "cell_type": "code",
      "source": "%load_ext sql\n%sql sqlite:///wine.db",
      "execution_count": 13,
      "outputs": [
        {
          "output_type": "execute_result",
          "execution_count": 13,
          "data": {
            "text/plain": "'Connected: @wine.db'"
          },
          "metadata": {}
        }
      ]
    },
    {
      "metadata": {},
      "cell_type": "markdown",
      "source": "# PART I: Database normalization"
    },
    {
      "metadata": {},
      "cell_type": "markdown",
      "source": "The first task on this TP is the normalization of the wine data. In its current state both tables **Master1** and **Master2** are in the First Normal Form (1NF).\n\nBy inspecting the content of these tables we can see that multiple tuples have NULL values."
    },
    {
      "metadata": {
        "trusted": true
      },
      "cell_type": "code",
      "source": "%%sql SELECT *\nFROM Master1 ORDER BY NV;",
      "execution_count": 14,
      "outputs": [
        {
          "output_type": "stream",
          "text": " * sqlite:///wine.db\nDone.\n",
          "name": "stdout"
        },
        {
          "output_type": "execute_result",
          "execution_count": 14,
          "data": {
            "text/html": "<table>\n    <tr>\n        <th>NV</th>\n        <th>CRU</th>\n        <th>DEGRE</th>\n        <th>MILL</th>\n        <th>QTE</th>\n        <th>NP</th>\n        <th>NOM</th>\n        <th>PRENOM</th>\n        <th>REGION</th>\n    </tr>\n    <tr>\n        <td>None</td>\n        <td>None</td>\n        <td>None</td>\n        <td>None</td>\n        <td>None</td>\n        <td>3</td>\n        <td>Six</td>\n        <td>Paul</td>\n        <td>Alsace</td>\n    </tr>\n    <tr>\n        <td>None</td>\n        <td>None</td>\n        <td>None</td>\n        <td>None</td>\n        <td>None</td>\n        <td>6</td>\n        <td>Marmagne</td>\n        <td>Bernard</td>\n        <td>Bourgogne</td>\n    </tr>\n    <tr>\n        <td>None</td>\n        <td>None</td>\n        <td>None</td>\n        <td>None</td>\n        <td>None</td>\n        <td>8</td>\n        <td>Lioger d&#x27;Harduy</td>\n        <td>Gabriel</td>\n        <td>Bourgogne</td>\n    </tr>\n    <tr>\n        <td>None</td>\n        <td>None</td>\n        <td>None</td>\n        <td>None</td>\n        <td>None</td>\n        <td>16</td>\n        <td>Barbin</td>\n        <td>Bernard</td>\n        <td>Bourgogne</td>\n    </tr>\n    <tr>\n        <td>None</td>\n        <td>None</td>\n        <td>None</td>\n        <td>None</td>\n        <td>None</td>\n        <td>17</td>\n        <td>Faiveley</td>\n        <td>Guy</td>\n        <td>Bourgogne</td>\n    </tr>\n    <tr>\n        <td>None</td>\n        <td>None</td>\n        <td>None</td>\n        <td>None</td>\n        <td>None</td>\n        <td>18</td>\n        <td>Tramier</td>\n        <td>Jean</td>\n        <td>Bourgogne</td>\n    </tr>\n    <tr>\n        <td>None</td>\n        <td>None</td>\n        <td>None</td>\n        <td>None</td>\n        <td>None</td>\n        <td>19</td>\n        <td>Dupaquier</td>\n        <td>Roger</td>\n        <td>Bourgogne</td>\n    </tr>\n    <tr>\n        <td>None</td>\n        <td>None</td>\n        <td>None</td>\n        <td>None</td>\n        <td>None</td>\n        <td>20</td>\n        <td>Lamy</td>\n        <td>Jean</td>\n        <td>Bourgogne</td>\n    </tr>\n    <tr>\n        <td>None</td>\n        <td>None</td>\n        <td>None</td>\n        <td>None</td>\n        <td>None</td>\n        <td>21</td>\n        <td>Cornu</td>\n        <td>Edmond</td>\n        <td>Bourgogne</td>\n    </tr>\n    <tr>\n        <td>None</td>\n        <td>None</td>\n        <td>None</td>\n        <td>None</td>\n        <td>None</td>\n        <td>26</td>\n        <td>Violot</td>\n        <td>Gilbert</td>\n        <td>Bourgogne</td>\n    </tr>\n    <tr>\n        <td>None</td>\n        <td>None</td>\n        <td>None</td>\n        <td>None</td>\n        <td>None</td>\n        <td>28</td>\n        <td>Monnier</td>\n        <td>Rene</td>\n        <td>Bourgogne</td>\n    </tr>\n    <tr>\n        <td>None</td>\n        <td>None</td>\n        <td>None</td>\n        <td>None</td>\n        <td>None</td>\n        <td>29</td>\n        <td>de Suremain</td>\n        <td>Robert</td>\n        <td>Bourgogne</td>\n    </tr>\n    <tr>\n        <td>None</td>\n        <td>None</td>\n        <td>None</td>\n        <td>None</td>\n        <td>None</td>\n        <td>31</td>\n        <td>Prudhon</td>\n        <td>Henri</td>\n        <td>Bourgogne</td>\n    </tr>\n    <tr>\n        <td>None</td>\n        <td>None</td>\n        <td>None</td>\n        <td>None</td>\n        <td>None</td>\n        <td>32</td>\n        <td>Mestre</td>\n        <td>Philippe</td>\n        <td>Bourgogne</td>\n    </tr>\n    <tr>\n        <td>None</td>\n        <td>None</td>\n        <td>None</td>\n        <td>None</td>\n        <td>None</td>\n        <td>33</td>\n        <td>Prieur</td>\n        <td>Guy</td>\n        <td>Bourgogne</td>\n    </tr>\n    <tr>\n        <td>None</td>\n        <td>None</td>\n        <td>None</td>\n        <td>None</td>\n        <td>None</td>\n        <td>34</td>\n        <td>Monnier</td>\n        <td>Rene</td>\n        <td>Bourgogne</td>\n    </tr>\n    <tr>\n        <td>None</td>\n        <td>None</td>\n        <td>None</td>\n        <td>None</td>\n        <td>None</td>\n        <td>37</td>\n        <td>Delagrange Bachelet</td>\n        <td>None</td>\n        <td>Bourgogne</td>\n    </tr>\n    <tr>\n        <td>None</td>\n        <td>None</td>\n        <td>None</td>\n        <td>None</td>\n        <td>None</td>\n        <td>39</td>\n        <td>de Suremin</td>\n        <td>Hugues</td>\n        <td>Bourgogne</td>\n    </tr>\n    <tr>\n        <td>None</td>\n        <td>None</td>\n        <td>None</td>\n        <td>None</td>\n        <td>None</td>\n        <td>41</td>\n        <td>Juillot</td>\n        <td>Michel</td>\n        <td>Bourgogne</td>\n    </tr>\n    <tr>\n        <td>None</td>\n        <td>None</td>\n        <td>None</td>\n        <td>None</td>\n        <td>None</td>\n        <td>44</td>\n        <td>Feyveley</td>\n        <td>None</td>\n        <td>Bourgogne</td>\n    </tr>\n    <tr>\n        <td>None</td>\n        <td>None</td>\n        <td>None</td>\n        <td>None</td>\n        <td>None</td>\n        <td>47</td>\n        <td>Thenard</td>\n        <td>None</td>\n        <td>Bourgogne</td>\n    </tr>\n    <tr>\n        <td>None</td>\n        <td>None</td>\n        <td>None</td>\n        <td>None</td>\n        <td>None</td>\n        <td>48</td>\n        <td>Flamand</td>\n        <td>None</td>\n        <td>Bourgogne</td>\n    </tr>\n    <tr>\n        <td>None</td>\n        <td>None</td>\n        <td>None</td>\n        <td>None</td>\n        <td>None</td>\n        <td>49</td>\n        <td>Guillot</td>\n        <td>Pierre</td>\n        <td>Bourgogne</td>\n    </tr>\n    <tr>\n        <td>None</td>\n        <td>None</td>\n        <td>None</td>\n        <td>None</td>\n        <td>None</td>\n        <td>51</td>\n        <td>Simonet</td>\n        <td>Leon</td>\n        <td>Bourgogne</td>\n    </tr>\n    <tr>\n        <td>None</td>\n        <td>None</td>\n        <td>None</td>\n        <td>None</td>\n        <td>None</td>\n        <td>53</td>\n        <td>Cooperative</td>\n        <td>None</td>\n        <td>Bourgogne</td>\n    </tr>\n    <tr>\n        <td>None</td>\n        <td>None</td>\n        <td>None</td>\n        <td>None</td>\n        <td>None</td>\n        <td>57</td>\n        <td>Desmules</td>\n        <td>Pierre</td>\n        <td>Beaujolais</td>\n    </tr>\n    <tr>\n        <td>None</td>\n        <td>None</td>\n        <td>None</td>\n        <td>None</td>\n        <td>None</td>\n        <td>58</td>\n        <td>Joubert</td>\n        <td>Claude</td>\n        <td>Beaujolais</td>\n    </tr>\n    <tr>\n        <td>None</td>\n        <td>None</td>\n        <td>None</td>\n        <td>None</td>\n        <td>None</td>\n        <td>61</td>\n        <td>Champier</td>\n        <td>Charles</td>\n        <td>Beaujolais</td>\n    </tr>\n    <tr>\n        <td>None</td>\n        <td>None</td>\n        <td>None</td>\n        <td>None</td>\n        <td>None</td>\n        <td>62</td>\n        <td>Champagnon</td>\n        <td>Louis</td>\n        <td>Beaujolais</td>\n    </tr>\n    <tr>\n        <td>None</td>\n        <td>None</td>\n        <td>None</td>\n        <td>None</td>\n        <td>None</td>\n        <td>66</td>\n        <td>Cooperative</td>\n        <td>None</td>\n        <td>Beaujolais</td>\n    </tr>\n    <tr>\n        <td>None</td>\n        <td>None</td>\n        <td>None</td>\n        <td>None</td>\n        <td>None</td>\n        <td>77</td>\n        <td>Tissot</td>\n        <td>Andre</td>\n        <td>Jura</td>\n    </tr>\n    <tr>\n        <td>None</td>\n        <td>None</td>\n        <td>None</td>\n        <td>None</td>\n        <td>None</td>\n        <td>83</td>\n        <td>Goy</td>\n        <td>None</td>\n        <td>Jura</td>\n    </tr>\n    <tr>\n        <td>None</td>\n        <td>None</td>\n        <td>None</td>\n        <td>None</td>\n        <td>None</td>\n        <td>91</td>\n        <td>Chave</td>\n        <td>Gerard</td>\n        <td>Rhone</td>\n    </tr>\n    <tr>\n        <td>None</td>\n        <td>None</td>\n        <td>None</td>\n        <td>None</td>\n        <td>None</td>\n        <td>92</td>\n        <td>De Boissieu</td>\n        <td>None</td>\n        <td>Rhone</td>\n    </tr>\n    <tr>\n        <td>None</td>\n        <td>None</td>\n        <td>None</td>\n        <td>None</td>\n        <td>None</td>\n        <td>94</td>\n        <td>Grippat</td>\n        <td>Jean Louis</td>\n        <td>Rhone</td>\n    </tr>\n    <tr>\n        <td>None</td>\n        <td>None</td>\n        <td>None</td>\n        <td>None</td>\n        <td>None</td>\n        <td>96</td>\n        <td>Boisson</td>\n        <td>Jean Pierre</td>\n        <td>Rhone</td>\n    </tr>\n    <tr>\n        <td>None</td>\n        <td>None</td>\n        <td>None</td>\n        <td>None</td>\n        <td>None</td>\n        <td>97</td>\n        <td>Quiot</td>\n        <td>Pierre</td>\n        <td>Rhone</td>\n    </tr>\n    <tr>\n        <td>None</td>\n        <td>None</td>\n        <td>None</td>\n        <td>None</td>\n        <td>None</td>\n        <td>100</td>\n        <td>Bernard</td>\n        <td>Georges</td>\n        <td>Rhone</td>\n    </tr>\n    <tr>\n        <td>None</td>\n        <td>None</td>\n        <td>None</td>\n        <td>None</td>\n        <td>None</td>\n        <td>101</td>\n        <td>Verdan</td>\n        <td>Antoine</td>\n        <td>Rhone</td>\n    </tr>\n    <tr>\n        <td>None</td>\n        <td>None</td>\n        <td>None</td>\n        <td>None</td>\n        <td>None</td>\n        <td>102</td>\n        <td>Cooperative</td>\n        <td>None</td>\n        <td>Rhone</td>\n    </tr>\n    <tr>\n        <td>None</td>\n        <td>None</td>\n        <td>None</td>\n        <td>None</td>\n        <td>None</td>\n        <td>103</td>\n        <td>Coulouvrat</td>\n        <td>Michel</td>\n        <td>Rhone</td>\n    </tr>\n    <tr>\n        <td>None</td>\n        <td>None</td>\n        <td>None</td>\n        <td>None</td>\n        <td>None</td>\n        <td>104</td>\n        <td>Rabasse Chavarin</td>\n        <td>Abel</td>\n        <td>Rhone</td>\n    </tr>\n    <tr>\n        <td>None</td>\n        <td>None</td>\n        <td>None</td>\n        <td>None</td>\n        <td>None</td>\n        <td>105</td>\n        <td>Roux</td>\n        <td>Charles</td>\n        <td>Rhone</td>\n    </tr>\n    <tr>\n        <td>None</td>\n        <td>None</td>\n        <td>None</td>\n        <td>None</td>\n        <td>None</td>\n        <td>106</td>\n        <td>Alary</td>\n        <td>None</td>\n        <td>Rhone</td>\n    </tr>\n    <tr>\n        <td>None</td>\n        <td>None</td>\n        <td>None</td>\n        <td>None</td>\n        <td>None</td>\n        <td>108</td>\n        <td>Archimbaud</td>\n        <td>Jean</td>\n        <td>Rhone</td>\n    </tr>\n    <tr>\n        <td>None</td>\n        <td>None</td>\n        <td>None</td>\n        <td>None</td>\n        <td>None</td>\n        <td>109</td>\n        <td>Rey</td>\n        <td>Marcel</td>\n        <td>Rhone</td>\n    </tr>\n    <tr>\n        <td>None</td>\n        <td>None</td>\n        <td>None</td>\n        <td>None</td>\n        <td>None</td>\n        <td>110</td>\n        <td>Cooperative</td>\n        <td>None</td>\n        <td>Rhone</td>\n    </tr>\n    <tr>\n        <td>None</td>\n        <td>None</td>\n        <td>None</td>\n        <td>None</td>\n        <td>None</td>\n        <td>111</td>\n        <td>Zafiropulo</td>\n        <td>Costa</td>\n        <td>Provence</td>\n    </tr>\n    <tr>\n        <td>None</td>\n        <td>None</td>\n        <td>None</td>\n        <td>None</td>\n        <td>None</td>\n        <td>112</td>\n        <td>Prebost</td>\n        <td>Gaston</td>\n        <td>Provence</td>\n    </tr>\n    <tr>\n        <td>None</td>\n        <td>None</td>\n        <td>None</td>\n        <td>None</td>\n        <td>None</td>\n        <td>113</td>\n        <td>Gomez</td>\n        <td>Rene</td>\n        <td>Provence</td>\n    </tr>\n    <tr>\n        <td>None</td>\n        <td>None</td>\n        <td>None</td>\n        <td>None</td>\n        <td>None</td>\n        <td>114</td>\n        <td>Brunet</td>\n        <td>Georges</td>\n        <td>Provence</td>\n    </tr>\n    <tr>\n        <td>None</td>\n        <td>None</td>\n        <td>None</td>\n        <td>None</td>\n        <td>None</td>\n        <td>115</td>\n        <td>Bordonado</td>\n        <td>Raymond</td>\n        <td>Provence</td>\n    </tr>\n    <tr>\n        <td>None</td>\n        <td>None</td>\n        <td>None</td>\n        <td>None</td>\n        <td>None</td>\n        <td>116</td>\n        <td>Imbert</td>\n        <td>Christian</td>\n        <td>Corse</td>\n    </tr>\n    <tr>\n        <td>None</td>\n        <td>None</td>\n        <td>None</td>\n        <td>None</td>\n        <td>None</td>\n        <td>117</td>\n        <td>Cooperative</td>\n        <td>None</td>\n        <td>Languedoc</td>\n    </tr>\n    <tr>\n        <td>None</td>\n        <td>None</td>\n        <td>None</td>\n        <td>None</td>\n        <td>None</td>\n        <td>118</td>\n        <td>Cooperative</td>\n        <td>None</td>\n        <td>Languedoc</td>\n    </tr>\n    <tr>\n        <td>None</td>\n        <td>None</td>\n        <td>None</td>\n        <td>None</td>\n        <td>None</td>\n        <td>119</td>\n        <td>Cooperative</td>\n        <td>None</td>\n        <td>Pyrenees</td>\n    </tr>\n    <tr>\n        <td>None</td>\n        <td>None</td>\n        <td>None</td>\n        <td>None</td>\n        <td>None</td>\n        <td>121</td>\n        <td>Cooperative</td>\n        <td>None</td>\n        <td>Pyrenees</td>\n    </tr>\n    <tr>\n        <td>None</td>\n        <td>None</td>\n        <td>None</td>\n        <td>None</td>\n        <td>None</td>\n        <td>122</td>\n        <td>Dupuy</td>\n        <td>Charles</td>\n        <td>Pyrenees</td>\n    </tr>\n    <tr>\n        <td>None</td>\n        <td>None</td>\n        <td>None</td>\n        <td>None</td>\n        <td>None</td>\n        <td>123</td>\n        <td>Laurent</td>\n        <td>Pierre</td>\n        <td>Pyrenees</td>\n    </tr>\n    <tr>\n        <td>None</td>\n        <td>None</td>\n        <td>None</td>\n        <td>None</td>\n        <td>None</td>\n        <td>124</td>\n        <td>Daurat Fort</td>\n        <td>Robert</td>\n        <td>Pyrenees</td>\n    </tr>\n    <tr>\n        <td>None</td>\n        <td>None</td>\n        <td>None</td>\n        <td>None</td>\n        <td>None</td>\n        <td>125</td>\n        <td>Baldes</td>\n        <td>Jean</td>\n        <td>Sud</td>\n    </tr>\n    <tr>\n        <td>None</td>\n        <td>None</td>\n        <td>None</td>\n        <td>None</td>\n        <td>None</td>\n        <td>126</td>\n        <td>Jouffreau</td>\n        <td>Jean</td>\n        <td>Sud</td>\n    </tr>\n    <tr>\n        <td>None</td>\n        <td>None</td>\n        <td>None</td>\n        <td>None</td>\n        <td>None</td>\n        <td>127</td>\n        <td>Brumont</td>\n        <td>Alban</td>\n        <td>Sud</td>\n    </tr>\n    <tr>\n        <td>None</td>\n        <td>None</td>\n        <td>None</td>\n        <td>None</td>\n        <td>None</td>\n        <td>129</td>\n        <td>Barrere</td>\n        <td>Alfred</td>\n        <td>Sud</td>\n    </tr>\n    <tr>\n        <td>1</td>\n        <td>Mercurey</td>\n        <td>11.5</td>\n        <td>1980</td>\n        <td>300</td>\n        <td>1</td>\n        <td>Bohn</td>\n        <td>Rene</td>\n        <td>Alsace</td>\n    </tr>\n    <tr>\n        <td>1</td>\n        <td>Mercurey</td>\n        <td>11.5</td>\n        <td>1980</td>\n        <td>1</td>\n        <td>73</td>\n        <td>Bourguignon</td>\n        <td>Emile</td>\n        <td>Jura</td>\n    </tr>\n    <tr>\n        <td>2</td>\n        <td>Julienas</td>\n        <td>11.3</td>\n        <td>1974</td>\n        <td>100</td>\n        <td>5</td>\n        <td>Joudeat</td>\n        <td>Lucien</td>\n        <td>Bourgogne</td>\n    </tr>\n    <tr>\n        <td>3</td>\n        <td>Savigny les Beaunes</td>\n        <td>12.1</td>\n        <td>1978</td>\n        <td>400</td>\n        <td>1</td>\n        <td>Bohn</td>\n        <td>Rene</td>\n        <td>Alsace</td>\n    </tr>\n    <tr>\n        <td>4</td>\n        <td>Mercurey</td>\n        <td>10.9</td>\n        <td>1980</td>\n        <td>35</td>\n        <td>10</td>\n        <td>Fournier</td>\n        <td>Jean Claude</td>\n        <td>Bourgogne</td>\n    </tr>\n    <tr>\n        <td>5</td>\n        <td>Pommard</td>\n        <td>11.7</td>\n        <td>1976</td>\n        <td>46</td>\n        <td>30</td>\n        <td>Desbois</td>\n        <td>Maurice</td>\n        <td>Bourgogne</td>\n    </tr>\n    <tr>\n        <td>6</td>\n        <td>Mercurey</td>\n        <td>11.2</td>\n        <td>1981</td>\n        <td>300</td>\n        <td>42</td>\n        <td>Juillot</td>\n        <td>Maurice</td>\n        <td>Bourgogne</td>\n    </tr>\n    <tr>\n        <td>7</td>\n        <td>Grands Echezeaux</td>\n        <td>11.7</td>\n        <td>1968</td>\n        <td>60</td>\n        <td>98</td>\n        <td>Berard</td>\n        <td>None</td>\n        <td>Rhone</td>\n    </tr>\n    <tr>\n        <td>8</td>\n        <td>Cotes de Beaune Villages</td>\n        <td>12.3</td>\n        <td>1975</td>\n        <td>12</td>\n        <td>90</td>\n        <td>Roure</td>\n        <td>Raymond</td>\n        <td>Rhone</td>\n    </tr>\n    <tr>\n        <td>9</td>\n        <td>Chapelle Chambertin</td>\n        <td>11.9</td>\n        <td>1973</td>\n        <td>None</td>\n        <td>None</td>\n        <td>None</td>\n        <td>None</td>\n        <td>None</td>\n    </tr>\n    <tr>\n        <td>10</td>\n        <td>Beaujolais Villages</td>\n        <td>11.8</td>\n        <td>1979</td>\n        <td>100</td>\n        <td>98</td>\n        <td>Berard</td>\n        <td>None</td>\n        <td>Rhone</td>\n    </tr>\n    <tr>\n        <td>11</td>\n        <td>Sylvaner</td>\n        <td>11.2</td>\n        <td>1982</td>\n        <td>200</td>\n        <td>5</td>\n        <td>Joudeat</td>\n        <td>Lucien</td>\n        <td>Bourgogne</td>\n    </tr>\n    <tr>\n        <td>12</td>\n        <td>Gentil</td>\n        <td>10.7</td>\n        <td>1975</td>\n        <td>31</td>\n        <td>7</td>\n        <td>Lasnier</td>\n        <td>Pierre</td>\n        <td>Bourgogne</td>\n    </tr>\n    <tr>\n        <td>12</td>\n        <td>Gentil</td>\n        <td>10.7</td>\n        <td>1975</td>\n        <td>200</td>\n        <td>43</td>\n        <td>Menand</td>\n        <td>Jean Claude</td>\n        <td>Bourgogne</td>\n    </tr>\n    <tr>\n        <td>12</td>\n        <td>Gentil</td>\n        <td>10.7</td>\n        <td>1975</td>\n        <td>310</td>\n        <td>89</td>\n        <td>Michelas</td>\n        <td>Robert</td>\n        <td>Rhone</td>\n    </tr>\n    <tr>\n        <td>13</td>\n        <td>Cotes du Rhone</td>\n        <td>12.3</td>\n        <td>1968</td>\n        <td>13</td>\n        <td>13</td>\n        <td>Grivot</td>\n        <td>Jean</td>\n        <td>Bourgogne</td>\n    </tr>\n    <tr>\n        <td>14</td>\n        <td>Chateau Chalon</td>\n        <td>10.9</td>\n        <td>1978</td>\n        <td>180</td>\n        <td>86</td>\n        <td>Dumazet</td>\n        <td>Marc</td>\n        <td>Rhone</td>\n    </tr>\n    <tr>\n        <td>15</td>\n        <td>Cote de Brouilly</td>\n        <td>11.9</td>\n        <td>1973</td>\n        <td>290</td>\n        <td>80</td>\n        <td>Devaux</td>\n        <td>Jean Paul</td>\n        <td>Jura</td>\n    </tr>\n    <tr>\n        <td>16</td>\n        <td>Meursault</td>\n        <td>12.1</td>\n        <td>1980</td>\n        <td>100</td>\n        <td>38</td>\n        <td>de Launay</td>\n        <td>Paul</td>\n        <td>Bourgogne</td>\n    </tr>\n    <tr>\n        <td>17</td>\n        <td>Meursault</td>\n        <td>11.4</td>\n        <td>1975</td>\n        <td>50</td>\n        <td>95</td>\n        <td>Verset</td>\n        <td>Louis</td>\n        <td>Rhone</td>\n    </tr>\n    <tr>\n        <td>18</td>\n        <td>Chambolle Musigny</td>\n        <td>12.3</td>\n        <td>1968</td>\n        <td>120</td>\n        <td>40</td>\n        <td>Genelot</td>\n        <td>Maurice</td>\n        <td>Bourgogne</td>\n    </tr>\n    <tr>\n        <td>19</td>\n        <td>Clos du roi</td>\n        <td>11.2</td>\n        <td>1972</td>\n        <td>986</td>\n        <td>7</td>\n        <td>Lasnier</td>\n        <td>Pierre</td>\n        <td>Bourgogne</td>\n    </tr>\n    <tr>\n        <td>20</td>\n        <td>Cote de Brouilly</td>\n        <td>12.1</td>\n        <td>1980</td>\n        <td>100</td>\n        <td>50</td>\n        <td>Chagny</td>\n        <td>Georges</td>\n        <td>Bourgogne</td>\n    </tr>\n    <tr>\n        <td>21</td>\n        <td>Cotes de Nuits</td>\n        <td>None</td>\n        <td>1978</td>\n        <td>150</td>\n        <td>5</td>\n        <td>Joudeat</td>\n        <td>Lucien</td>\n        <td>Bourgogne</td>\n    </tr>\n    <tr>\n        <td>22</td>\n        <td>Savigny les Beaunes</td>\n        <td>None</td>\n        <td>1974</td>\n        <td>50</td>\n        <td>86</td>\n        <td>Dumazet</td>\n        <td>Marc</td>\n        <td>Rhone</td>\n    </tr>\n    <tr>\n        <td>23</td>\n        <td>Pommard</td>\n        <td>None</td>\n        <td>1972</td>\n        <td>15</td>\n        <td>86</td>\n        <td>Dumazet</td>\n        <td>Marc</td>\n        <td>Rhone</td>\n    </tr>\n    <tr>\n        <td>24</td>\n        <td>Cotes de Beaune Villages</td>\n        <td>12.1</td>\n        <td>1971</td>\n        <td>859</td>\n        <td>36</td>\n        <td>Sauzet</td>\n        <td>Etienne</td>\n        <td>Bourgogne</td>\n    </tr>\n    <tr>\n        <td>25</td>\n        <td>Chapelle Chambertin</td>\n        <td>10.5</td>\n        <td>1968</td>\n        <td>40</td>\n        <td>95</td>\n        <td>Verset</td>\n        <td>Louis</td>\n        <td>Rhone</td>\n    </tr>\n    <tr>\n        <td>26</td>\n        <td>Chateau Corton Grancey</td>\n        <td>None</td>\n        <td>1980</td>\n        <td>70</td>\n        <td>43</td>\n        <td>Menand</td>\n        <td>Jean Claude</td>\n        <td>Bourgogne</td>\n    </tr>\n    <tr>\n        <td>27</td>\n        <td>Puligny Montrachet</td>\n        <td>11</td>\n        <td>1974</td>\n        <td>60</td>\n        <td>99</td>\n        <td>Cooperative</td>\n        <td>None</td>\n        <td>Rhone</td>\n    </tr>\n    <tr>\n        <td>28</td>\n        <td>Volnay</td>\n        <td>11</td>\n        <td>1980</td>\n        <td>10</td>\n        <td>50</td>\n        <td>Chagny</td>\n        <td>Georges</td>\n        <td>Bourgogne</td>\n    </tr>\n    <tr>\n        <td>29</td>\n        <td>Corton</td>\n        <td>11.6</td>\n        <td>1972</td>\n        <td>50</td>\n        <td>50</td>\n        <td>Chagny</td>\n        <td>Georges</td>\n        <td>Bourgogne</td>\n    </tr>\n    <tr>\n        <td>30</td>\n        <td>Bourgogne Passe Tout Grains</td>\n        <td>12</td>\n        <td>1979</td>\n        <td>350</td>\n        <td>22</td>\n        <td>Dubreuil Fontaine</td>\n        <td>Pierre</td>\n        <td>Bourgogne</td>\n    </tr>\n    <tr>\n        <td>31</td>\n        <td>Monthelie</td>\n        <td>11.4</td>\n        <td>1968</td>\n        <td>320</td>\n        <td>50</td>\n        <td>Chagny</td>\n        <td>Georges</td>\n        <td>Bourgogne</td>\n    </tr>\n    <tr>\n        <td>32</td>\n        <td>Pouilly Vinzelles</td>\n        <td>12.3</td>\n        <td>1968</td>\n        <td>500</td>\n        <td>9</td>\n        <td>Moniot</td>\n        <td>Gilbert</td>\n        <td>Bourgogne</td>\n    </tr>\n    <tr>\n        <td>32</td>\n        <td>Pouilly Vinzelles</td>\n        <td>12.3</td>\n        <td>1968</td>\n        <td>890</td>\n        <td>72</td>\n        <td>Reverchon</td>\n        <td>Joseph</td>\n        <td>Jura</td>\n    </tr>\n    <tr>\n        <td>33</td>\n        <td>Santenay</td>\n        <td>12</td>\n        <td>1972</td>\n        <td>70</td>\n        <td>60</td>\n        <td>Vernus</td>\n        <td>Georges</td>\n        <td>Beaujolais</td>\n    </tr>\n    <tr>\n        <td>34</td>\n        <td>Montagny</td>\n        <td>11.2</td>\n        <td>1978</td>\n        <td>None</td>\n        <td>4</td>\n        <td>Stentz</td>\n        <td>Fernand</td>\n        <td>Alsace</td>\n    </tr>\n    <tr>\n        <td>35</td>\n        <td>Auxey Duresses</td>\n        <td>11.3</td>\n        <td>1914</td>\n        <td>900</td>\n        <td>10</td>\n        <td>Fournier</td>\n        <td>Jean Claude</td>\n        <td>Bourgogne</td>\n    </tr>\n    <tr>\n        <td>35</td>\n        <td>Auxey Duresses</td>\n        <td>11.3</td>\n        <td>1914</td>\n        <td>350</td>\n        <td>23</td>\n        <td>Laleure</td>\n        <td>None</td>\n        <td>Bourgogne</td>\n    </tr>\n    <tr>\n        <td>36</td>\n        <td>Chorey les Beaunes</td>\n        <td>11</td>\n        <td>1955</td>\n        <td>50</td>\n        <td>93</td>\n        <td>Marsanne</td>\n        <td>Jean</td>\n        <td>Rhone</td>\n    </tr>\n    <tr>\n        <td>37</td>\n        <td>Savigny les Beaunes</td>\n        <td>10</td>\n        <td>1978</td>\n        <td>830</td>\n        <td>54</td>\n        <td>Cooperative</td>\n        <td>None</td>\n        <td>Bourgogne</td>\n    </tr>\n    <tr>\n        <td>38</td>\n        <td>Savigny les Beaunes</td>\n        <td>11</td>\n        <td>1977</td>\n        <td>125</td>\n        <td>52</td>\n        <td>Lapierre</td>\n        <td>Jean</td>\n        <td>Bourgogne</td>\n    </tr>\n    <tr>\n        <td>39</td>\n        <td>Savigny les Beaunes</td>\n        <td>None</td>\n        <td>1973</td>\n        <td>80</td>\n        <td>52</td>\n        <td>Lapierre</td>\n        <td>Jean</td>\n        <td>Bourgogne</td>\n    </tr>\n    <tr>\n        <td>40</td>\n        <td>Richebourg</td>\n        <td>12</td>\n        <td>1943</td>\n        <td>90</td>\n        <td>None</td>\n        <td>None</td>\n        <td>None</td>\n        <td>None</td>\n    </tr>\n    <tr>\n        <td>41</td>\n        <td>Clairette de Die</td>\n        <td>12</td>\n        <td>1976</td>\n        <td>25</td>\n        <td>76</td>\n        <td>Maire</td>\n        <td>Henri</td>\n        <td>Jura</td>\n    </tr>\n    <tr>\n        <td>42</td>\n        <td>Beaujolais Primeur</td>\n        <td>12</td>\n        <td>1983</td>\n        <td>80</td>\n        <td>82</td>\n        <td>Mollex</td>\n        <td>Georges</td>\n        <td>Savoie</td>\n    </tr>\n    <tr>\n        <td>43</td>\n        <td>Fleurie</td>\n        <td>11.4</td>\n        <td>1980</td>\n        <td>500</td>\n        <td>13</td>\n        <td>Grivot</td>\n        <td>Jean</td>\n        <td>Bourgogne</td>\n    </tr>\n    <tr>\n        <td>43</td>\n        <td>Fleurie</td>\n        <td>11.4</td>\n        <td>1980</td>\n        <td>900</td>\n        <td>72</td>\n        <td>Reverchon</td>\n        <td>Joseph</td>\n        <td>Jura</td>\n    </tr>\n    <tr>\n        <td>43</td>\n        <td>Fleurie</td>\n        <td>11.4</td>\n        <td>1980</td>\n        <td>983</td>\n        <td>85</td>\n        <td>Champet</td>\n        <td>Emile</td>\n        <td>Rhone</td>\n    </tr>\n    <tr>\n        <td>44</td>\n        <td>Moulin a vent</td>\n        <td>None</td>\n        <td>1983</td>\n        <td>40</td>\n        <td>93</td>\n        <td>Marsanne</td>\n        <td>Jean</td>\n        <td>Rhone</td>\n    </tr>\n    <tr>\n        <td>45</td>\n        <td>Chiroubles</td>\n        <td>None</td>\n        <td>1983</td>\n        <td>90</td>\n        <td>2</td>\n        <td>Boxler</td>\n        <td>Albert</td>\n        <td>Alsace</td>\n    </tr>\n    <tr>\n        <td>45</td>\n        <td>Chiroubles</td>\n        <td>None</td>\n        <td>1983</td>\n        <td>912</td>\n        <td>67</td>\n        <td>Descombes</td>\n        <td>Jean Ernest</td>\n        <td>Beaujolais</td>\n    </tr>\n    <tr>\n        <td>45</td>\n        <td>Chiroubles</td>\n        <td>None</td>\n        <td>1983</td>\n        <td>98</td>\n        <td>71</td>\n        <td>Chalandard</td>\n        <td>Danile</td>\n        <td>Jura</td>\n    </tr>\n    <tr>\n        <td>45</td>\n        <td>Chiroubles</td>\n        <td>None</td>\n        <td>1983</td>\n        <td>540</td>\n        <td>78</td>\n        <td>Michlel</td>\n        <td>Pierre Emile</td>\n        <td>Jura</td>\n    </tr>\n    <tr>\n        <td>45</td>\n        <td>Chiroubles</td>\n        <td>None</td>\n        <td>1983</td>\n        <td>450</td>\n        <td>86</td>\n        <td>Dumazet</td>\n        <td>Marc</td>\n        <td>Rhone</td>\n    </tr>\n    <tr>\n        <td>46</td>\n        <td>Chiroubles</td>\n        <td>11</td>\n        <td>1983</td>\n        <td>760</td>\n        <td>64</td>\n        <td>Marius Bel Air</td>\n        <td>Morin</td>\n        <td>Beaujolais</td>\n    </tr>\n    <tr>\n        <td>47</td>\n        <td>Chiroubles</td>\n        <td>11</td>\n        <td>1978</td>\n        <td>75</td>\n        <td>52</td>\n        <td>Lapierre</td>\n        <td>Jean</td>\n        <td>Bourgogne</td>\n    </tr>\n    <tr>\n        <td>48</td>\n        <td>Cote de Brouilly</td>\n        <td>12</td>\n        <td>1899</td>\n        <td>70</td>\n        <td>93</td>\n        <td>Marsanne</td>\n        <td>Jean</td>\n        <td>Rhone</td>\n    </tr>\n    <tr>\n        <td>49</td>\n        <td>Morgon</td>\n        <td>12</td>\n        <td>1984</td>\n        <td>150</td>\n        <td>2</td>\n        <td>Boxler</td>\n        <td>Albert</td>\n        <td>Alsace</td>\n    </tr>\n    <tr>\n        <td>50</td>\n        <td>Chenas</td>\n        <td>11.5</td>\n        <td>1984</td>\n        <td>100</td>\n        <td>2</td>\n        <td>Boxler</td>\n        <td>Albert</td>\n        <td>Alsace</td>\n    </tr>\n    <tr>\n        <td>51</td>\n        <td>Chenas</td>\n        <td>10</td>\n        <td>1975</td>\n        <td>36</td>\n        <td>15</td>\n        <td>Drouhin</td>\n        <td>Joseph</td>\n        <td>Bourgogne</td>\n    </tr>\n    <tr>\n        <td>52</td>\n        <td>Brouilly</td>\n        <td>None</td>\n        <td>1975</td>\n        <td>500</td>\n        <td>40</td>\n        <td>Genelot</td>\n        <td>Maurice</td>\n        <td>Bourgogne</td>\n    </tr>\n    <tr>\n        <td>53</td>\n        <td>Beaujolais Villages</td>\n        <td>None</td>\n        <td>1975</td>\n        <td>800</td>\n        <td>40</td>\n        <td>Genelot</td>\n        <td>Maurice</td>\n        <td>Bourgogne</td>\n    </tr>\n    <tr>\n        <td>54</td>\n        <td>Beaujolais Villages</td>\n        <td>10.5</td>\n        <td>1976</td>\n        <td>500</td>\n        <td>1</td>\n        <td>Bohn</td>\n        <td>Rene</td>\n        <td>Alsace</td>\n    </tr>\n    <tr>\n        <td>54</td>\n        <td>Beaujolais Villages</td>\n        <td>10.5</td>\n        <td>1976</td>\n        <td>900</td>\n        <td>2</td>\n        <td>Boxler</td>\n        <td>Albert</td>\n        <td>Alsace</td>\n    </tr>\n    <tr>\n        <td>54</td>\n        <td>Beaujolais Villages</td>\n        <td>10.5</td>\n        <td>1976</td>\n        <td>500</td>\n        <td>14</td>\n        <td>Jayer</td>\n        <td>Henri</td>\n        <td>Bourgogne</td>\n    </tr>\n    <tr>\n        <td>54</td>\n        <td>Beaujolais Villages</td>\n        <td>10.5</td>\n        <td>1976</td>\n        <td>210</td>\n        <td>None</td>\n        <td>None</td>\n        <td>None</td>\n        <td>None</td>\n    </tr>\n    <tr>\n        <td>55</td>\n        <td>Beaujolais Villages</td>\n        <td>12.1</td>\n        <td>1978</td>\n        <td>450</td>\n        <td>14</td>\n        <td>Jayer</td>\n        <td>Henri</td>\n        <td>Bourgogne</td>\n    </tr>\n    <tr>\n        <td>56</td>\n        <td>Saint Amour</td>\n        <td>None</td>\n        <td>1974</td>\n        <td>790</td>\n        <td>24</td>\n        <td>Guillemot</td>\n        <td>Pierre</td>\n        <td>Bourgogne</td>\n    </tr>\n    <tr>\n        <td>57</td>\n        <td>Crozes Hermitage</td>\n        <td>12.1</td>\n        <td>1974</td>\n        <td>940</td>\n        <td>40</td>\n        <td>Genelot</td>\n        <td>Maurice</td>\n        <td>Bourgogne</td>\n    </tr>\n    <tr>\n        <td>58</td>\n        <td>Crozes Hermitage</td>\n        <td>12.5</td>\n        <td>1975</td>\n        <td>70</td>\n        <td>45</td>\n        <td>Jeannin</td>\n        <td>Andre</td>\n        <td>Bourgogne</td>\n    </tr>\n    <tr>\n        <td>59</td>\n        <td>Crozes - Hermitage</td>\n        <td>12.3</td>\n        <td>1972</td>\n        <td>160</td>\n        <td>45</td>\n        <td>Jeannin</td>\n        <td>Andre</td>\n        <td>Bourgogne</td>\n    </tr>\n    <tr>\n        <td>60</td>\n        <td>Crozes-Hermitage</td>\n        <td>11</td>\n        <td>1983</td>\n        <td>300</td>\n        <td>50</td>\n        <td>Chagny</td>\n        <td>Georges</td>\n        <td>Bourgogne</td>\n    </tr>\n    <tr>\n        <td>60</td>\n        <td>Crozes-Hermitage</td>\n        <td>11</td>\n        <td>1983</td>\n        <td>60</td>\n        <td>60</td>\n        <td>Vernus</td>\n        <td>Georges</td>\n        <td>Beaujolais</td>\n    </tr>\n    <tr>\n        <td>61</td>\n        <td>Hermitage</td>\n        <td>12</td>\n        <td>1979</td>\n        <td>120</td>\n        <td>90</td>\n        <td>Roure</td>\n        <td>Raymond</td>\n        <td>Rhone</td>\n    </tr>\n    <tr>\n        <td>62</td>\n        <td>Gigondas</td>\n        <td>11</td>\n        <td>1978</td>\n        <td>900</td>\n        <td>60</td>\n        <td>Vernus</td>\n        <td>Georges</td>\n        <td>Beaujolais</td>\n    </tr>\n    <tr>\n        <td>63</td>\n        <td>Coteaux du Tricastin</td>\n        <td>10</td>\n        <td>1978</td>\n        <td>136</td>\n        <td>None</td>\n        <td>None</td>\n        <td>None</td>\n        <td>None</td>\n    </tr>\n    <tr>\n        <td>64</td>\n        <td>Coteaux du Tricastin</td>\n        <td>11</td>\n        <td>1974</td>\n        <td>870</td>\n        <td>72</td>\n        <td>Reverchon</td>\n        <td>Joseph</td>\n        <td>Jura</td>\n    </tr>\n    <tr>\n        <td>64</td>\n        <td>Coteaux du Tricastin</td>\n        <td>11</td>\n        <td>1974</td>\n        <td>980</td>\n        <td>85</td>\n        <td>Champet</td>\n        <td>Emile</td>\n        <td>Rhone</td>\n    </tr>\n    <tr>\n        <td>65</td>\n        <td>Rochgrande</td>\n        <td>10.8</td>\n        <td>1968</td>\n        <td>10</td>\n        <td>12</td>\n        <td>Tortochot</td>\n        <td>Gabriel</td>\n        <td>Bourgogne</td>\n    </tr>\n    <tr>\n        <td>65</td>\n        <td>Rochgrande</td>\n        <td>10.8</td>\n        <td>1968</td>\n        <td>560</td>\n        <td>25</td>\n        <td>Valentin Bouchotte</td>\n        <td>Roger</td>\n        <td>Bourgogne</td>\n    </tr>\n    <tr>\n        <td>66</td>\n        <td>Tavel</td>\n        <td>11</td>\n        <td>1968</td>\n        <td>124</td>\n        <td>None</td>\n        <td>None</td>\n        <td>None</td>\n        <td>None</td>\n    </tr>\n    <tr>\n        <td>67</td>\n        <td>Gewurztraminer</td>\n        <td>12.5</td>\n        <td>1968</td>\n        <td>125</td>\n        <td>5</td>\n        <td>Joudeat</td>\n        <td>Lucien</td>\n        <td>Bourgogne</td>\n    </tr>\n    <tr>\n        <td>67</td>\n        <td>Gewurztraminer</td>\n        <td>12.5</td>\n        <td>1968</td>\n        <td>890</td>\n        <td>10</td>\n        <td>Fournier</td>\n        <td>Jean Claude</td>\n        <td>Bourgogne</td>\n    </tr>\n    <tr>\n        <td>67</td>\n        <td>Gewurztraminer</td>\n        <td>12.5</td>\n        <td>1968</td>\n        <td>760</td>\n        <td>82</td>\n        <td>Mollex</td>\n        <td>Georges</td>\n        <td>Savoie</td>\n    </tr>\n    <tr>\n        <td>68</td>\n        <td>Riesling</td>\n        <td>14</td>\n        <td>1962</td>\n        <td>None</td>\n        <td>12</td>\n        <td>Tortochot</td>\n        <td>Gabriel</td>\n        <td>Bourgogne</td>\n    </tr>\n    <tr>\n        <td>69</td>\n        <td>Tokay d&#x27;Alsace</td>\n        <td>11</td>\n        <td>1982</td>\n        <td>96</td>\n        <td>9</td>\n        <td>Moniot</td>\n        <td>Gilbert</td>\n        <td>Bourgogne</td>\n    </tr>\n    <tr>\n        <td>69</td>\n        <td>Tokay d&#x27;Alsace</td>\n        <td>11</td>\n        <td>1982</td>\n        <td>320</td>\n        <td>12</td>\n        <td>Tortochot</td>\n        <td>Gabriel</td>\n        <td>Bourgogne</td>\n    </tr>\n    <tr>\n        <td>69</td>\n        <td>Tokay d&#x27;Alsace</td>\n        <td>11</td>\n        <td>1982</td>\n        <td>690</td>\n        <td>69</td>\n        <td>Janin</td>\n        <td>Marcel</td>\n        <td>Beaujolais</td>\n    </tr>\n    <tr>\n        <td>70</td>\n        <td>Sylvaner</td>\n        <td>11</td>\n        <td>1982</td>\n        <td>120</td>\n        <td>38</td>\n        <td>de Launay</td>\n        <td>Paul</td>\n        <td>Bourgogne</td>\n    </tr>\n    <tr>\n        <td>71</td>\n        <td>Palette</td>\n        <td>11</td>\n        <td>1981</td>\n        <td>132</td>\n        <td>38</td>\n        <td>de Launay</td>\n        <td>Paul</td>\n        <td>Bourgogne</td>\n    </tr>\n    <tr>\n        <td>72</td>\n        <td>Cassis</td>\n        <td>10</td>\n        <td>1978</td>\n        <td>34</td>\n        <td>52</td>\n        <td>Lapierre</td>\n        <td>Jean</td>\n        <td>Bourgogne</td>\n    </tr>\n    <tr>\n        <td>73</td>\n        <td>Bellet</td>\n        <td>11</td>\n        <td>1976</td>\n        <td>45</td>\n        <td>38</td>\n        <td>de Launay</td>\n        <td>Paul</td>\n        <td>Bourgogne</td>\n    </tr>\n    <tr>\n        <td>74</td>\n        <td>Arbois</td>\n        <td>12</td>\n        <td>1980</td>\n        <td>650</td>\n        <td>70</td>\n        <td>Trichard</td>\n        <td>Benoit</td>\n        <td>Beaujolais</td>\n    </tr>\n    <tr>\n        <td>74</td>\n        <td>Arbois</td>\n        <td>12</td>\n        <td>1980</td>\n        <td>850</td>\n        <td>72</td>\n        <td>Reverchon</td>\n        <td>Joseph</td>\n        <td>Jura</td>\n    </tr>\n    <tr>\n        <td>74</td>\n        <td>Arbois</td>\n        <td>12</td>\n        <td>1980</td>\n        <td>675</td>\n        <td>84</td>\n        <td>Metral</td>\n        <td>Jean</td>\n        <td>Jura</td>\n    </tr>\n    <tr>\n        <td>75</td>\n        <td>Arbois</td>\n        <td>11</td>\n        <td>1976</td>\n        <td>69</td>\n        <td>38</td>\n        <td>de Launay</td>\n        <td>Paul</td>\n        <td>Bourgogne</td>\n    </tr>\n    <tr>\n        <td>76</td>\n        <td>Chateau Chalon</td>\n        <td>12</td>\n        <td>1976</td>\n        <td>100</td>\n        <td>46</td>\n        <td>Monassier</td>\n        <td>Armand</td>\n        <td>Bourgogne</td>\n    </tr>\n    <tr>\n        <td>76</td>\n        <td>Chateau Chalon</td>\n        <td>12</td>\n        <td>1976</td>\n        <td>900</td>\n        <td>85</td>\n        <td>Champet</td>\n        <td>Emile</td>\n        <td>Rhone</td>\n    </tr>\n    <tr>\n        <td>77</td>\n        <td>Etoile</td>\n        <td>11</td>\n        <td>1979</td>\n        <td>100</td>\n        <td>85</td>\n        <td>Champet</td>\n        <td>Emile</td>\n        <td>Rhone</td>\n    </tr>\n    <tr>\n        <td>78</td>\n        <td>Etoile</td>\n        <td>12</td>\n        <td>1980</td>\n        <td>300</td>\n        <td>4</td>\n        <td>Stentz</td>\n        <td>Fernand</td>\n        <td>Alsace</td>\n    </tr>\n    <tr>\n        <td>78</td>\n        <td>Etoile</td>\n        <td>12</td>\n        <td>1980</td>\n        <td>360</td>\n        <td>27</td>\n        <td>Glantenay</td>\n        <td>Louis</td>\n        <td>Bourgogne</td>\n    </tr>\n    <tr>\n        <td>78</td>\n        <td>Etoile</td>\n        <td>12</td>\n        <td>1980</td>\n        <td>900</td>\n        <td>30</td>\n        <td>Desbois</td>\n        <td>Maurice</td>\n        <td>Bourgogne</td>\n    </tr>\n    <tr>\n        <td>78</td>\n        <td>Etoile</td>\n        <td>12</td>\n        <td>1980</td>\n        <td>980</td>\n        <td>68</td>\n        <td>Savoye</td>\n        <td>Louis</td>\n        <td>Beaujolais</td>\n    </tr>\n    <tr>\n        <td>78</td>\n        <td>Etoile</td>\n        <td>12</td>\n        <td>1980</td>\n        <td>970</td>\n        <td>80</td>\n        <td>Devaux</td>\n        <td>Jean Paul</td>\n        <td>Jura</td>\n    </tr>\n    <tr>\n        <td>79</td>\n        <td>Seyssel</td>\n        <td>11</td>\n        <td>1980</td>\n        <td>100</td>\n        <td>74</td>\n        <td>Grand</td>\n        <td>Rene</td>\n        <td>Jura</td>\n    </tr>\n    <tr>\n        <td>79</td>\n        <td>Seyssel</td>\n        <td>11</td>\n        <td>1980</td>\n        <td>79</td>\n        <td>79</td>\n        <td>Petit</td>\n        <td>Gerard</td>\n        <td>Jura</td>\n    </tr>\n    <tr>\n        <td>79</td>\n        <td>Seyssel</td>\n        <td>11</td>\n        <td>1980</td>\n        <td>800</td>\n        <td>81</td>\n        <td>Peltier</td>\n        <td>Pierre</td>\n        <td>Jura</td>\n    </tr>\n    <tr>\n        <td>80</td>\n        <td>Seyssel</td>\n        <td>11</td>\n        <td>1980</td>\n        <td>79</td>\n        <td>90</td>\n        <td>Roure</td>\n        <td>Raymond</td>\n        <td>Rhone</td>\n    </tr>\n    <tr>\n        <td>81</td>\n        <td>Cornas</td>\n        <td>11.1</td>\n        <td>1980</td>\n        <td>24</td>\n        <td>90</td>\n        <td>Roure</td>\n        <td>Raymond</td>\n        <td>Rhone</td>\n    </tr>\n    <tr>\n        <td>82</td>\n        <td>Cornas</td>\n        <td>11</td>\n        <td>1980</td>\n        <td>100</td>\n        <td>43</td>\n        <td>Menand</td>\n        <td>Jean Claude</td>\n        <td>Bourgogne</td>\n    </tr>\n    <tr>\n        <td>82</td>\n        <td>Cornas</td>\n        <td>11</td>\n        <td>1980</td>\n        <td>800</td>\n        <td>80</td>\n        <td>Devaux</td>\n        <td>Jean Paul</td>\n        <td>Jura</td>\n    </tr>\n    <tr>\n        <td>83</td>\n        <td>Saint Amour</td>\n        <td>10</td>\n        <td>1980</td>\n        <td>423</td>\n        <td>95</td>\n        <td>Verset</td>\n        <td>Louis</td>\n        <td>Rhone</td>\n    </tr>\n    <tr>\n        <td>84</td>\n        <td>Rasteau</td>\n        <td>10</td>\n        <td>1980</td>\n        <td>146</td>\n        <td>95</td>\n        <td>Verset</td>\n        <td>Louis</td>\n        <td>Rhone</td>\n    </tr>\n    <tr>\n        <td>85</td>\n        <td>Tavel</td>\n        <td>11</td>\n        <td>1980</td>\n        <td>46</td>\n        <td>55</td>\n        <td>Michon</td>\n        <td>None</td>\n        <td>Beaujolais</td>\n    </tr>\n    <tr>\n        <td>86</td>\n        <td>Tavel</td>\n        <td>11</td>\n        <td>1980</td>\n        <td>500</td>\n        <td>93</td>\n        <td>Marsanne</td>\n        <td>Jean</td>\n        <td>Rhone</td>\n    </tr>\n    <tr>\n        <td>87</td>\n        <td>Cotes de Provence</td>\n        <td>None</td>\n        <td>1980</td>\n        <td>630</td>\n        <td>38</td>\n        <td>de Launay</td>\n        <td>Paul</td>\n        <td>Bourgogne</td>\n    </tr>\n    <tr>\n        <td>87</td>\n        <td>Cotes de Provence</td>\n        <td>None</td>\n        <td>1980</td>\n        <td>680</td>\n        <td>45</td>\n        <td>Jeannin</td>\n        <td>Andre</td>\n        <td>Bourgogne</td>\n    </tr>\n    <tr>\n        <td>87</td>\n        <td>Cotes de Provence</td>\n        <td>None</td>\n        <td>1980</td>\n        <td>900</td>\n        <td>72</td>\n        <td>Reverchon</td>\n        <td>Joseph</td>\n        <td>Jura</td>\n    </tr>\n    <tr>\n        <td>88</td>\n        <td>Cotes de Provence</td>\n        <td>10</td>\n        <td>1976</td>\n        <td>129</td>\n        <td>55</td>\n        <td>Michon</td>\n        <td>None</td>\n        <td>Beaujolais</td>\n    </tr>\n    <tr>\n        <td>89</td>\n        <td>Cotes de Provence</td>\n        <td>11</td>\n        <td>1969</td>\n        <td>150</td>\n        <td>15</td>\n        <td>Drouhin</td>\n        <td>Joseph</td>\n        <td>Bourgogne</td>\n    </tr>\n    <tr>\n        <td>89</td>\n        <td>Cotes de Provence</td>\n        <td>11</td>\n        <td>1969</td>\n        <td>980</td>\n        <td>42</td>\n        <td>Juillot</td>\n        <td>Maurice</td>\n        <td>Bourgogne</td>\n    </tr>\n    <tr>\n        <td>89</td>\n        <td>Cotes de Provence</td>\n        <td>11</td>\n        <td>1969</td>\n        <td>723</td>\n        <td>55</td>\n        <td>Michon</td>\n        <td>None</td>\n        <td>Beaujolais</td>\n    </tr>\n    <tr>\n        <td>89</td>\n        <td>Cotes de Provence</td>\n        <td>11</td>\n        <td>1969</td>\n        <td>980</td>\n        <td>None</td>\n        <td>None</td>\n        <td>None</td>\n        <td>None</td>\n    </tr>\n    <tr>\n        <td>89</td>\n        <td>Cotes de Provence</td>\n        <td>11</td>\n        <td>1969</td>\n        <td>100</td>\n        <td>89</td>\n        <td>Michelas</td>\n        <td>Robert</td>\n        <td>Rhone</td>\n    </tr>\n    <tr>\n        <td>90</td>\n        <td>Palette</td>\n        <td>11</td>\n        <td>1969</td>\n        <td>900</td>\n        <td>56</td>\n        <td>Coutelle</td>\n        <td>Jean</td>\n        <td>Beaujolais</td>\n    </tr>\n    <tr>\n        <td>90</td>\n        <td>Palette</td>\n        <td>11</td>\n        <td>1969</td>\n        <td>40</td>\n        <td>95</td>\n        <td>Verset</td>\n        <td>Louis</td>\n        <td>Rhone</td>\n    </tr>\n    <tr>\n        <td>91</td>\n        <td>Cassis</td>\n        <td>11</td>\n        <td>1979</td>\n        <td>24</td>\n        <td>79</td>\n        <td>Petit</td>\n        <td>Gerard</td>\n        <td>Jura</td>\n    </tr>\n    <tr>\n        <td>92</td>\n        <td>Coteaux de Pierevert</td>\n        <td>None</td>\n        <td>1967</td>\n        <td>900</td>\n        <td>11</td>\n        <td>Clerget</td>\n        <td>Anne</td>\n        <td>Bourgogne</td>\n    </tr>\n    <tr>\n        <td>93</td>\n        <td>Blanquette de Limoux</td>\n        <td>None</td>\n        <td>1978</td>\n        <td>110</td>\n        <td>79</td>\n        <td>Petit</td>\n        <td>Gerard</td>\n        <td>Jura</td>\n    </tr>\n    <tr>\n        <td>94</td>\n        <td>Cotes du Rousillon</td>\n        <td>None</td>\n        <td>1978</td>\n        <td>500</td>\n        <td>11</td>\n        <td>Clerget</td>\n        <td>Anne</td>\n        <td>Bourgogne</td>\n    </tr>\n    <tr>\n        <td>94</td>\n        <td>Cotes du Rousillon</td>\n        <td>None</td>\n        <td>1978</td>\n        <td>180</td>\n        <td>27</td>\n        <td>Glantenay</td>\n        <td>Louis</td>\n        <td>Bourgogne</td>\n    </tr>\n    <tr>\n        <td>95</td>\n        <td>Cotes du Rousillon</td>\n        <td>12</td>\n        <td>1978</td>\n        <td>900</td>\n        <td>95</td>\n        <td>Verset</td>\n        <td>Louis</td>\n        <td>Rhone</td>\n    </tr>\n    <tr>\n        <td>96</td>\n        <td>Saint Chinian</td>\n        <td>11</td>\n        <td>1976</td>\n        <td>370</td>\n        <td>59</td>\n        <td>La Thuilliere</td>\n        <td>Jean</td>\n        <td>Beaujolais</td>\n    </tr>\n    <tr>\n        <td>97</td>\n        <td>Saint Chinian</td>\n        <td>11</td>\n        <td>1976</td>\n        <td>101</td>\n        <td>70</td>\n        <td>Trichard</td>\n        <td>Benoit</td>\n        <td>Beaujolais</td>\n    </tr>\n    <tr>\n        <td>98</td>\n        <td>Corbieres</td>\n        <td>10</td>\n        <td>1978</td>\n        <td>986</td>\n        <td>24</td>\n        <td>Guillemot</td>\n        <td>Pierre</td>\n        <td>Bourgogne</td>\n    </tr>\n    <tr>\n        <td>98</td>\n        <td>Corbieres</td>\n        <td>10</td>\n        <td>1978</td>\n        <td>400</td>\n        <td>35</td>\n        <td>Roulot</td>\n        <td>Guy</td>\n        <td>Bourgogne</td>\n    </tr>\n    <tr>\n        <td>98</td>\n        <td>Corbieres</td>\n        <td>10</td>\n        <td>1978</td>\n        <td>150</td>\n        <td>75</td>\n        <td>Loye</td>\n        <td>Camille</td>\n        <td>Jura</td>\n    </tr>\n    <tr>\n        <td>98</td>\n        <td>Corbieres</td>\n        <td>10</td>\n        <td>1978</td>\n        <td>890</td>\n        <td>76</td>\n        <td>Maire</td>\n        <td>Henri</td>\n        <td>Jura</td>\n    </tr>\n    <tr>\n        <td>98</td>\n        <td>Corbieres</td>\n        <td>10</td>\n        <td>1978</td>\n        <td>340</td>\n        <td>88</td>\n        <td>Begot</td>\n        <td>Albert</td>\n        <td>Rhone</td>\n    </tr>\n    <tr>\n        <td>99</td>\n        <td>Cote Rotie</td>\n        <td>13</td>\n        <td>1994</td>\n        <td>100</td>\n        <td>5</td>\n        <td>Joudeat</td>\n        <td>Lucien</td>\n        <td>Bourgogne</td>\n    </tr>\n    <tr>\n        <td>99</td>\n        <td>Cote Rotie</td>\n        <td>13</td>\n        <td>1994</td>\n        <td>199</td>\n        <td>99</td>\n        <td>Cooperative</td>\n        <td>None</td>\n        <td>Rhone</td>\n    </tr>\n    <tr>\n        <td>100</td>\n        <td>Seyssel</td>\n        <td>11</td>\n        <td>1974</td>\n        <td>100</td>\n        <td>25</td>\n        <td>Valentin Bouchotte</td>\n        <td>Roger</td>\n        <td>Bourgogne</td>\n    </tr>\n    <tr>\n        <td>101</td>\n        <td>Saint Veran</td>\n        <td>12.5</td>\n        <td>1973</td>\n        <td>213</td>\n        <td>70</td>\n        <td>Trichard</td>\n        <td>Benoit</td>\n        <td>Beaujolais</td>\n    </tr>\n    <tr>\n        <td>107</td>\n        <td>Sancerre</td>\n        <td>14</td>\n        <td>1998</td>\n        <td>7000</td>\n        <td>107</td>\n        <td>Meunier</td>\n        <td>Laurent</td>\n        <td>Rhone</td>\n    </tr>\n</table>",
            "text/plain": "[(None, None, None, None, None, 3, 'Six', 'Paul', 'Alsace'),\n (None, None, None, None, None, 6, 'Marmagne', 'Bernard', 'Bourgogne'),\n (None, None, None, None, None, 8, \"Lioger d'Harduy\", 'Gabriel', 'Bourgogne'),\n (None, None, None, None, None, 16, 'Barbin', 'Bernard', 'Bourgogne'),\n (None, None, None, None, None, 17, 'Faiveley', 'Guy', 'Bourgogne'),\n (None, None, None, None, None, 18, 'Tramier', 'Jean', 'Bourgogne'),\n (None, None, None, None, None, 19, 'Dupaquier', 'Roger', 'Bourgogne'),\n (None, None, None, None, None, 20, 'Lamy', 'Jean', 'Bourgogne'),\n (None, None, None, None, None, 21, 'Cornu', 'Edmond', 'Bourgogne'),\n (None, None, None, None, None, 26, 'Violot', 'Gilbert', 'Bourgogne'),\n (None, None, None, None, None, 28, 'Monnier', 'Rene', 'Bourgogne'),\n (None, None, None, None, None, 29, 'de Suremain', 'Robert', 'Bourgogne'),\n (None, None, None, None, None, 31, 'Prudhon', 'Henri', 'Bourgogne'),\n (None, None, None, None, None, 32, 'Mestre', 'Philippe', 'Bourgogne'),\n (None, None, None, None, None, 33, 'Prieur', 'Guy', 'Bourgogne'),\n (None, None, None, None, None, 34, 'Monnier', 'Rene', 'Bourgogne'),\n (None, None, None, None, None, 37, 'Delagrange Bachelet', None, 'Bourgogne'),\n (None, None, None, None, None, 39, 'de Suremin', 'Hugues', 'Bourgogne'),\n (None, None, None, None, None, 41, 'Juillot', 'Michel', 'Bourgogne'),\n (None, None, None, None, None, 44, 'Feyveley', None, 'Bourgogne'),\n (None, None, None, None, None, 47, 'Thenard', None, 'Bourgogne'),\n (None, None, None, None, None, 48, 'Flamand', None, 'Bourgogne'),\n (None, None, None, None, None, 49, 'Guillot', 'Pierre', 'Bourgogne'),\n (None, None, None, None, None, 51, 'Simonet', 'Leon', 'Bourgogne'),\n (None, None, None, None, None, 53, 'Cooperative', None, 'Bourgogne'),\n (None, None, None, None, None, 57, 'Desmules', 'Pierre', 'Beaujolais'),\n (None, None, None, None, None, 58, 'Joubert', 'Claude', 'Beaujolais'),\n (None, None, None, None, None, 61, 'Champier', 'Charles', 'Beaujolais'),\n (None, None, None, None, None, 62, 'Champagnon', 'Louis', 'Beaujolais'),\n (None, None, None, None, None, 66, 'Cooperative', None, 'Beaujolais'),\n (None, None, None, None, None, 77, 'Tissot', 'Andre', 'Jura'),\n (None, None, None, None, None, 83, 'Goy', None, 'Jura'),\n (None, None, None, None, None, 91, 'Chave', 'Gerard', 'Rhone'),\n (None, None, None, None, None, 92, 'De Boissieu', None, 'Rhone'),\n (None, None, None, None, None, 94, 'Grippat', 'Jean Louis', 'Rhone'),\n (None, None, None, None, None, 96, 'Boisson', 'Jean Pierre', 'Rhone'),\n (None, None, None, None, None, 97, 'Quiot', 'Pierre', 'Rhone'),\n (None, None, None, None, None, 100, 'Bernard', 'Georges', 'Rhone'),\n (None, None, None, None, None, 101, 'Verdan', 'Antoine', 'Rhone'),\n (None, None, None, None, None, 102, 'Cooperative', None, 'Rhone'),\n (None, None, None, None, None, 103, 'Coulouvrat', 'Michel', 'Rhone'),\n (None, None, None, None, None, 104, 'Rabasse Chavarin', 'Abel', 'Rhone'),\n (None, None, None, None, None, 105, 'Roux', 'Charles', 'Rhone'),\n (None, None, None, None, None, 106, 'Alary', None, 'Rhone'),\n (None, None, None, None, None, 108, 'Archimbaud', 'Jean', 'Rhone'),\n (None, None, None, None, None, 109, 'Rey', 'Marcel', 'Rhone'),\n (None, None, None, None, None, 110, 'Cooperative', None, 'Rhone'),\n (None, None, None, None, None, 111, 'Zafiropulo', 'Costa', 'Provence'),\n (None, None, None, None, None, 112, 'Prebost', 'Gaston', 'Provence'),\n (None, None, None, None, None, 113, 'Gomez', 'Rene', 'Provence'),\n (None, None, None, None, None, 114, 'Brunet', 'Georges', 'Provence'),\n (None, None, None, None, None, 115, 'Bordonado', 'Raymond', 'Provence'),\n (None, None, None, None, None, 116, 'Imbert', 'Christian', 'Corse'),\n (None, None, None, None, None, 117, 'Cooperative', None, 'Languedoc'),\n (None, None, None, None, None, 118, 'Cooperative', None, 'Languedoc'),\n (None, None, None, None, None, 119, 'Cooperative', None, 'Pyrenees'),\n (None, None, None, None, None, 121, 'Cooperative', None, 'Pyrenees'),\n (None, None, None, None, None, 122, 'Dupuy', 'Charles', 'Pyrenees'),\n (None, None, None, None, None, 123, 'Laurent', 'Pierre', 'Pyrenees'),\n (None, None, None, None, None, 124, 'Daurat Fort', 'Robert', 'Pyrenees'),\n (None, None, None, None, None, 125, 'Baldes', 'Jean', 'Sud'),\n (None, None, None, None, None, 126, 'Jouffreau', 'Jean', 'Sud'),\n (None, None, None, None, None, 127, 'Brumont', 'Alban', 'Sud'),\n (None, None, None, None, None, 129, 'Barrere', 'Alfred', 'Sud'),\n (1, 'Mercurey', 11.5, 1980, 300, 1, 'Bohn', 'Rene', 'Alsace'),\n (1, 'Mercurey', 11.5, 1980, 1, 73, 'Bourguignon', 'Emile', 'Jura'),\n (2, 'Julienas', 11.3, 1974, 100, 5, 'Joudeat', 'Lucien', 'Bourgogne'),\n (3, 'Savigny les Beaunes', 12.1, 1978, 400, 1, 'Bohn', 'Rene', 'Alsace'),\n (4, 'Mercurey', 10.9, 1980, 35, 10, 'Fournier', 'Jean Claude', 'Bourgogne'),\n (5, 'Pommard', 11.7, 1976, 46, 30, 'Desbois', 'Maurice', 'Bourgogne'),\n (6, 'Mercurey', 11.2, 1981, 300, 42, 'Juillot', 'Maurice', 'Bourgogne'),\n (7, 'Grands Echezeaux', 11.7, 1968, 60, 98, 'Berard', None, 'Rhone'),\n (8, 'Cotes de Beaune Villages', 12.3, 1975, 12, 90, 'Roure', 'Raymond', 'Rhone'),\n (9, 'Chapelle Chambertin', 11.9, 1973, None, None, None, None, None),\n (10, 'Beaujolais Villages', 11.8, 1979, 100, 98, 'Berard', None, 'Rhone'),\n (11, 'Sylvaner', 11.2, 1982, 200, 5, 'Joudeat', 'Lucien', 'Bourgogne'),\n (12, 'Gentil', 10.7, 1975, 31, 7, 'Lasnier', 'Pierre', 'Bourgogne'),\n (12, 'Gentil', 10.7, 1975, 200, 43, 'Menand', 'Jean Claude', 'Bourgogne'),\n (12, 'Gentil', 10.7, 1975, 310, 89, 'Michelas', 'Robert', 'Rhone'),\n (13, 'Cotes du Rhone', 12.3, 1968, 13, 13, 'Grivot', 'Jean', 'Bourgogne'),\n (14, 'Chateau Chalon', 10.9, 1978, 180, 86, 'Dumazet', 'Marc', 'Rhone'),\n (15, 'Cote de Brouilly', 11.9, 1973, 290, 80, 'Devaux', 'Jean Paul', 'Jura'),\n (16, 'Meursault', 12.1, 1980, 100, 38, 'de Launay', 'Paul', 'Bourgogne'),\n (17, 'Meursault', 11.4, 1975, 50, 95, 'Verset', 'Louis', 'Rhone'),\n (18, 'Chambolle Musigny', 12.3, 1968, 120, 40, 'Genelot', 'Maurice', 'Bourgogne'),\n (19, 'Clos du roi', 11.2, 1972, 986, 7, 'Lasnier', 'Pierre', 'Bourgogne'),\n (20, 'Cote de Brouilly', 12.1, 1980, 100, 50, 'Chagny', 'Georges', 'Bourgogne'),\n (21, 'Cotes de Nuits', None, 1978, 150, 5, 'Joudeat', 'Lucien', 'Bourgogne'),\n (22, 'Savigny les Beaunes', None, 1974, 50, 86, 'Dumazet', 'Marc', 'Rhone'),\n (23, 'Pommard', None, 1972, 15, 86, 'Dumazet', 'Marc', 'Rhone'),\n (24, 'Cotes de Beaune Villages', 12.1, 1971, 859, 36, 'Sauzet', 'Etienne', 'Bourgogne'),\n (25, 'Chapelle Chambertin', 10.5, 1968, 40, 95, 'Verset', 'Louis', 'Rhone'),\n (26, 'Chateau Corton Grancey', None, 1980, 70, 43, 'Menand', 'Jean Claude', 'Bourgogne'),\n (27, 'Puligny Montrachet', 11, 1974, 60, 99, 'Cooperative', None, 'Rhone'),\n (28, 'Volnay', 11, 1980, 10, 50, 'Chagny', 'Georges', 'Bourgogne'),\n (29, 'Corton', 11.6, 1972, 50, 50, 'Chagny', 'Georges', 'Bourgogne'),\n (30, 'Bourgogne Passe Tout Grains', 12, 1979, 350, 22, 'Dubreuil Fontaine', 'Pierre', 'Bourgogne'),\n (31, 'Monthelie', 11.4, 1968, 320, 50, 'Chagny', 'Georges', 'Bourgogne'),\n (32, 'Pouilly Vinzelles', 12.3, 1968, 500, 9, 'Moniot', 'Gilbert', 'Bourgogne'),\n (32, 'Pouilly Vinzelles', 12.3, 1968, 890, 72, 'Reverchon', 'Joseph', 'Jura'),\n (33, 'Santenay', 12, 1972, 70, 60, 'Vernus', 'Georges', 'Beaujolais'),\n (34, 'Montagny', 11.2, 1978, None, 4, 'Stentz', 'Fernand', 'Alsace'),\n (35, 'Auxey Duresses', 11.3, 1914, 900, 10, 'Fournier', 'Jean Claude', 'Bourgogne'),\n (35, 'Auxey Duresses', 11.3, 1914, 350, 23, 'Laleure', None, 'Bourgogne'),\n (36, 'Chorey les Beaunes', 11, 1955, 50, 93, 'Marsanne', 'Jean', 'Rhone'),\n (37, 'Savigny les Beaunes', 10, 1978, 830, 54, 'Cooperative', None, 'Bourgogne'),\n (38, 'Savigny les Beaunes', 11, 1977, 125, 52, 'Lapierre', 'Jean', 'Bourgogne'),\n (39, 'Savigny les Beaunes', None, 1973, 80, 52, 'Lapierre', 'Jean', 'Bourgogne'),\n (40, 'Richebourg', 12, 1943, 90, None, None, None, None),\n (41, 'Clairette de Die', 12, 1976, 25, 76, 'Maire', 'Henri', 'Jura'),\n (42, 'Beaujolais Primeur', 12, 1983, 80, 82, 'Mollex', 'Georges', 'Savoie'),\n (43, 'Fleurie', 11.4, 1980, 500, 13, 'Grivot', 'Jean', 'Bourgogne'),\n (43, 'Fleurie', 11.4, 1980, 900, 72, 'Reverchon', 'Joseph', 'Jura'),\n (43, 'Fleurie', 11.4, 1980, 983, 85, 'Champet', 'Emile', 'Rhone'),\n (44, 'Moulin a vent', None, 1983, 40, 93, 'Marsanne', 'Jean', 'Rhone'),\n (45, 'Chiroubles', None, 1983, 90, 2, 'Boxler', 'Albert', 'Alsace'),\n (45, 'Chiroubles', None, 1983, 912, 67, 'Descombes', 'Jean Ernest', 'Beaujolais'),\n (45, 'Chiroubles', None, 1983, 98, 71, 'Chalandard', 'Danile', 'Jura'),\n (45, 'Chiroubles', None, 1983, 540, 78, 'Michlel', 'Pierre Emile', 'Jura'),\n (45, 'Chiroubles', None, 1983, 450, 86, 'Dumazet', 'Marc', 'Rhone'),\n (46, 'Chiroubles', 11, 1983, 760, 64, 'Marius Bel Air', 'Morin', 'Beaujolais'),\n (47, 'Chiroubles', 11, 1978, 75, 52, 'Lapierre', 'Jean', 'Bourgogne'),\n (48, 'Cote de Brouilly', 12, 1899, 70, 93, 'Marsanne', 'Jean', 'Rhone'),\n (49, 'Morgon', 12, 1984, 150, 2, 'Boxler', 'Albert', 'Alsace'),\n (50, 'Chenas', 11.5, 1984, 100, 2, 'Boxler', 'Albert', 'Alsace'),\n (51, 'Chenas', 10, 1975, 36, 15, 'Drouhin', 'Joseph', 'Bourgogne'),\n (52, 'Brouilly', None, 1975, 500, 40, 'Genelot', 'Maurice', 'Bourgogne'),\n (53, 'Beaujolais Villages', None, 1975, 800, 40, 'Genelot', 'Maurice', 'Bourgogne'),\n (54, 'Beaujolais Villages', 10.5, 1976, 500, 1, 'Bohn', 'Rene', 'Alsace'),\n (54, 'Beaujolais Villages', 10.5, 1976, 900, 2, 'Boxler', 'Albert', 'Alsace'),\n (54, 'Beaujolais Villages', 10.5, 1976, 500, 14, 'Jayer', 'Henri', 'Bourgogne'),\n (54, 'Beaujolais Villages', 10.5, 1976, 210, None, None, None, None),\n (55, 'Beaujolais Villages', 12.1, 1978, 450, 14, 'Jayer', 'Henri', 'Bourgogne'),\n (56, 'Saint Amour', None, 1974, 790, 24, 'Guillemot', 'Pierre', 'Bourgogne'),\n (57, 'Crozes Hermitage', 12.1, 1974, 940, 40, 'Genelot', 'Maurice', 'Bourgogne'),\n (58, 'Crozes Hermitage', 12.5, 1975, 70, 45, 'Jeannin', 'Andre', 'Bourgogne'),\n (59, 'Crozes - Hermitage', 12.3, 1972, 160, 45, 'Jeannin', 'Andre', 'Bourgogne'),\n (60, 'Crozes-Hermitage', 11, 1983, 300, 50, 'Chagny', 'Georges', 'Bourgogne'),\n (60, 'Crozes-Hermitage', 11, 1983, 60, 60, 'Vernus', 'Georges', 'Beaujolais'),\n (61, 'Hermitage', 12, 1979, 120, 90, 'Roure', 'Raymond', 'Rhone'),\n (62, 'Gigondas', 11, 1978, 900, 60, 'Vernus', 'Georges', 'Beaujolais'),\n (63, 'Coteaux du Tricastin', 10, 1978, 136, None, None, None, None),\n (64, 'Coteaux du Tricastin', 11, 1974, 870, 72, 'Reverchon', 'Joseph', 'Jura'),\n (64, 'Coteaux du Tricastin', 11, 1974, 980, 85, 'Champet', 'Emile', 'Rhone'),\n (65, 'Rochgrande', 10.8, 1968, 10, 12, 'Tortochot', 'Gabriel', 'Bourgogne'),\n (65, 'Rochgrande', 10.8, 1968, 560, 25, 'Valentin Bouchotte', 'Roger', 'Bourgogne'),\n (66, 'Tavel', 11, 1968, 124, None, None, None, None),\n (67, 'Gewurztraminer', 12.5, 1968, 125, 5, 'Joudeat', 'Lucien', 'Bourgogne'),\n (67, 'Gewurztraminer', 12.5, 1968, 890, 10, 'Fournier', 'Jean Claude', 'Bourgogne'),\n (67, 'Gewurztraminer', 12.5, 1968, 760, 82, 'Mollex', 'Georges', 'Savoie'),\n (68, 'Riesling', 14, 1962, None, 12, 'Tortochot', 'Gabriel', 'Bourgogne'),\n (69, \"Tokay d'Alsace\", 11, 1982, 96, 9, 'Moniot', 'Gilbert', 'Bourgogne'),\n (69, \"Tokay d'Alsace\", 11, 1982, 320, 12, 'Tortochot', 'Gabriel', 'Bourgogne'),\n (69, \"Tokay d'Alsace\", 11, 1982, 690, 69, 'Janin', 'Marcel', 'Beaujolais'),\n (70, 'Sylvaner', 11, 1982, 120, 38, 'de Launay', 'Paul', 'Bourgogne'),\n (71, 'Palette', 11, 1981, 132, 38, 'de Launay', 'Paul', 'Bourgogne'),\n (72, 'Cassis', 10, 1978, 34, 52, 'Lapierre', 'Jean', 'Bourgogne'),\n (73, 'Bellet', 11, 1976, 45, 38, 'de Launay', 'Paul', 'Bourgogne'),\n (74, 'Arbois', 12, 1980, 650, 70, 'Trichard', 'Benoit', 'Beaujolais'),\n (74, 'Arbois', 12, 1980, 850, 72, 'Reverchon', 'Joseph', 'Jura'),\n (74, 'Arbois', 12, 1980, 675, 84, 'Metral', 'Jean', 'Jura'),\n (75, 'Arbois', 11, 1976, 69, 38, 'de Launay', 'Paul', 'Bourgogne'),\n (76, 'Chateau Chalon', 12, 1976, 100, 46, 'Monassier', 'Armand', 'Bourgogne'),\n (76, 'Chateau Chalon', 12, 1976, 900, 85, 'Champet', 'Emile', 'Rhone'),\n (77, 'Etoile', 11, 1979, 100, 85, 'Champet', 'Emile', 'Rhone'),\n (78, 'Etoile', 12, 1980, 300, 4, 'Stentz', 'Fernand', 'Alsace'),\n (78, 'Etoile', 12, 1980, 360, 27, 'Glantenay', 'Louis', 'Bourgogne'),\n (78, 'Etoile', 12, 1980, 900, 30, 'Desbois', 'Maurice', 'Bourgogne'),\n (78, 'Etoile', 12, 1980, 980, 68, 'Savoye', 'Louis', 'Beaujolais'),\n (78, 'Etoile', 12, 1980, 970, 80, 'Devaux', 'Jean Paul', 'Jura'),\n (79, 'Seyssel', 11, 1980, 100, 74, 'Grand', 'Rene', 'Jura'),\n (79, 'Seyssel', 11, 1980, 79, 79, 'Petit', 'Gerard', 'Jura'),\n (79, 'Seyssel', 11, 1980, 800, 81, 'Peltier', 'Pierre', 'Jura'),\n (80, 'Seyssel', 11, 1980, 79, 90, 'Roure', 'Raymond', 'Rhone'),\n (81, 'Cornas', 11.1, 1980, 24, 90, 'Roure', 'Raymond', 'Rhone'),\n (82, 'Cornas', 11, 1980, 100, 43, 'Menand', 'Jean Claude', 'Bourgogne'),\n (82, 'Cornas', 11, 1980, 800, 80, 'Devaux', 'Jean Paul', 'Jura'),\n (83, 'Saint Amour', 10, 1980, 423, 95, 'Verset', 'Louis', 'Rhone'),\n (84, 'Rasteau', 10, 1980, 146, 95, 'Verset', 'Louis', 'Rhone'),\n (85, 'Tavel', 11, 1980, 46, 55, 'Michon', None, 'Beaujolais'),\n (86, 'Tavel', 11, 1980, 500, 93, 'Marsanne', 'Jean', 'Rhone'),\n (87, 'Cotes de Provence', None, 1980, 630, 38, 'de Launay', 'Paul', 'Bourgogne'),\n (87, 'Cotes de Provence', None, 1980, 680, 45, 'Jeannin', 'Andre', 'Bourgogne'),\n (87, 'Cotes de Provence', None, 1980, 900, 72, 'Reverchon', 'Joseph', 'Jura'),\n (88, 'Cotes de Provence', 10, 1976, 129, 55, 'Michon', None, 'Beaujolais'),\n (89, 'Cotes de Provence', 11, 1969, 150, 15, 'Drouhin', 'Joseph', 'Bourgogne'),\n (89, 'Cotes de Provence', 11, 1969, 980, 42, 'Juillot', 'Maurice', 'Bourgogne'),\n (89, 'Cotes de Provence', 11, 1969, 723, 55, 'Michon', None, 'Beaujolais'),\n (89, 'Cotes de Provence', 11, 1969, 980, None, None, None, None),\n (89, 'Cotes de Provence', 11, 1969, 100, 89, 'Michelas', 'Robert', 'Rhone'),\n (90, 'Palette', 11, 1969, 900, 56, 'Coutelle', 'Jean', 'Beaujolais'),\n (90, 'Palette', 11, 1969, 40, 95, 'Verset', 'Louis', 'Rhone'),\n (91, 'Cassis', 11, 1979, 24, 79, 'Petit', 'Gerard', 'Jura'),\n (92, 'Coteaux de Pierevert', None, 1967, 900, 11, 'Clerget', 'Anne', 'Bourgogne'),\n (93, 'Blanquette de Limoux', None, 1978, 110, 79, 'Petit', 'Gerard', 'Jura'),\n (94, 'Cotes du Rousillon', None, 1978, 500, 11, 'Clerget', 'Anne', 'Bourgogne'),\n (94, 'Cotes du Rousillon', None, 1978, 180, 27, 'Glantenay', 'Louis', 'Bourgogne'),\n (95, 'Cotes du Rousillon', 12, 1978, 900, 95, 'Verset', 'Louis', 'Rhone'),\n (96, 'Saint Chinian', 11, 1976, 370, 59, 'La Thuilliere', 'Jean', 'Beaujolais'),\n (97, 'Saint Chinian', 11, 1976, 101, 70, 'Trichard', 'Benoit', 'Beaujolais'),\n (98, 'Corbieres', 10, 1978, 986, 24, 'Guillemot', 'Pierre', 'Bourgogne'),\n (98, 'Corbieres', 10, 1978, 400, 35, 'Roulot', 'Guy', 'Bourgogne'),\n (98, 'Corbieres', 10, 1978, 150, 75, 'Loye', 'Camille', 'Jura'),\n (98, 'Corbieres', 10, 1978, 890, 76, 'Maire', 'Henri', 'Jura'),\n (98, 'Corbieres', 10, 1978, 340, 88, 'Begot', 'Albert', 'Rhone'),\n (99, 'Cote Rotie', 13, 1994, 100, 5, 'Joudeat', 'Lucien', 'Bourgogne'),\n (99, 'Cote Rotie', 13, 1994, 199, 99, 'Cooperative', None, 'Rhone'),\n (100, 'Seyssel', 11, 1974, 100, 25, 'Valentin Bouchotte', 'Roger', 'Bourgogne'),\n (101, 'Saint Veran', 12.5, 1973, 213, 70, 'Trichard', 'Benoit', 'Beaujolais'),\n (107, 'Sancerre', 14, 1998, 7000, 107, 'Meunier', 'Laurent', 'Rhone')]"
          },
          "metadata": {}
        }
      ]
    },
    {
      "metadata": {},
      "cell_type": "markdown",
      "source": "* Notice that Jupyter *displays* 'None' instead of 'NULL'. \n  - This is only to comply with python notation.\n* To account for NULL values, your SQL queries must test explicitly for 'NULL'.\n\nAnother problem in **Master1** and **Master2** is data redundancy, for example:"
    },
    {
      "metadata": {
        "trusted": true
      },
      "cell_type": "code",
      "source": "%%sql SELECT *\nFROM Master1\nWHERE NV = 45;",
      "execution_count": 15,
      "outputs": [
        {
          "output_type": "stream",
          "text": " * sqlite:///wine.db\nDone.\n",
          "name": "stdout"
        },
        {
          "output_type": "execute_result",
          "execution_count": 15,
          "data": {
            "text/html": "<table>\n    <tr>\n        <th>NV</th>\n        <th>CRU</th>\n        <th>DEGRE</th>\n        <th>MILL</th>\n        <th>QTE</th>\n        <th>NP</th>\n        <th>NOM</th>\n        <th>PRENOM</th>\n        <th>REGION</th>\n    </tr>\n    <tr>\n        <td>45</td>\n        <td>Chiroubles</td>\n        <td>None</td>\n        <td>1983</td>\n        <td>90</td>\n        <td>2</td>\n        <td>Boxler</td>\n        <td>Albert</td>\n        <td>Alsace</td>\n    </tr>\n    <tr>\n        <td>45</td>\n        <td>Chiroubles</td>\n        <td>None</td>\n        <td>1983</td>\n        <td>912</td>\n        <td>67</td>\n        <td>Descombes</td>\n        <td>Jean Ernest</td>\n        <td>Beaujolais</td>\n    </tr>\n    <tr>\n        <td>45</td>\n        <td>Chiroubles</td>\n        <td>None</td>\n        <td>1983</td>\n        <td>98</td>\n        <td>71</td>\n        <td>Chalandard</td>\n        <td>Danile</td>\n        <td>Jura</td>\n    </tr>\n    <tr>\n        <td>45</td>\n        <td>Chiroubles</td>\n        <td>None</td>\n        <td>1983</td>\n        <td>540</td>\n        <td>78</td>\n        <td>Michlel</td>\n        <td>Pierre Emile</td>\n        <td>Jura</td>\n    </tr>\n    <tr>\n        <td>45</td>\n        <td>Chiroubles</td>\n        <td>None</td>\n        <td>1983</td>\n        <td>450</td>\n        <td>86</td>\n        <td>Dumazet</td>\n        <td>Marc</td>\n        <td>Rhone</td>\n    </tr>\n</table>",
            "text/plain": "[(45, 'Chiroubles', None, 1983, 90, 2, 'Boxler', 'Albert', 'Alsace'),\n (45, 'Chiroubles', None, 1983, 912, 67, 'Descombes', 'Jean Ernest', 'Beaujolais'),\n (45, 'Chiroubles', None, 1983, 98, 71, 'Chalandard', 'Danile', 'Jura'),\n (45, 'Chiroubles', None, 1983, 540, 78, 'Michlel', 'Pierre Emile', 'Jura'),\n (45, 'Chiroubles', None, 1983, 450, 86, 'Dumazet', 'Marc', 'Rhone')]"
          },
          "metadata": {}
        }
      ]
    },
    {
      "metadata": {},
      "cell_type": "markdown",
      "source": "---\n\nAdditional resource for Normalization:\n\nhttps://www.youtube.com/watch?v=UrYLYV7WSHM\n\n---"
    },
    {
      "metadata": {},
      "cell_type": "markdown",
      "source": "#### Exercise 1.1\n\nConvert table **Master1** to the Second Normal Form (2NF) or Third Normal Form (3NF) as applicable.\n* Explain your answer\n* List main functional dependencies (not all of them)\n* Describe the schema of new tables and how they relate\n  * You can write Tables as above or you can insert images in the notebook.\n  \nRemember that **`wine.db`** contains information related to wine 'production' and 'sells'.\n\n> Production <---> Wine <---> Sales\n\nA good start point is to look for the 'Wine' attributes.\n\n**Hint:** Look for redundant information between the master tables."
    },
    {
      "metadata": {
        "trusted": true
      },
      "cell_type": "code",
      "source": "%%sql SELECT *\nFROM Master1\nwhere NP is NULL;",
      "execution_count": 16,
      "outputs": [
        {
          "output_type": "stream",
          "text": " * sqlite:///wine.db\nDone.\n",
          "name": "stdout"
        },
        {
          "output_type": "execute_result",
          "execution_count": 16,
          "data": {
            "text/html": "<table>\n    <tr>\n        <th>NV</th>\n        <th>CRU</th>\n        <th>DEGRE</th>\n        <th>MILL</th>\n        <th>QTE</th>\n        <th>NP</th>\n        <th>NOM</th>\n        <th>PRENOM</th>\n        <th>REGION</th>\n    </tr>\n    <tr>\n        <td>9</td>\n        <td>Chapelle Chambertin</td>\n        <td>11.9</td>\n        <td>1973</td>\n        <td>None</td>\n        <td>None</td>\n        <td>None</td>\n        <td>None</td>\n        <td>None</td>\n    </tr>\n    <tr>\n        <td>40</td>\n        <td>Richebourg</td>\n        <td>12</td>\n        <td>1943</td>\n        <td>90</td>\n        <td>None</td>\n        <td>None</td>\n        <td>None</td>\n        <td>None</td>\n    </tr>\n    <tr>\n        <td>54</td>\n        <td>Beaujolais Villages</td>\n        <td>10.5</td>\n        <td>1976</td>\n        <td>210</td>\n        <td>None</td>\n        <td>None</td>\n        <td>None</td>\n        <td>None</td>\n    </tr>\n    <tr>\n        <td>63</td>\n        <td>Coteaux du Tricastin</td>\n        <td>10</td>\n        <td>1978</td>\n        <td>136</td>\n        <td>None</td>\n        <td>None</td>\n        <td>None</td>\n        <td>None</td>\n    </tr>\n    <tr>\n        <td>66</td>\n        <td>Tavel</td>\n        <td>11</td>\n        <td>1968</td>\n        <td>124</td>\n        <td>None</td>\n        <td>None</td>\n        <td>None</td>\n        <td>None</td>\n    </tr>\n    <tr>\n        <td>89</td>\n        <td>Cotes de Provence</td>\n        <td>11</td>\n        <td>1969</td>\n        <td>980</td>\n        <td>None</td>\n        <td>None</td>\n        <td>None</td>\n        <td>None</td>\n    </tr>\n</table>",
            "text/plain": "[(9, 'Chapelle Chambertin', 11.9, 1973, None, None, None, None, None),\n (40, 'Richebourg', 12, 1943, 90, None, None, None, None),\n (54, 'Beaujolais Villages', 10.5, 1976, 210, None, None, None, None),\n (63, 'Coteaux du Tricastin', 10, 1978, 136, None, None, None, None),\n (66, 'Tavel', 11, 1968, 124, None, None, None, None),\n (89, 'Cotes de Provence', 11, 1969, 980, None, None, None, None)]"
          },
          "metadata": {}
        }
      ]
    },
    {
      "metadata": {},
      "cell_type": "raw",
      "source": "Separate in 3 tables as \nwines: NV, CRU, DEGRE, MILL\nproducers: NP, NOM, PRENOM, REGION\nproduction: NV, NP, QTE\n\nNV implying the other wine attributes (functional dependencies),\nNP implying the producer attributes\nbut each producer can have produced several wines (eg 1 -> 1,3,54) in different quantities\nand each wine may have been produces by several producers in different quantities"
    },
    {
      "metadata": {
        "trusted": true
      },
      "cell_type": "code",
      "source": "%%sql SELECT DISTINCT COUNT(NP)\nFROM Master1\nwhere NP is NOT NULL;",
      "execution_count": 17,
      "outputs": [
        {
          "output_type": "stream",
          "text": " * sqlite:///wine.db\nDone.\n",
          "name": "stdout"
        },
        {
          "output_type": "execute_result",
          "execution_count": 17,
          "data": {
            "text/html": "<table>\n    <tr>\n        <th>COUNT(NP)</th>\n    </tr>\n    <tr>\n        <td>204</td>\n    </tr>\n</table>",
            "text/plain": "[(204,)]"
          },
          "metadata": {}
        }
      ]
    },
    {
      "metadata": {},
      "cell_type": "markdown",
      "source": "#### Exercise 1.2\n\nConvert table **Master2** to the Second Normal Form (2NF) or Third Normal Form (3NF) as applicable.\n* Explain your answer\n* List main functional dependencies (not all of them)\n* Describe the schema of new tables and how they relate\n  * You can write Tables as above or you can insert images in the notebook.\n\n**Note:** For this part, consider that a wine can be bought in multiple locations and multiple times per day."
    },
    {
      "metadata": {
        "trusted": true
      },
      "cell_type": "code",
      "source": "%%sql SELECT *\nFROM Master2\nWHERE LIEU IS NOT NULL\nORDER BY REGION, LIEU\nLIMIT 40;",
      "execution_count": 18,
      "outputs": [
        {
          "output_type": "stream",
          "text": " * sqlite:///wine.db\nDone.\n",
          "name": "stdout"
        },
        {
          "output_type": "execute_result",
          "execution_count": 18,
          "data": {
            "text/html": "<table>\n    <tr>\n        <th>NV</th>\n        <th>CRU</th>\n        <th>DEGRE</th>\n        <th>MILL</th>\n        <th>DATES</th>\n        <th>LIEU</th>\n        <th>QTE</th>\n        <th>NB</th>\n        <th>NOM</th>\n        <th>PRENOM</th>\n        <th>TYPE</th>\n        <th>REGION</th>\n    </tr>\n    <tr>\n        <td>2</td>\n        <td>Julienas</td>\n        <td>11.3</td>\n        <td>1974</td>\n        <td>1983-12-25</td>\n        <td>LYON</td>\n        <td>2</td>\n        <td>48</td>\n        <td>Hardy</td>\n        <td>Thomas</td>\n        <td>moyen</td>\n        <td>&nbsp;&nbsp;AUVERGNE-RHÔNE-ALPES</td>\n    </tr>\n    <tr>\n        <td>9</td>\n        <td>Chapelle Chambertin</td>\n        <td>11.9</td>\n        <td>1973</td>\n        <td>1982-03-26</td>\n        <td>LYON</td>\n        <td>20</td>\n        <td>5</td>\n        <td>Audiberti</td>\n        <td>Jacques</td>\n        <td>petit</td>\n        <td>&nbsp;&nbsp;AUVERGNE-RHÔNE-ALPES</td>\n    </tr>\n    <tr>\n        <td>10</td>\n        <td>Beaujolais Villages</td>\n        <td>11.8</td>\n        <td>1979</td>\n        <td>1983-06-06</td>\n        <td>LYON</td>\n        <td>10</td>\n        <td>5</td>\n        <td>Audiberti</td>\n        <td>Jacques</td>\n        <td>petit</td>\n        <td>&nbsp;&nbsp;AUVERGNE-RHÔNE-ALPES</td>\n    </tr>\n    <tr>\n        <td>31</td>\n        <td>Monthelie</td>\n        <td>11.4</td>\n        <td>1968</td>\n        <td>1984-12-31</td>\n        <td>LYON</td>\n        <td>6</td>\n        <td>26</td>\n        <td>Diderot</td>\n        <td>Denis</td>\n        <td>moyen</td>\n        <td>&nbsp;&nbsp;AUVERGNE-RHÔNE-ALPES</td>\n    </tr>\n    <tr>\n        <td>31</td>\n        <td>Monthelie</td>\n        <td>11.4</td>\n        <td>1968</td>\n        <td>1978-12-25</td>\n        <td>LYON</td>\n        <td>100</td>\n        <td>28</td>\n        <td>Dostoievsky</td>\n        <td>Fiodor</td>\n        <td>gros</td>\n        <td>&nbsp;&nbsp;AUVERGNE-RHÔNE-ALPES</td>\n    </tr>\n    <tr>\n        <td>35</td>\n        <td>Auxey Duresses</td>\n        <td>11.3</td>\n        <td>1914</td>\n        <td>1981-12-25</td>\n        <td>LYON</td>\n        <td>80</td>\n        <td>30</td>\n        <td>La Fontaine</td>\n        <td>Jean de</td>\n        <td>petit</td>\n        <td>&nbsp;&nbsp;AUVERGNE-RHÔNE-ALPES</td>\n    </tr>\n    <tr>\n        <td>10</td>\n        <td>Beaujolais Villages</td>\n        <td>11.8</td>\n        <td>1979</td>\n        <td>1982-10-30</td>\n        <td>CHALON SUR SAONE</td>\n        <td>500</td>\n        <td>2</td>\n        <td>Artaud</td>\n        <td>Antonin</td>\n        <td>moyen</td>\n        <td> BOURGOGNE-FRANCHE-COMTÉ</td>\n    </tr>\n    <tr>\n        <td>40</td>\n        <td>Richebourg</td>\n        <td>12</td>\n        <td>1943</td>\n        <td>1982-04-02</td>\n        <td>DIJON</td>\n        <td>25</td>\n        <td>17</td>\n        <td>Camus</td>\n        <td>Albert</td>\n        <td>petit</td>\n        <td> BOURGOGNE-FRANCHE-COMTÉ</td>\n    </tr>\n    <tr>\n        <td>40</td>\n        <td>Richebourg</td>\n        <td>12</td>\n        <td>1943</td>\n        <td>1980-12-31</td>\n        <td>DIJON</td>\n        <td>12</td>\n        <td>19</td>\n        <td>Ciceron</td>\n        <td>None</td>\n        <td>gros</td>\n        <td> BOURGOGNE-FRANCHE-COMTÉ</td>\n    </tr>\n    <tr>\n        <td>3</td>\n        <td>Savigny les Beaunes</td>\n        <td>12.1</td>\n        <td>1978</td>\n        <td>1987-12-24</td>\n        <td>MERCUREY</td>\n        <td>5</td>\n        <td>49</td>\n        <td>Kafka</td>\n        <td>Franz</td>\n        <td>petit</td>\n        <td> BOURGOGNE-FRANCHE-COMTÉ</td>\n    </tr>\n    <tr>\n        <td>5</td>\n        <td>Pommard</td>\n        <td>11.7</td>\n        <td>1976</td>\n        <td>1984-11-04</td>\n        <td>MERCUREY</td>\n        <td>50</td>\n        <td>2</td>\n        <td>Artaud</td>\n        <td>Antonin</td>\n        <td>moyen</td>\n        <td> BOURGOGNE-FRANCHE-COMTÉ</td>\n    </tr>\n    <tr>\n        <td>22</td>\n        <td>Savigny les Beaunes</td>\n        <td>None</td>\n        <td>1974</td>\n        <td>1987-12-24</td>\n        <td>PARLY</td>\n        <td>22</td>\n        <td>80</td>\n        <td>Sand</td>\n        <td>Georges</td>\n        <td>petit</td>\n        <td> BOURGOGNE-FRANCHE-COMTÉ</td>\n    </tr>\n    <tr>\n        <td>23</td>\n        <td>Pommard</td>\n        <td>None</td>\n        <td>1972</td>\n        <td>1988-03-20</td>\n        <td>PARLY</td>\n        <td>23</td>\n        <td>82</td>\n        <td>Roussel</td>\n        <td>Rene</td>\n        <td>petit</td>\n        <td> BOURGOGNE-FRANCHE-COMTÉ</td>\n    </tr>\n    <tr>\n        <td>4</td>\n        <td>Mercurey</td>\n        <td>10.9</td>\n        <td>1980</td>\n        <td>1981-06-29</td>\n        <td>SENS</td>\n        <td>4</td>\n        <td>50</td>\n        <td>Lautreamont</td>\n        <td>None</td>\n        <td>moyen</td>\n        <td> BOURGOGNE-FRANCHE-COMTÉ</td>\n    </tr>\n    <tr>\n        <td>41</td>\n        <td>Clairette de Die</td>\n        <td>12</td>\n        <td>1976</td>\n        <td>1985-12-29</td>\n        <td>SENS</td>\n        <td>3</td>\n        <td>94</td>\n        <td>Zola</td>\n        <td>Emile</td>\n        <td>moyen</td>\n        <td> BOURGOGNE-FRANCHE-COMTÉ</td>\n    </tr>\n    <tr>\n        <td>42</td>\n        <td>Beaujolais Primeur</td>\n        <td>12</td>\n        <td>1983</td>\n        <td>1985-07-27</td>\n        <td>SENS</td>\n        <td>3</td>\n        <td>94</td>\n        <td>Zola</td>\n        <td>Emile</td>\n        <td>moyen</td>\n        <td> BOURGOGNE-FRANCHE-COMTÉ</td>\n    </tr>\n    <tr>\n        <td>1</td>\n        <td>Mercurey</td>\n        <td>11.5</td>\n        <td>1980</td>\n        <td>1983-12-31</td>\n        <td>RENNES</td>\n        <td>1</td>\n        <td>45</td>\n        <td>Giono</td>\n        <td>Jean</td>\n        <td>petit</td>\n        <td> BRETAGNE</td>\n    </tr>\n    <tr>\n        <td>6</td>\n        <td>Mercurey</td>\n        <td>11.2</td>\n        <td>1981</td>\n        <td>1978-01-21</td>\n        <td>NANCY</td>\n        <td>36</td>\n        <td>3</td>\n        <td>Aron</td>\n        <td>Raymond</td>\n        <td>gros</td>\n        <td> GRAND EST</td>\n    </tr>\n    <tr>\n        <td>100</td>\n        <td>Seyssel</td>\n        <td>11</td>\n        <td>1974</td>\n        <td>1982-11-05</td>\n        <td>NANCY</td>\n        <td>11</td>\n        <td>40</td>\n        <td>Moliere</td>\n        <td>None</td>\n        <td>petit</td>\n        <td> GRAND EST</td>\n    </tr>\n    <tr>\n        <td>5</td>\n        <td>Pommard</td>\n        <td>11.7</td>\n        <td>1976</td>\n        <td>1983-06-29</td>\n        <td>LILLE</td>\n        <td>5</td>\n        <td>52</td>\n        <td>Carroll</td>\n        <td>Lewis</td>\n        <td>petit</td>\n        <td> HAUTS-DE-FRANCE</td>\n    </tr>\n    <tr>\n        <td>8</td>\n        <td>Cotes de Beaune Villages</td>\n        <td>12.3</td>\n        <td>1975</td>\n        <td>1979-11-01</td>\n        <td>LILLE</td>\n        <td>10</td>\n        <td>9</td>\n        <td>Ajar</td>\n        <td>Emile</td>\n        <td>petit</td>\n        <td> HAUTS-DE-FRANCE</td>\n    </tr>\n    <tr>\n        <td>9</td>\n        <td>Chapelle Chambertin</td>\n        <td>11.9</td>\n        <td>1973</td>\n        <td>1979-05-12</td>\n        <td>LILLE</td>\n        <td>1</td>\n        <td>10</td>\n        <td>Andersen</td>\n        <td>Yann</td>\n        <td>gros</td>\n        <td> HAUTS-DE-FRANCE</td>\n    </tr>\n    <tr>\n        <td>38</td>\n        <td>Savigny les Beaunes</td>\n        <td>11</td>\n        <td>1977</td>\n        <td>1981-08-06</td>\n        <td>CAEN</td>\n        <td>5</td>\n        <td>12</td>\n        <td>Bataille</td>\n        <td>Georges</td>\n        <td>moyen</td>\n        <td> NORMANDIE</td>\n    </tr>\n    <tr>\n        <td>38</td>\n        <td>Savigny les Beaunes</td>\n        <td>11</td>\n        <td>1977</td>\n        <td>1981-05-12</td>\n        <td>CAEN</td>\n        <td>2</td>\n        <td>14</td>\n        <td>Bory</td>\n        <td>Jean Louis</td>\n        <td>gros</td>\n        <td> NORMANDIE</td>\n    </tr>\n    <tr>\n        <td>100</td>\n        <td>Seyssel</td>\n        <td>11</td>\n        <td>1974</td>\n        <td>1983-02-21</td>\n        <td>CAEN</td>\n        <td>3</td>\n        <td>5</td>\n        <td>Audiberti</td>\n        <td>Jacques</td>\n        <td>petit</td>\n        <td> NORMANDIE</td>\n    </tr>\n    <tr>\n        <td>1</td>\n        <td>Mercurey</td>\n        <td>11.5</td>\n        <td>1980</td>\n        <td>1977-11-02</td>\n        <td>BORDEAUX</td>\n        <td>33</td>\n        <td>2</td>\n        <td>Artaud</td>\n        <td>Antonin</td>\n        <td>moyen</td>\n        <td> NOUVELLE-AQUITAINE</td>\n    </tr>\n    <tr>\n        <td>10</td>\n        <td>Beaujolais Villages</td>\n        <td>11.8</td>\n        <td>1979</td>\n        <td>1977-12-31</td>\n        <td>BORDEAUX</td>\n        <td>10</td>\n        <td>3</td>\n        <td>Aron</td>\n        <td>Raymond</td>\n        <td>gros</td>\n        <td> NOUVELLE-AQUITAINE</td>\n    </tr>\n    <tr>\n        <td>4</td>\n        <td>Mercurey</td>\n        <td>10.9</td>\n        <td>1980</td>\n        <td>1982-11-05</td>\n        <td>TOULOUSE</td>\n        <td>12</td>\n        <td>8</td>\n        <td>Aragon</td>\n        <td>Louis</td>\n        <td>gros</td>\n        <td> OCCITANIE</td>\n    </tr>\n    <tr>\n        <td>12</td>\n        <td>Gentil</td>\n        <td>10.7</td>\n        <td>1975</td>\n        <td>1982-11-05</td>\n        <td>TOULOUSE</td>\n        <td>36</td>\n        <td>6</td>\n        <td>Arrabal</td>\n        <td>Fernando</td>\n        <td>gros</td>\n        <td> OCCITANIE</td>\n    </tr>\n    <tr>\n        <td>40</td>\n        <td>Richebourg</td>\n        <td>12</td>\n        <td>1943</td>\n        <td>1982-04-01</td>\n        <td>TOULOUSE</td>\n        <td>1</td>\n        <td>33</td>\n        <td>Flaubert</td>\n        <td>Gustave</td>\n        <td>moyen</td>\n        <td> OCCITANIE</td>\n    </tr>\n    <tr>\n        <td>41</td>\n        <td>Clairette de Die</td>\n        <td>12</td>\n        <td>1976</td>\n        <td>1988-04-01</td>\n        <td>TOULOUSE</td>\n        <td>2</td>\n        <td>31</td>\n        <td>Dante</td>\n        <td>None</td>\n        <td>gros</td>\n        <td> OCCITANIE</td>\n    </tr>\n    <tr>\n        <td>7</td>\n        <td>Grands Echezeaux</td>\n        <td>11.7</td>\n        <td>1968</td>\n        <td>1987-04-28</td>\n        <td>CANNES</td>\n        <td>7</td>\n        <td>58</td>\n        <td>Marivaux</td>\n        <td>Pierre Carlet de Chamblain de</td>\n        <td>gros</td>\n        <td> PROVENCE-ALPES-CÔTE D&#x27;AZUR</td>\n    </tr>\n    <tr>\n        <td>21</td>\n        <td>Cotes de Nuits</td>\n        <td>None</td>\n        <td>1978</td>\n        <td>1987-04-05</td>\n        <td>CANNES</td>\n        <td>21</td>\n        <td>62</td>\n        <td>Proust</td>\n        <td>Marcel</td>\n        <td>moyen</td>\n        <td> PROVENCE-ALPES-CÔTE D&#x27;AZUR</td>\n    </tr>\n    <tr>\n        <td>100</td>\n        <td>Seyssel</td>\n        <td>11</td>\n        <td>1974</td>\n        <td>1982-11-04</td>\n        <td>CANNES</td>\n        <td>10</td>\n        <td>41</td>\n        <td>Gauthier</td>\n        <td>Theophile</td>\n        <td>petit</td>\n        <td> PROVENCE-ALPES-CÔTE D&#x27;AZUR</td>\n    </tr>\n    <tr>\n        <td>3</td>\n        <td>Savigny les Beaunes</td>\n        <td>12.1</td>\n        <td>1978</td>\n        <td>1978-11-01</td>\n        <td>NICE</td>\n        <td>6</td>\n        <td>7</td>\n        <td>Anouilh</td>\n        <td>Jean</td>\n        <td>moyen</td>\n        <td> PROVENCE-ALPES-CÔTE D&#x27;AZUR</td>\n    </tr>\n    <tr>\n        <td>20</td>\n        <td>Cote de Brouilly</td>\n        <td>12.1</td>\n        <td>1980</td>\n        <td>1978-06-12</td>\n        <td>NICE</td>\n        <td>20</td>\n        <td>61</td>\n        <td>Mallarme</td>\n        <td>Stephane</td>\n        <td>petit</td>\n        <td> PROVENCE-ALPES-CÔTE D&#x27;AZUR</td>\n    </tr>\n    <tr>\n        <td>40</td>\n        <td>Richebourg</td>\n        <td>12</td>\n        <td>1943</td>\n        <td>1982-03-25</td>\n        <td>NICE</td>\n        <td>30</td>\n        <td>15</td>\n        <td>Baudelaire</td>\n        <td>Charles</td>\n        <td>petit</td>\n        <td> PROVENCE-ALPES-CÔTE D&#x27;AZUR</td>\n    </tr>\n    <tr>\n        <td>8</td>\n        <td>Cotes de Beaune Villages</td>\n        <td>12.3</td>\n        <td>1975</td>\n        <td>1980-05-12</td>\n        <td>TOULON</td>\n        <td>8</td>\n        <td>60</td>\n        <td>Ovide</td>\n        <td>None</td>\n        <td>gros</td>\n        <td> PROVENCE-ALPES-CÔTE D&#x27;AZUR</td>\n    </tr>\n    <tr>\n        <td>9</td>\n        <td>Chapelle Chambertin</td>\n        <td>11.9</td>\n        <td>1973</td>\n        <td>1907-04-21</td>\n        <td>TOULON</td>\n        <td>9</td>\n        <td>61</td>\n        <td>Mallarme</td>\n        <td>Stephane</td>\n        <td>petit</td>\n        <td> PROVENCE-ALPES-CÔTE D&#x27;AZUR</td>\n    </tr>\n    <tr>\n        <td>24</td>\n        <td>Cotes de Beaune Villages</td>\n        <td>12.1</td>\n        <td>1971</td>\n        <td>1986-06-12</td>\n        <td>LE CHESNAY</td>\n        <td>14</td>\n        <td>100</td>\n        <td>Woolf</td>\n        <td>Virginia</td>\n        <td>petit</td>\n        <td> ÎLE-DE-FRANCE</td>\n    </tr>\n</table>",
            "text/plain": "[(2, 'Julienas', 11.3, 1974, '1983-12-25', 'LYON', 2, 48, 'Hardy', 'Thomas', 'moyen', '  AUVERGNE-RHÔNE-ALPES'),\n (9, 'Chapelle Chambertin', 11.9, 1973, '1982-03-26', 'LYON', 20, 5, 'Audiberti', 'Jacques', 'petit', '  AUVERGNE-RHÔNE-ALPES'),\n (10, 'Beaujolais Villages', 11.8, 1979, '1983-06-06', 'LYON', 10, 5, 'Audiberti', 'Jacques', 'petit', '  AUVERGNE-RHÔNE-ALPES'),\n (31, 'Monthelie', 11.4, 1968, '1984-12-31', 'LYON', 6, 26, 'Diderot', 'Denis', 'moyen', '  AUVERGNE-RHÔNE-ALPES'),\n (31, 'Monthelie', 11.4, 1968, '1978-12-25', 'LYON', 100, 28, 'Dostoievsky', 'Fiodor', 'gros', '  AUVERGNE-RHÔNE-ALPES'),\n (35, 'Auxey Duresses', 11.3, 1914, '1981-12-25', 'LYON', 80, 30, 'La Fontaine', 'Jean de', 'petit', '  AUVERGNE-RHÔNE-ALPES'),\n (10, 'Beaujolais Villages', 11.8, 1979, '1982-10-30', 'CHALON SUR SAONE', 500, 2, 'Artaud', 'Antonin', 'moyen', ' BOURGOGNE-FRANCHE-COMTÉ'),\n (40, 'Richebourg', 12, 1943, '1982-04-02', 'DIJON', 25, 17, 'Camus', 'Albert', 'petit', ' BOURGOGNE-FRANCHE-COMTÉ'),\n (40, 'Richebourg', 12, 1943, '1980-12-31', 'DIJON', 12, 19, 'Ciceron', None, 'gros', ' BOURGOGNE-FRANCHE-COMTÉ'),\n (3, 'Savigny les Beaunes', 12.1, 1978, '1987-12-24', 'MERCUREY', 5, 49, 'Kafka', 'Franz', 'petit', ' BOURGOGNE-FRANCHE-COMTÉ'),\n (5, 'Pommard', 11.7, 1976, '1984-11-04', 'MERCUREY', 50, 2, 'Artaud', 'Antonin', 'moyen', ' BOURGOGNE-FRANCHE-COMTÉ'),\n (22, 'Savigny les Beaunes', None, 1974, '1987-12-24', 'PARLY', 22, 80, 'Sand', 'Georges', 'petit', ' BOURGOGNE-FRANCHE-COMTÉ'),\n (23, 'Pommard', None, 1972, '1988-03-20', 'PARLY', 23, 82, 'Roussel', 'Rene', 'petit', ' BOURGOGNE-FRANCHE-COMTÉ'),\n (4, 'Mercurey', 10.9, 1980, '1981-06-29', 'SENS', 4, 50, 'Lautreamont', None, 'moyen', ' BOURGOGNE-FRANCHE-COMTÉ'),\n (41, 'Clairette de Die', 12, 1976, '1985-12-29', 'SENS', 3, 94, 'Zola', 'Emile', 'moyen', ' BOURGOGNE-FRANCHE-COMTÉ'),\n (42, 'Beaujolais Primeur', 12, 1983, '1985-07-27', 'SENS', 3, 94, 'Zola', 'Emile', 'moyen', ' BOURGOGNE-FRANCHE-COMTÉ'),\n (1, 'Mercurey', 11.5, 1980, '1983-12-31', 'RENNES', 1, 45, 'Giono', 'Jean', 'petit', ' BRETAGNE'),\n (6, 'Mercurey', 11.2, 1981, '1978-01-21', 'NANCY', 36, 3, 'Aron', 'Raymond', 'gros', ' GRAND EST'),\n (100, 'Seyssel', 11, 1974, '1982-11-05', 'NANCY', 11, 40, 'Moliere', None, 'petit', ' GRAND EST'),\n (5, 'Pommard', 11.7, 1976, '1983-06-29', 'LILLE', 5, 52, 'Carroll', 'Lewis', 'petit', ' HAUTS-DE-FRANCE'),\n (8, 'Cotes de Beaune Villages', 12.3, 1975, '1979-11-01', 'LILLE', 10, 9, 'Ajar', 'Emile', 'petit', ' HAUTS-DE-FRANCE'),\n (9, 'Chapelle Chambertin', 11.9, 1973, '1979-05-12', 'LILLE', 1, 10, 'Andersen', 'Yann', 'gros', ' HAUTS-DE-FRANCE'),\n (38, 'Savigny les Beaunes', 11, 1977, '1981-08-06', 'CAEN', 5, 12, 'Bataille', 'Georges', 'moyen', ' NORMANDIE'),\n (38, 'Savigny les Beaunes', 11, 1977, '1981-05-12', 'CAEN', 2, 14, 'Bory', 'Jean Louis', 'gros', ' NORMANDIE'),\n (100, 'Seyssel', 11, 1974, '1983-02-21', 'CAEN', 3, 5, 'Audiberti', 'Jacques', 'petit', ' NORMANDIE'),\n (1, 'Mercurey', 11.5, 1980, '1977-11-02', 'BORDEAUX', 33, 2, 'Artaud', 'Antonin', 'moyen', ' NOUVELLE-AQUITAINE'),\n (10, 'Beaujolais Villages', 11.8, 1979, '1977-12-31', 'BORDEAUX', 10, 3, 'Aron', 'Raymond', 'gros', ' NOUVELLE-AQUITAINE'),\n (4, 'Mercurey', 10.9, 1980, '1982-11-05', 'TOULOUSE', 12, 8, 'Aragon', 'Louis', 'gros', ' OCCITANIE'),\n (12, 'Gentil', 10.7, 1975, '1982-11-05', 'TOULOUSE', 36, 6, 'Arrabal', 'Fernando', 'gros', ' OCCITANIE'),\n (40, 'Richebourg', 12, 1943, '1982-04-01', 'TOULOUSE', 1, 33, 'Flaubert', 'Gustave', 'moyen', ' OCCITANIE'),\n (41, 'Clairette de Die', 12, 1976, '1988-04-01', 'TOULOUSE', 2, 31, 'Dante', None, 'gros', ' OCCITANIE'),\n (7, 'Grands Echezeaux', 11.7, 1968, '1987-04-28', 'CANNES', 7, 58, 'Marivaux', 'Pierre Carlet de Chamblain de', 'gros', \" PROVENCE-ALPES-CÔTE D'AZUR\"),\n (21, 'Cotes de Nuits', None, 1978, '1987-04-05', 'CANNES', 21, 62, 'Proust', 'Marcel', 'moyen', \" PROVENCE-ALPES-CÔTE D'AZUR\"),\n (100, 'Seyssel', 11, 1974, '1982-11-04', 'CANNES', 10, 41, 'Gauthier', 'Theophile', 'petit', \" PROVENCE-ALPES-CÔTE D'AZUR\"),\n (3, 'Savigny les Beaunes', 12.1, 1978, '1978-11-01', 'NICE', 6, 7, 'Anouilh', 'Jean', 'moyen', \" PROVENCE-ALPES-CÔTE D'AZUR\"),\n (20, 'Cote de Brouilly', 12.1, 1980, '1978-06-12', 'NICE', 20, 61, 'Mallarme', 'Stephane', 'petit', \" PROVENCE-ALPES-CÔTE D'AZUR\"),\n (40, 'Richebourg', 12, 1943, '1982-03-25', 'NICE', 30, 15, 'Baudelaire', 'Charles', 'petit', \" PROVENCE-ALPES-CÔTE D'AZUR\"),\n (8, 'Cotes de Beaune Villages', 12.3, 1975, '1980-05-12', 'TOULON', 8, 60, 'Ovide', None, 'gros', \" PROVENCE-ALPES-CÔTE D'AZUR\"),\n (9, 'Chapelle Chambertin', 11.9, 1973, '1907-04-21', 'TOULON', 9, 61, 'Mallarme', 'Stephane', 'petit', \" PROVENCE-ALPES-CÔTE D'AZUR\"),\n (24, 'Cotes de Beaune Villages', 12.1, 1971, '1986-06-12', 'LE CHESNAY', 14, 100, 'Woolf', 'Virginia', 'petit', ' ÎLE-DE-FRANCE')]"
          },
          "metadata": {}
        }
      ]
    },
    {
      "metadata": {
        "trusted": true
      },
      "cell_type": "code",
      "source": "%%sql SELECT *\nFROM Master2\nWHERE MILL = 1980\nORDER BY NB\nLIMIT 40;",
      "execution_count": 62,
      "outputs": [
        {
          "output_type": "stream",
          "text": " * sqlite:///wine.db\nDone.\n",
          "name": "stdout"
        },
        {
          "output_type": "execute_result",
          "execution_count": 62,
          "data": {
            "text/html": "<table>\n    <tr>\n        <th>NV</th>\n        <th>CRU</th>\n        <th>DEGRE</th>\n        <th>MILL</th>\n        <th>DATES</th>\n        <th>LIEU</th>\n        <th>QTE</th>\n        <th>NB</th>\n        <th>NOM</th>\n        <th>PRENOM</th>\n        <th>TYPE</th>\n        <th>REGION</th>\n    </tr>\n    <tr>\n        <td>1</td>\n        <td>Mercurey</td>\n        <td>11.5</td>\n        <td>1980</td>\n        <td>1977-11-02</td>\n        <td>BORDEAUX</td>\n        <td>33</td>\n        <td>2</td>\n        <td>Artaud</td>\n        <td>Antonin</td>\n        <td>moyen</td>\n        <td> NOUVELLE-AQUITAINE</td>\n    </tr>\n    <tr>\n        <td>4</td>\n        <td>Mercurey</td>\n        <td>10.9</td>\n        <td>1980</td>\n        <td>1982-11-05</td>\n        <td>TOULOUSE</td>\n        <td>12</td>\n        <td>8</td>\n        <td>Aragon</td>\n        <td>Louis</td>\n        <td>gros</td>\n        <td> OCCITANIE</td>\n    </tr>\n    <tr>\n        <td>1</td>\n        <td>Mercurey</td>\n        <td>11.5</td>\n        <td>1980</td>\n        <td>2015-10-16</td>\n        <td>PARIS</td>\n        <td>1</td>\n        <td>44</td>\n        <td>Gide</td>\n        <td>Andre</td>\n        <td>petit</td>\n        <td> ÎLE-DE-FRANCE</td>\n    </tr>\n    <tr>\n        <td>4</td>\n        <td>Mercurey</td>\n        <td>10.9</td>\n        <td>1980</td>\n        <td>2015-10-16</td>\n        <td>PARIS</td>\n        <td>6</td>\n        <td>44</td>\n        <td>Gide</td>\n        <td>Andre</td>\n        <td>petit</td>\n        <td> ÎLE-DE-FRANCE</td>\n    </tr>\n    <tr>\n        <td>16</td>\n        <td>Meursault</td>\n        <td>12.1</td>\n        <td>1980</td>\n        <td>2015-10-16</td>\n        <td>PARIS</td>\n        <td>2</td>\n        <td>44</td>\n        <td>Gide</td>\n        <td>Andre</td>\n        <td>petit</td>\n        <td> ÎLE-DE-FRANCE</td>\n    </tr>\n    <tr>\n        <td>20</td>\n        <td>Cote de Brouilly</td>\n        <td>12.1</td>\n        <td>1980</td>\n        <td>2015-10-16</td>\n        <td>PARIS</td>\n        <td>3</td>\n        <td>44</td>\n        <td>Gide</td>\n        <td>Andre</td>\n        <td>petit</td>\n        <td> ÎLE-DE-FRANCE</td>\n    </tr>\n    <tr>\n        <td>26</td>\n        <td>Chateau Corton Grancey</td>\n        <td>None</td>\n        <td>1980</td>\n        <td>2015-10-16</td>\n        <td>PARIS</td>\n        <td>4</td>\n        <td>44</td>\n        <td>Gide</td>\n        <td>Andre</td>\n        <td>petit</td>\n        <td> ÎLE-DE-FRANCE</td>\n    </tr>\n    <tr>\n        <td>28</td>\n        <td>Volnay</td>\n        <td>11</td>\n        <td>1980</td>\n        <td>2015-10-16</td>\n        <td>PARIS</td>\n        <td>5</td>\n        <td>44</td>\n        <td>Gide</td>\n        <td>Andre</td>\n        <td>petit</td>\n        <td> ÎLE-DE-FRANCE</td>\n    </tr>\n    <tr>\n        <td>43</td>\n        <td>Fleurie</td>\n        <td>11.4</td>\n        <td>1980</td>\n        <td>2015-10-16</td>\n        <td>PARIS</td>\n        <td>7</td>\n        <td>44</td>\n        <td>Gide</td>\n        <td>Andre</td>\n        <td>petit</td>\n        <td> ÎLE-DE-FRANCE</td>\n    </tr>\n    <tr>\n        <td>74</td>\n        <td>Arbois</td>\n        <td>12</td>\n        <td>1980</td>\n        <td>2015-10-16</td>\n        <td>PARIS</td>\n        <td>8</td>\n        <td>44</td>\n        <td>Gide</td>\n        <td>Andre</td>\n        <td>petit</td>\n        <td> ÎLE-DE-FRANCE</td>\n    </tr>\n    <tr>\n        <td>78</td>\n        <td>Etoile</td>\n        <td>12</td>\n        <td>1980</td>\n        <td>2015-10-16</td>\n        <td>PARIS</td>\n        <td>9</td>\n        <td>44</td>\n        <td>Gide</td>\n        <td>Andre</td>\n        <td>petit</td>\n        <td> ÎLE-DE-FRANCE</td>\n    </tr>\n    <tr>\n        <td>79</td>\n        <td>Seyssel</td>\n        <td>11</td>\n        <td>1980</td>\n        <td>2015-10-16</td>\n        <td>PARIS</td>\n        <td>10</td>\n        <td>44</td>\n        <td>Gide</td>\n        <td>Andre</td>\n        <td>petit</td>\n        <td> ÎLE-DE-FRANCE</td>\n    </tr>\n    <tr>\n        <td>80</td>\n        <td>Seyssel</td>\n        <td>11</td>\n        <td>1980</td>\n        <td>2015-10-16</td>\n        <td>PARIS</td>\n        <td>11</td>\n        <td>44</td>\n        <td>Gide</td>\n        <td>Andre</td>\n        <td>petit</td>\n        <td> ÎLE-DE-FRANCE</td>\n    </tr>\n    <tr>\n        <td>81</td>\n        <td>Cornas</td>\n        <td>11.1</td>\n        <td>1980</td>\n        <td>2015-10-16</td>\n        <td>PARIS</td>\n        <td>12</td>\n        <td>44</td>\n        <td>Gide</td>\n        <td>Andre</td>\n        <td>petit</td>\n        <td> ÎLE-DE-FRANCE</td>\n    </tr>\n    <tr>\n        <td>82</td>\n        <td>Cornas</td>\n        <td>11</td>\n        <td>1980</td>\n        <td>2015-10-16</td>\n        <td>PARIS</td>\n        <td>13</td>\n        <td>44</td>\n        <td>Gide</td>\n        <td>Andre</td>\n        <td>petit</td>\n        <td> ÎLE-DE-FRANCE</td>\n    </tr>\n    <tr>\n        <td>83</td>\n        <td>Saint Amour</td>\n        <td>10</td>\n        <td>1980</td>\n        <td>2015-10-16</td>\n        <td>PARIS</td>\n        <td>14</td>\n        <td>44</td>\n        <td>Gide</td>\n        <td>Andre</td>\n        <td>petit</td>\n        <td> ÎLE-DE-FRANCE</td>\n    </tr>\n    <tr>\n        <td>84</td>\n        <td>Rasteau</td>\n        <td>10</td>\n        <td>1980</td>\n        <td>2015-10-16</td>\n        <td>PARIS</td>\n        <td>15</td>\n        <td>44</td>\n        <td>Gide</td>\n        <td>Andre</td>\n        <td>petit</td>\n        <td> ÎLE-DE-FRANCE</td>\n    </tr>\n    <tr>\n        <td>85</td>\n        <td>Tavel</td>\n        <td>11</td>\n        <td>1980</td>\n        <td>2015-10-16</td>\n        <td>PARIS</td>\n        <td>16</td>\n        <td>44</td>\n        <td>Gide</td>\n        <td>Andre</td>\n        <td>petit</td>\n        <td> ÎLE-DE-FRANCE</td>\n    </tr>\n    <tr>\n        <td>86</td>\n        <td>Tavel</td>\n        <td>11</td>\n        <td>1980</td>\n        <td>2015-10-16</td>\n        <td>PARIS</td>\n        <td>17</td>\n        <td>44</td>\n        <td>Gide</td>\n        <td>Andre</td>\n        <td>petit</td>\n        <td> ÎLE-DE-FRANCE</td>\n    </tr>\n    <tr>\n        <td>87</td>\n        <td>Cotes de Provence</td>\n        <td>None</td>\n        <td>1980</td>\n        <td>2015-10-16</td>\n        <td>PARIS</td>\n        <td>18</td>\n        <td>44</td>\n        <td>Gide</td>\n        <td>Andre</td>\n        <td>petit</td>\n        <td> ÎLE-DE-FRANCE</td>\n    </tr>\n    <tr>\n        <td>1</td>\n        <td>Mercurey</td>\n        <td>11.5</td>\n        <td>1980</td>\n        <td>1983-12-31</td>\n        <td>RENNES</td>\n        <td>1</td>\n        <td>45</td>\n        <td>Giono</td>\n        <td>Jean</td>\n        <td>petit</td>\n        <td> BRETAGNE</td>\n    </tr>\n    <tr>\n        <td>4</td>\n        <td>Mercurey</td>\n        <td>10.9</td>\n        <td>1980</td>\n        <td>1981-06-29</td>\n        <td>SENS</td>\n        <td>4</td>\n        <td>50</td>\n        <td>Lautreamont</td>\n        <td>None</td>\n        <td>moyen</td>\n        <td> BOURGOGNE-FRANCHE-COMTÉ</td>\n    </tr>\n    <tr>\n        <td>20</td>\n        <td>Cote de Brouilly</td>\n        <td>12.1</td>\n        <td>1980</td>\n        <td>1978-06-12</td>\n        <td>NICE</td>\n        <td>20</td>\n        <td>61</td>\n        <td>Mallarme</td>\n        <td>Stephane</td>\n        <td>petit</td>\n        <td> PROVENCE-ALPES-CÔTE D&#x27;AZUR</td>\n    </tr>\n</table>",
            "text/plain": "[(1, 'Mercurey', 11.5, 1980, '1977-11-02', 'BORDEAUX', 33, 2, 'Artaud', 'Antonin', 'moyen', ' NOUVELLE-AQUITAINE'),\n (4, 'Mercurey', 10.9, 1980, '1982-11-05', 'TOULOUSE', 12, 8, 'Aragon', 'Louis', 'gros', ' OCCITANIE'),\n (1, 'Mercurey', 11.5, 1980, '2015-10-16', 'PARIS', 1, 44, 'Gide', 'Andre', 'petit', ' ÎLE-DE-FRANCE'),\n (4, 'Mercurey', 10.9, 1980, '2015-10-16', 'PARIS', 6, 44, 'Gide', 'Andre', 'petit', ' ÎLE-DE-FRANCE'),\n (16, 'Meursault', 12.1, 1980, '2015-10-16', 'PARIS', 2, 44, 'Gide', 'Andre', 'petit', ' ÎLE-DE-FRANCE'),\n (20, 'Cote de Brouilly', 12.1, 1980, '2015-10-16', 'PARIS', 3, 44, 'Gide', 'Andre', 'petit', ' ÎLE-DE-FRANCE'),\n (26, 'Chateau Corton Grancey', None, 1980, '2015-10-16', 'PARIS', 4, 44, 'Gide', 'Andre', 'petit', ' ÎLE-DE-FRANCE'),\n (28, 'Volnay', 11, 1980, '2015-10-16', 'PARIS', 5, 44, 'Gide', 'Andre', 'petit', ' ÎLE-DE-FRANCE'),\n (43, 'Fleurie', 11.4, 1980, '2015-10-16', 'PARIS', 7, 44, 'Gide', 'Andre', 'petit', ' ÎLE-DE-FRANCE'),\n (74, 'Arbois', 12, 1980, '2015-10-16', 'PARIS', 8, 44, 'Gide', 'Andre', 'petit', ' ÎLE-DE-FRANCE'),\n (78, 'Etoile', 12, 1980, '2015-10-16', 'PARIS', 9, 44, 'Gide', 'Andre', 'petit', ' ÎLE-DE-FRANCE'),\n (79, 'Seyssel', 11, 1980, '2015-10-16', 'PARIS', 10, 44, 'Gide', 'Andre', 'petit', ' ÎLE-DE-FRANCE'),\n (80, 'Seyssel', 11, 1980, '2015-10-16', 'PARIS', 11, 44, 'Gide', 'Andre', 'petit', ' ÎLE-DE-FRANCE'),\n (81, 'Cornas', 11.1, 1980, '2015-10-16', 'PARIS', 12, 44, 'Gide', 'Andre', 'petit', ' ÎLE-DE-FRANCE'),\n (82, 'Cornas', 11, 1980, '2015-10-16', 'PARIS', 13, 44, 'Gide', 'Andre', 'petit', ' ÎLE-DE-FRANCE'),\n (83, 'Saint Amour', 10, 1980, '2015-10-16', 'PARIS', 14, 44, 'Gide', 'Andre', 'petit', ' ÎLE-DE-FRANCE'),\n (84, 'Rasteau', 10, 1980, '2015-10-16', 'PARIS', 15, 44, 'Gide', 'Andre', 'petit', ' ÎLE-DE-FRANCE'),\n (85, 'Tavel', 11, 1980, '2015-10-16', 'PARIS', 16, 44, 'Gide', 'Andre', 'petit', ' ÎLE-DE-FRANCE'),\n (86, 'Tavel', 11, 1980, '2015-10-16', 'PARIS', 17, 44, 'Gide', 'Andre', 'petit', ' ÎLE-DE-FRANCE'),\n (87, 'Cotes de Provence', None, 1980, '2015-10-16', 'PARIS', 18, 44, 'Gide', 'Andre', 'petit', ' ÎLE-DE-FRANCE'),\n (1, 'Mercurey', 11.5, 1980, '1983-12-31', 'RENNES', 1, 45, 'Giono', 'Jean', 'petit', ' BRETAGNE'),\n (4, 'Mercurey', 10.9, 1980, '1981-06-29', 'SENS', 4, 50, 'Lautreamont', None, 'moyen', ' BOURGOGNE-FRANCHE-COMTÉ'),\n (20, 'Cote de Brouilly', 12.1, 1980, '1978-06-12', 'NICE', 20, 61, 'Mallarme', 'Stephane', 'petit', \" PROVENCE-ALPES-CÔTE D'AZUR\")]"
          },
          "metadata": {}
        }
      ]
    },
    {
      "metadata": {},
      "cell_type": "raw",
      "source": "NV, CRU, DEGRE, MILL was already put in another table (wines) from master1.\nclients: NB, NOM, PRENOM, TYPE is all about one client, from the client number NB.\nsales: NV, DATES, LIEU, QTE, NB would be a third table linking the client, the wine type and the sale.\nvilles: LIEU, REGION is a fourth table to remove that redundancy\n"
    },
    {
      "metadata": {},
      "cell_type": "markdown",
      "source": "Once you have defined the 2NF or 3NF (as applicable) we need to split the data into new tables.\n\nA table can be created from the result of a query.\n\nIn the following example we will create a new table \"dummy\" to store the different values of alcohol content."
    },
    {
      "metadata": {
        "trusted": true
      },
      "cell_type": "code",
      "source": "%%sql DROP TABLE IF EXISTS dummy;\n\n-- Create dummy table\nCREATE TABLE dummy AS\nSELECT DISTINCT DEGRE\nFROM MASTER1;",
      "execution_count": 19,
      "outputs": [
        {
          "output_type": "stream",
          "text": " * sqlite:///wine.db\nDone.\nDone.\n",
          "name": "stdout"
        },
        {
          "output_type": "execute_result",
          "execution_count": 19,
          "data": {
            "text/plain": "[]"
          },
          "metadata": {}
        }
      ]
    },
    {
      "metadata": {
        "trusted": true
      },
      "cell_type": "code",
      "source": "print(\"\\nContent of the database\")\nprintSchema(conn)",
      "execution_count": 20,
      "outputs": [
        {
          "output_type": "stream",
          "text": "\nContent of the database\nMASTER1:\n  0: NV(NUM)\n  1: CRU(TEXT)\n  2: DEGRE(NUM)\n  3: MILL(NUM)\n  4: QTE(NUM)\n  5: NP(NUM)\n  6: NOM(TEXT)\n  7: PRENOM(TEXT)\n  8: REGION(TEXT)\nMASTER2:\n  0: NV(NUM)\n  1: CRU(TEXT)\n  2: DEGRE(NUM)\n  3: MILL(NUM)\n  4: DATES(DATE)\n  5: LIEU(TEXT)\n  6: QTE(NUM)\n  7: NB(NUM)\n  8: NOM(TEXT)\n  9: PRENOM(TEXT)\n  10: TYPE(TEXT)\n  11: REGION(TEXT)\nclients:\n  0: NB(NUM)\n  1: NOM(TEXT)\n  2: PRENOM(TEXT)\n  3: TYPE(TEXT)\ndummy:\n  0: DEGRE(NUM)\nproducers:\n  0: NP(NUM)\n  1: NOM(TEXT)\n  2: PRENOM(TEXT)\n  3: REGION(TEXT)\nproduction:\n  0: NP(NUM)\n  1: NV(NUM)\n  2: QTE(NUM)\nsales:\n  0: NV(NUM)\n  1: DATES(NUM)\n  2: LIEU(TEXT)\n  3: QTE(NUM)\n  4: NB(NUM)\nvilles:\n  0: LIEU(TEXT)\n  1: REGION(TEXT)\nwines:\n  0: NV(NUM)\n  1: CRU(TEXT)\n  2: DEGRE(NUM)\n  3: MILL(NUM)\n",
          "name": "stdout"
        }
      ]
    },
    {
      "metadata": {
        "trusted": true
      },
      "cell_type": "code",
      "source": "%%sql\nSELECT *\nFROM dummy;",
      "execution_count": 21,
      "outputs": [
        {
          "output_type": "stream",
          "text": " * sqlite:///wine.db\nDone.\n",
          "name": "stdout"
        },
        {
          "output_type": "execute_result",
          "execution_count": 21,
          "data": {
            "text/html": "<table>\n    <tr>\n        <th>DEGRE</th>\n    </tr>\n    <tr>\n        <td>None</td>\n    </tr>\n    <tr>\n        <td>11.5</td>\n    </tr>\n    <tr>\n        <td>11.3</td>\n    </tr>\n    <tr>\n        <td>12.1</td>\n    </tr>\n    <tr>\n        <td>10.9</td>\n    </tr>\n    <tr>\n        <td>11.7</td>\n    </tr>\n    <tr>\n        <td>11.2</td>\n    </tr>\n    <tr>\n        <td>12.3</td>\n    </tr>\n    <tr>\n        <td>11.9</td>\n    </tr>\n    <tr>\n        <td>11.8</td>\n    </tr>\n    <tr>\n        <td>10.7</td>\n    </tr>\n    <tr>\n        <td>11.4</td>\n    </tr>\n    <tr>\n        <td>10.5</td>\n    </tr>\n    <tr>\n        <td>11</td>\n    </tr>\n    <tr>\n        <td>11.6</td>\n    </tr>\n    <tr>\n        <td>12</td>\n    </tr>\n    <tr>\n        <td>10</td>\n    </tr>\n    <tr>\n        <td>12.5</td>\n    </tr>\n    <tr>\n        <td>10.8</td>\n    </tr>\n    <tr>\n        <td>14</td>\n    </tr>\n    <tr>\n        <td>11.1</td>\n    </tr>\n    <tr>\n        <td>13</td>\n    </tr>\n</table>",
            "text/plain": "[(None,),\n (11.5,),\n (11.3,),\n (12.1,),\n (10.9,),\n (11.7,),\n (11.2,),\n (12.3,),\n (11.9,),\n (11.8,),\n (10.7,),\n (11.4,),\n (10.5,),\n (11,),\n (11.6,),\n (12,),\n (10,),\n (12.5,),\n (10.8,),\n (14,),\n (11.1,),\n (13,)]"
          },
          "metadata": {}
        }
      ]
    },
    {
      "metadata": {},
      "cell_type": "markdown",
      "source": "Looking into \"dummy\", we notice that our query includes NULL. This is not allowed if we were to use DEGRE as key for a table.\n\nTo correct this, we need to change the query to explicitly test for NULL as follows:"
    },
    {
      "metadata": {
        "trusted": true
      },
      "cell_type": "code",
      "source": "%%sql DROP TABLE IF EXISTS dummy;\n\n-- Create dummy table\nCREATE TABLE dummy AS\nSELECT DISTINCT DEGRE\nFROM MASTER1\nWHERE DEGRE IS NOT NULL;\n\nSELECT *\nFROM dummy;",
      "execution_count": 22,
      "outputs": [
        {
          "output_type": "stream",
          "text": " * sqlite:///wine.db\nDone.\nDone.\nDone.\n",
          "name": "stdout"
        },
        {
          "output_type": "execute_result",
          "execution_count": 22,
          "data": {
            "text/html": "<table>\n    <tr>\n        <th>DEGRE</th>\n    </tr>\n    <tr>\n        <td>11.5</td>\n    </tr>\n    <tr>\n        <td>11.3</td>\n    </tr>\n    <tr>\n        <td>12.1</td>\n    </tr>\n    <tr>\n        <td>10.9</td>\n    </tr>\n    <tr>\n        <td>11.7</td>\n    </tr>\n    <tr>\n        <td>11.2</td>\n    </tr>\n    <tr>\n        <td>12.3</td>\n    </tr>\n    <tr>\n        <td>11.9</td>\n    </tr>\n    <tr>\n        <td>11.8</td>\n    </tr>\n    <tr>\n        <td>10.7</td>\n    </tr>\n    <tr>\n        <td>11.4</td>\n    </tr>\n    <tr>\n        <td>10.5</td>\n    </tr>\n    <tr>\n        <td>11</td>\n    </tr>\n    <tr>\n        <td>11.6</td>\n    </tr>\n    <tr>\n        <td>12</td>\n    </tr>\n    <tr>\n        <td>10</td>\n    </tr>\n    <tr>\n        <td>12.5</td>\n    </tr>\n    <tr>\n        <td>10.8</td>\n    </tr>\n    <tr>\n        <td>14</td>\n    </tr>\n    <tr>\n        <td>11.1</td>\n    </tr>\n    <tr>\n        <td>13</td>\n    </tr>\n</table>",
            "text/plain": "[(11.5,),\n (11.3,),\n (12.1,),\n (10.9,),\n (11.7,),\n (11.2,),\n (12.3,),\n (11.9,),\n (11.8,),\n (10.7,),\n (11.4,),\n (10.5,),\n (11,),\n (11.6,),\n (12,),\n (10,),\n (12.5,),\n (10.8,),\n (14,),\n (11.1,),\n (13,)]"
          },
          "metadata": {}
        }
      ]
    },
    {
      "metadata": {},
      "cell_type": "markdown",
      "source": "Notice that we use `NULL` given that `None` is only used for display."
    },
    {
      "metadata": {
        "trusted": true
      },
      "cell_type": "code",
      "source": "# Remove \"dummy\" table\n%sql DROP TABLE IF EXISTS dummy;",
      "execution_count": 23,
      "outputs": [
        {
          "output_type": "stream",
          "text": " * sqlite:///wine.db\nDone.\n",
          "name": "stdout"
        },
        {
          "output_type": "execute_result",
          "execution_count": 23,
          "data": {
            "text/plain": "[]"
          },
          "metadata": {}
        }
      ]
    },
    {
      "metadata": {},
      "cell_type": "markdown",
      "source": "#### Exercise 1.3\n\nCreate the new tables from Master1:"
    },
    {
      "metadata": {
        "trusted": true
      },
      "cell_type": "code",
      "source": "%%sql DROP TABLE IF EXISTS wines;\n\n-- Create wines table\nCREATE TABLE wines AS\nSELECT DISTINCT NV, CRU, DEGRE, MILL\nFROM MASTER1\nWHERE NV IS NOT NULL;\n\nSELECT *\nFROM wines LIMIT 10;",
      "execution_count": 24,
      "outputs": [
        {
          "output_type": "stream",
          "text": " * sqlite:///wine.db\nDone.\nDone.\nDone.\n",
          "name": "stdout"
        },
        {
          "output_type": "execute_result",
          "execution_count": 24,
          "data": {
            "text/html": "<table>\n    <tr>\n        <th>NV</th>\n        <th>CRU</th>\n        <th>DEGRE</th>\n        <th>MILL</th>\n    </tr>\n    <tr>\n        <td>1</td>\n        <td>Mercurey</td>\n        <td>11.5</td>\n        <td>1980</td>\n    </tr>\n    <tr>\n        <td>2</td>\n        <td>Julienas</td>\n        <td>11.3</td>\n        <td>1974</td>\n    </tr>\n    <tr>\n        <td>3</td>\n        <td>Savigny les Beaunes</td>\n        <td>12.1</td>\n        <td>1978</td>\n    </tr>\n    <tr>\n        <td>4</td>\n        <td>Mercurey</td>\n        <td>10.9</td>\n        <td>1980</td>\n    </tr>\n    <tr>\n        <td>5</td>\n        <td>Pommard</td>\n        <td>11.7</td>\n        <td>1976</td>\n    </tr>\n    <tr>\n        <td>6</td>\n        <td>Mercurey</td>\n        <td>11.2</td>\n        <td>1981</td>\n    </tr>\n    <tr>\n        <td>7</td>\n        <td>Grands Echezeaux</td>\n        <td>11.7</td>\n        <td>1968</td>\n    </tr>\n    <tr>\n        <td>8</td>\n        <td>Cotes de Beaune Villages</td>\n        <td>12.3</td>\n        <td>1975</td>\n    </tr>\n    <tr>\n        <td>9</td>\n        <td>Chapelle Chambertin</td>\n        <td>11.9</td>\n        <td>1973</td>\n    </tr>\n    <tr>\n        <td>10</td>\n        <td>Beaujolais Villages</td>\n        <td>11.8</td>\n        <td>1979</td>\n    </tr>\n</table>",
            "text/plain": "[(1, 'Mercurey', 11.5, 1980),\n (2, 'Julienas', 11.3, 1974),\n (3, 'Savigny les Beaunes', 12.1, 1978),\n (4, 'Mercurey', 10.9, 1980),\n (5, 'Pommard', 11.7, 1976),\n (6, 'Mercurey', 11.2, 1981),\n (7, 'Grands Echezeaux', 11.7, 1968),\n (8, 'Cotes de Beaune Villages', 12.3, 1975),\n (9, 'Chapelle Chambertin', 11.9, 1973),\n (10, 'Beaujolais Villages', 11.8, 1979)]"
          },
          "metadata": {}
        }
      ]
    },
    {
      "metadata": {
        "trusted": true
      },
      "cell_type": "code",
      "source": "%%sql DROP TABLE IF EXISTS producers;\n\n-- Create producers table\nCREATE TABLE producers AS\nSELECT DISTINCT NP, NOM, PRENOM, REGION\nFROM MASTER1\nWHERE NP IS NOT NULL;\n\nSELECT *\nFROM producers LIMIT 10;",
      "execution_count": 25,
      "outputs": [
        {
          "output_type": "stream",
          "text": " * sqlite:///wine.db\nDone.\nDone.\nDone.\n",
          "name": "stdout"
        },
        {
          "output_type": "execute_result",
          "execution_count": 25,
          "data": {
            "text/html": "<table>\n    <tr>\n        <th>NP</th>\n        <th>NOM</th>\n        <th>PRENOM</th>\n        <th>REGION</th>\n    </tr>\n    <tr>\n        <td>3</td>\n        <td>Six</td>\n        <td>Paul</td>\n        <td>Alsace</td>\n    </tr>\n    <tr>\n        <td>6</td>\n        <td>Marmagne</td>\n        <td>Bernard</td>\n        <td>Bourgogne</td>\n    </tr>\n    <tr>\n        <td>8</td>\n        <td>Lioger d&#x27;Harduy</td>\n        <td>Gabriel</td>\n        <td>Bourgogne</td>\n    </tr>\n    <tr>\n        <td>16</td>\n        <td>Barbin</td>\n        <td>Bernard</td>\n        <td>Bourgogne</td>\n    </tr>\n    <tr>\n        <td>17</td>\n        <td>Faiveley</td>\n        <td>Guy</td>\n        <td>Bourgogne</td>\n    </tr>\n    <tr>\n        <td>18</td>\n        <td>Tramier</td>\n        <td>Jean</td>\n        <td>Bourgogne</td>\n    </tr>\n    <tr>\n        <td>19</td>\n        <td>Dupaquier</td>\n        <td>Roger</td>\n        <td>Bourgogne</td>\n    </tr>\n    <tr>\n        <td>20</td>\n        <td>Lamy</td>\n        <td>Jean</td>\n        <td>Bourgogne</td>\n    </tr>\n    <tr>\n        <td>21</td>\n        <td>Cornu</td>\n        <td>Edmond</td>\n        <td>Bourgogne</td>\n    </tr>\n    <tr>\n        <td>26</td>\n        <td>Violot</td>\n        <td>Gilbert</td>\n        <td>Bourgogne</td>\n    </tr>\n</table>",
            "text/plain": "[(3, 'Six', 'Paul', 'Alsace'),\n (6, 'Marmagne', 'Bernard', 'Bourgogne'),\n (8, \"Lioger d'Harduy\", 'Gabriel', 'Bourgogne'),\n (16, 'Barbin', 'Bernard', 'Bourgogne'),\n (17, 'Faiveley', 'Guy', 'Bourgogne'),\n (18, 'Tramier', 'Jean', 'Bourgogne'),\n (19, 'Dupaquier', 'Roger', 'Bourgogne'),\n (20, 'Lamy', 'Jean', 'Bourgogne'),\n (21, 'Cornu', 'Edmond', 'Bourgogne'),\n (26, 'Violot', 'Gilbert', 'Bourgogne')]"
          },
          "metadata": {}
        }
      ]
    },
    {
      "metadata": {
        "trusted": true
      },
      "cell_type": "code",
      "source": "%%sql DROP TABLE IF EXISTS production;\n\n-- Create production table\nCREATE TABLE production AS\nSELECT DISTINCT NP, NV, QTE\nFROM MASTER1\nWHERE NP IS NOT NULL AND NV IS NOT NULL;\n\nSELECT *\nFROM production LIMIT 10;",
      "execution_count": 26,
      "outputs": [
        {
          "output_type": "stream",
          "text": " * sqlite:///wine.db\nDone.\nDone.\nDone.\n",
          "name": "stdout"
        },
        {
          "output_type": "execute_result",
          "execution_count": 26,
          "data": {
            "text/html": "<table>\n    <tr>\n        <th>NP</th>\n        <th>NV</th>\n        <th>QTE</th>\n    </tr>\n    <tr>\n        <td>1</td>\n        <td>1</td>\n        <td>300</td>\n    </tr>\n    <tr>\n        <td>73</td>\n        <td>1</td>\n        <td>1</td>\n    </tr>\n    <tr>\n        <td>5</td>\n        <td>2</td>\n        <td>100</td>\n    </tr>\n    <tr>\n        <td>1</td>\n        <td>3</td>\n        <td>400</td>\n    </tr>\n    <tr>\n        <td>10</td>\n        <td>4</td>\n        <td>35</td>\n    </tr>\n    <tr>\n        <td>30</td>\n        <td>5</td>\n        <td>46</td>\n    </tr>\n    <tr>\n        <td>42</td>\n        <td>6</td>\n        <td>300</td>\n    </tr>\n    <tr>\n        <td>98</td>\n        <td>7</td>\n        <td>60</td>\n    </tr>\n    <tr>\n        <td>90</td>\n        <td>8</td>\n        <td>12</td>\n    </tr>\n    <tr>\n        <td>98</td>\n        <td>10</td>\n        <td>100</td>\n    </tr>\n</table>",
            "text/plain": "[(1, 1, 300),\n (73, 1, 1),\n (5, 2, 100),\n (1, 3, 400),\n (10, 4, 35),\n (30, 5, 46),\n (42, 6, 300),\n (98, 7, 60),\n (90, 8, 12),\n (98, 10, 100)]"
          },
          "metadata": {}
        }
      ]
    },
    {
      "metadata": {},
      "cell_type": "markdown",
      "source": "#### Exercise 1.4\n\nCreate the new tables from Master2:"
    },
    {
      "metadata": {
        "trusted": true
      },
      "cell_type": "code",
      "source": "%%sql DROP TABLE IF EXISTS clients;\n\n-- Create clients table\nCREATE TABLE clients AS\nSELECT DISTINCT NB, NOM, PRENOM, TYPE\nFROM MASTER2\nWHERE NB IS NOT NULL;\n\nSELECT *\nFROM clients LIMIT 10;",
      "execution_count": 27,
      "outputs": [
        {
          "output_type": "stream",
          "text": " * sqlite:///wine.db\nDone.\nDone.\nDone.\n",
          "name": "stdout"
        },
        {
          "output_type": "execute_result",
          "execution_count": 27,
          "data": {
            "text/html": "<table>\n    <tr>\n        <th>NB</th>\n        <th>NOM</th>\n        <th>PRENOM</th>\n        <th>TYPE</th>\n    </tr>\n    <tr>\n        <td>11</td>\n        <td>Breton</td>\n        <td>Andre</td>\n        <td>petit</td>\n    </tr>\n    <tr>\n        <td>13</td>\n        <td>Barthes</td>\n        <td>Roland</td>\n        <td>moyen</td>\n    </tr>\n    <tr>\n        <td>16</td>\n        <td>Balzac</td>\n        <td>Honore de</td>\n        <td>moyen</td>\n    </tr>\n    <tr>\n        <td>18</td>\n        <td>Celine</td>\n        <td>Louis Ferdinand</td>\n        <td>gros</td>\n    </tr>\n    <tr>\n        <td>20</td>\n        <td>Chateaubriand</td>\n        <td>Francois-Rene de</td>\n        <td>moyen</td>\n    </tr>\n    <tr>\n        <td>21</td>\n        <td>Corbiere</td>\n        <td>Tristan</td>\n        <td>petit</td>\n    </tr>\n    <tr>\n        <td>23</td>\n        <td>Corneille</td>\n        <td>Pierre</td>\n        <td>petit</td>\n    </tr>\n    <tr>\n        <td>25</td>\n        <td>Char</td>\n        <td>Rene</td>\n        <td>petit</td>\n    </tr>\n    <tr>\n        <td>27</td>\n        <td>Dumas</td>\n        <td>Alexandre</td>\n        <td>gros</td>\n    </tr>\n    <tr>\n        <td>29</td>\n        <td>Fournier</td>\n        <td>Alain</td>\n        <td>petit</td>\n    </tr>\n</table>",
            "text/plain": "[(11, 'Breton', 'Andre', 'petit'),\n (13, 'Barthes', 'Roland', 'moyen'),\n (16, 'Balzac', 'Honore de', 'moyen'),\n (18, 'Celine', 'Louis Ferdinand', 'gros'),\n (20, 'Chateaubriand', 'Francois-Rene de', 'moyen'),\n (21, 'Corbiere', 'Tristan', 'petit'),\n (23, 'Corneille', 'Pierre', 'petit'),\n (25, 'Char', 'Rene', 'petit'),\n (27, 'Dumas', 'Alexandre', 'gros'),\n (29, 'Fournier', 'Alain', 'petit')]"
          },
          "metadata": {}
        }
      ]
    },
    {
      "metadata": {
        "trusted": true
      },
      "cell_type": "code",
      "source": "%%sql DROP TABLE IF EXISTS sales;\n\n-- Create sales table\nCREATE TABLE sales AS\nSELECT DISTINCT NV, DATES, LIEU, QTE, NB\nFROM MASTER2\nWHERE NV IS NOT NULL AND NB IS NOT NULL;\n\nSELECT *\nFROM sales LIMIT 10;",
      "execution_count": 28,
      "outputs": [
        {
          "output_type": "stream",
          "text": " * sqlite:///wine.db\nDone.\nDone.\nDone.\n",
          "name": "stdout"
        },
        {
          "output_type": "execute_result",
          "execution_count": 28,
          "data": {
            "text/html": "<table>\n    <tr>\n        <th>NV</th>\n        <th>DATES</th>\n        <th>LIEU</th>\n        <th>QTE</th>\n        <th>NB</th>\n    </tr>\n    <tr>\n        <td>1</td>\n        <td>1977-11-02</td>\n        <td>BORDEAUX</td>\n        <td>33</td>\n        <td>2</td>\n    </tr>\n    <tr>\n        <td>1</td>\n        <td>2015-10-16</td>\n        <td>PARIS</td>\n        <td>1</td>\n        <td>44</td>\n    </tr>\n    <tr>\n        <td>1</td>\n        <td>1983-12-31</td>\n        <td>RENNES</td>\n        <td>1</td>\n        <td>45</td>\n    </tr>\n    <tr>\n        <td>2</td>\n        <td>1983-12-25</td>\n        <td>LYON</td>\n        <td>2</td>\n        <td>48</td>\n    </tr>\n    <tr>\n        <td>3</td>\n        <td>1978-11-01</td>\n        <td>NICE</td>\n        <td>6</td>\n        <td>7</td>\n    </tr>\n    <tr>\n        <td>3</td>\n        <td>1987-12-24</td>\n        <td>MERCUREY</td>\n        <td>5</td>\n        <td>49</td>\n    </tr>\n    <tr>\n        <td>4</td>\n        <td>1982-11-05</td>\n        <td>TOULOUSE</td>\n        <td>12</td>\n        <td>8</td>\n    </tr>\n    <tr>\n        <td>4</td>\n        <td>2015-10-16</td>\n        <td>PARIS</td>\n        <td>6</td>\n        <td>44</td>\n    </tr>\n    <tr>\n        <td>4</td>\n        <td>1981-06-29</td>\n        <td>SENS</td>\n        <td>4</td>\n        <td>50</td>\n    </tr>\n    <tr>\n        <td>5</td>\n        <td>1984-11-04</td>\n        <td>MERCUREY</td>\n        <td>50</td>\n        <td>2</td>\n    </tr>\n</table>",
            "text/plain": "[(1, '1977-11-02', 'BORDEAUX', 33, 2),\n (1, '2015-10-16', 'PARIS', 1, 44),\n (1, '1983-12-31', 'RENNES', 1, 45),\n (2, '1983-12-25', 'LYON', 2, 48),\n (3, '1978-11-01', 'NICE', 6, 7),\n (3, '1987-12-24', 'MERCUREY', 5, 49),\n (4, '1982-11-05', 'TOULOUSE', 12, 8),\n (4, '2015-10-16', 'PARIS', 6, 44),\n (4, '1981-06-29', 'SENS', 4, 50),\n (5, '1984-11-04', 'MERCUREY', 50, 2)]"
          },
          "metadata": {}
        }
      ]
    },
    {
      "metadata": {
        "trusted": true
      },
      "cell_type": "code",
      "source": "%%sql DROP TABLE IF EXISTS villes;\n\n-- Create villes table\nCREATE TABLE villes AS\nSELECT DISTINCT LIEU, REGION\nFROM MASTER2\nWHERE LIEU IS NOT NULL;\n\nSELECT *\nFROM villes LIMIT 10;",
      "execution_count": 29,
      "outputs": [
        {
          "output_type": "stream",
          "text": " * sqlite:///wine.db\nDone.\nDone.\nDone.\n",
          "name": "stdout"
        },
        {
          "output_type": "execute_result",
          "execution_count": 29,
          "data": {
            "text/html": "<table>\n    <tr>\n        <th>LIEU</th>\n        <th>REGION</th>\n    </tr>\n    <tr>\n        <td>BORDEAUX</td>\n        <td> NOUVELLE-AQUITAINE</td>\n    </tr>\n    <tr>\n        <td>PARIS</td>\n        <td> ÎLE-DE-FRANCE</td>\n    </tr>\n    <tr>\n        <td>RENNES</td>\n        <td> BRETAGNE</td>\n    </tr>\n    <tr>\n        <td>LYON</td>\n        <td>&nbsp;&nbsp;AUVERGNE-RHÔNE-ALPES</td>\n    </tr>\n    <tr>\n        <td>NICE</td>\n        <td> PROVENCE-ALPES-CÔTE D&#x27;AZUR</td>\n    </tr>\n    <tr>\n        <td>MERCUREY</td>\n        <td> BOURGOGNE-FRANCHE-COMTÉ</td>\n    </tr>\n    <tr>\n        <td>TOULOUSE</td>\n        <td> OCCITANIE</td>\n    </tr>\n    <tr>\n        <td>SENS</td>\n        <td> BOURGOGNE-FRANCHE-COMTÉ</td>\n    </tr>\n    <tr>\n        <td>LILLE</td>\n        <td> HAUTS-DE-FRANCE</td>\n    </tr>\n    <tr>\n        <td>NANCY</td>\n        <td> GRAND EST</td>\n    </tr>\n</table>",
            "text/plain": "[('BORDEAUX', ' NOUVELLE-AQUITAINE'),\n ('PARIS', ' ÎLE-DE-FRANCE'),\n ('RENNES', ' BRETAGNE'),\n ('LYON', '  AUVERGNE-RHÔNE-ALPES'),\n ('NICE', \" PROVENCE-ALPES-CÔTE D'AZUR\"),\n ('MERCUREY', ' BOURGOGNE-FRANCHE-COMTÉ'),\n ('TOULOUSE', ' OCCITANIE'),\n ('SENS', ' BOURGOGNE-FRANCHE-COMTÉ'),\n ('LILLE', ' HAUTS-DE-FRANCE'),\n ('NANCY', ' GRAND EST')]"
          },
          "metadata": {}
        }
      ]
    },
    {
      "metadata": {
        "trusted": true
      },
      "cell_type": "code",
      "source": "print(\"\\nContent of the database\")\nprintSchema(conn)",
      "execution_count": 30,
      "outputs": [
        {
          "output_type": "stream",
          "text": "\nContent of the database\nMASTER1:\n  0: NV(NUM)\n  1: CRU(TEXT)\n  2: DEGRE(NUM)\n  3: MILL(NUM)\n  4: QTE(NUM)\n  5: NP(NUM)\n  6: NOM(TEXT)\n  7: PRENOM(TEXT)\n  8: REGION(TEXT)\nMASTER2:\n  0: NV(NUM)\n  1: CRU(TEXT)\n  2: DEGRE(NUM)\n  3: MILL(NUM)\n  4: DATES(DATE)\n  5: LIEU(TEXT)\n  6: QTE(NUM)\n  7: NB(NUM)\n  8: NOM(TEXT)\n  9: PRENOM(TEXT)\n  10: TYPE(TEXT)\n  11: REGION(TEXT)\nclients:\n  0: NB(NUM)\n  1: NOM(TEXT)\n  2: PRENOM(TEXT)\n  3: TYPE(TEXT)\nproducers:\n  0: NP(NUM)\n  1: NOM(TEXT)\n  2: PRENOM(TEXT)\n  3: REGION(TEXT)\nproduction:\n  0: NP(NUM)\n  1: NV(NUM)\n  2: QTE(NUM)\nsales:\n  0: NV(NUM)\n  1: DATES(NUM)\n  2: LIEU(TEXT)\n  3: QTE(NUM)\n  4: NB(NUM)\nvilles:\n  0: LIEU(TEXT)\n  1: REGION(TEXT)\nwines:\n  0: NV(NUM)\n  1: CRU(TEXT)\n  2: DEGRE(NUM)\n  3: MILL(NUM)\n",
          "name": "stdout"
        }
      ]
    },
    {
      "metadata": {},
      "cell_type": "markdown",
      "source": "# PART II: SQL QUERIES\n\nIn the second part of this TP you will create SQL queries to retrieve information from the database.\n\n**Important:**\n\n- You MUST use the normalized tables created in previous steps.\n  - The normalized tables will also be used in TP3.\n- Do NOT use **Master1** and **Master2** in your queries."
    },
    {
      "metadata": {},
      "cell_type": "markdown",
      "source": "#### Exercise 2.1\n\nWhat are the different types of clients (buveurs) by volume of purchases?"
    },
    {
      "metadata": {
        "trusted": true
      },
      "cell_type": "code",
      "source": "%%sql\nSELECT DISTINCT type AS Type_of_buveurs FROM clients",
      "execution_count": 31,
      "outputs": [
        {
          "output_type": "stream",
          "text": " * sqlite:///wine.db\nDone.\n",
          "name": "stdout"
        },
        {
          "output_type": "execute_result",
          "execution_count": 31,
          "data": {
            "text/html": "<table>\n    <tr>\n        <th>Type_of_buveurs</th>\n    </tr>\n    <tr>\n        <td>petit</td>\n    </tr>\n    <tr>\n        <td>moyen</td>\n    </tr>\n    <tr>\n        <td>gros</td>\n    </tr>\n</table>",
            "text/plain": "[('petit',), ('moyen',), ('gros',)]"
          },
          "metadata": {}
        }
      ]
    },
    {
      "metadata": {},
      "cell_type": "markdown",
      "source": "#### Exercise 2.2\n\nWhat regions produce Pommard or Brouilly?"
    },
    {
      "metadata": {
        "trusted": true
      },
      "cell_type": "code",
      "source": "%%sql\nSELECT CRU, REGION FROM production JOIN wines ON wines.NV=production.NV \nJOIN producers ON producers.NP=production.NP\n    WHERE CRU IN ('Pommard', 'Brouilly')",
      "execution_count": 32,
      "outputs": [
        {
          "output_type": "stream",
          "text": " * sqlite:///wine.db\nDone.\n",
          "name": "stdout"
        },
        {
          "output_type": "execute_result",
          "execution_count": 32,
          "data": {
            "text/html": "<table>\n    <tr>\n        <th>CRU</th>\n        <th>REGION</th>\n    </tr>\n    <tr>\n        <td>Pommard</td>\n        <td>Bourgogne</td>\n    </tr>\n    <tr>\n        <td>Pommard</td>\n        <td>Rhone</td>\n    </tr>\n    <tr>\n        <td>Brouilly</td>\n        <td>Bourgogne</td>\n    </tr>\n</table>",
            "text/plain": "[('Pommard', 'Bourgogne'), ('Pommard', 'Rhone'), ('Brouilly', 'Bourgogne')]"
          },
          "metadata": {}
        }
      ]
    },
    {
      "metadata": {},
      "cell_type": "markdown",
      "source": "#### Exercise 2.3\n\nWhat regions produce Pommard and Brouilly?"
    },
    {
      "metadata": {
        "trusted": true
      },
      "cell_type": "code",
      "source": "%%sql\nSELECT REGION FROM production JOIN wines ON wines.NV=production.NV \n    JOIN producers ON producers.NP=production.NP\n    WHERE CRU = 'Pommard'\nINTERSECT\nSELECT REGION FROM production JOIN wines ON wines.NV=production.NV \n    JOIN producers ON producers.NP=production.NP\n    WHERE CRU = 'Brouilly'",
      "execution_count": 33,
      "outputs": [
        {
          "output_type": "stream",
          "text": " * sqlite:///wine.db\nDone.\n",
          "name": "stdout"
        },
        {
          "output_type": "execute_result",
          "execution_count": 33,
          "data": {
            "text/html": "<table>\n    <tr>\n        <th>REGION</th>\n    </tr>\n    <tr>\n        <td>Bourgogne</td>\n    </tr>\n</table>",
            "text/plain": "[('Bourgogne',)]"
          },
          "metadata": {}
        }
      ]
    },
    {
      "metadata": {},
      "cell_type": "markdown",
      "source": "#### Exercise 2.4\n\nGet the number of wines bought by CRU and Millésime"
    },
    {
      "metadata": {
        "trusted": true
      },
      "cell_type": "code",
      "source": "%%sql\nSELECT CRU, MILL, SUM(sales.QTE) AS Number_of_wines_bought FROM sales JOIN wines ON wines.NV=sales.NV GROUP BY CRU,MILL",
      "execution_count": 34,
      "outputs": [
        {
          "output_type": "stream",
          "text": " * sqlite:///wine.db\nDone.\n",
          "name": "stdout"
        },
        {
          "output_type": "execute_result",
          "execution_count": 34,
          "data": {
            "text/html": "<table>\n    <tr>\n        <th>CRU</th>\n        <th>MILL</th>\n        <th>Number_of_wines_bought</th>\n    </tr>\n    <tr>\n        <td>Arbois</td>\n        <td>1980</td>\n        <td>8</td>\n    </tr>\n    <tr>\n        <td>Auxey Duresses</td>\n        <td>1914</td>\n        <td>80</td>\n    </tr>\n    <tr>\n        <td>Beaujolais Primeur</td>\n        <td>1983</td>\n        <td>7</td>\n    </tr>\n    <tr>\n        <td>Beaujolais Villages</td>\n        <td>1975</td>\n        <td>10</td>\n    </tr>\n    <tr>\n        <td>Beaujolais Villages</td>\n        <td>1976</td>\n        <td>120</td>\n    </tr>\n    <tr>\n        <td>Beaujolais Villages</td>\n        <td>1978</td>\n        <td>130</td>\n    </tr>\n    <tr>\n        <td>Beaujolais Villages</td>\n        <td>1979</td>\n        <td>520</td>\n    </tr>\n    <tr>\n        <td>Chapelle Chambertin</td>\n        <td>1973</td>\n        <td>30</td>\n    </tr>\n    <tr>\n        <td>Chateau Corton Grancey</td>\n        <td>1980</td>\n        <td>4</td>\n    </tr>\n    <tr>\n        <td>Chenas</td>\n        <td>1984</td>\n        <td>1</td>\n    </tr>\n    <tr>\n        <td>Clairette de Die</td>\n        <td>1976</td>\n        <td>5</td>\n    </tr>\n    <tr>\n        <td>Cornas</td>\n        <td>1980</td>\n        <td>25</td>\n    </tr>\n    <tr>\n        <td>Cote de Brouilly</td>\n        <td>1980</td>\n        <td>23</td>\n    </tr>\n    <tr>\n        <td>Coteaux du Tricastin</td>\n        <td>1974</td>\n        <td>1</td>\n    </tr>\n    <tr>\n        <td>Coteaux du Tricastin</td>\n        <td>1978</td>\n        <td>12</td>\n    </tr>\n    <tr>\n        <td>Cotes de Beaune Villages</td>\n        <td>1971</td>\n        <td>14</td>\n    </tr>\n    <tr>\n        <td>Cotes de Beaune Villages</td>\n        <td>1975</td>\n        <td>96</td>\n    </tr>\n    <tr>\n        <td>Cotes de Nuits</td>\n        <td>1978</td>\n        <td>21</td>\n    </tr>\n    <tr>\n        <td>Cotes de Provence</td>\n        <td>1980</td>\n        <td>18</td>\n    </tr>\n    <tr>\n        <td>Etoile</td>\n        <td>1980</td>\n        <td>9</td>\n    </tr>\n    <tr>\n        <td>Fleurie</td>\n        <td>1980</td>\n        <td>7</td>\n    </tr>\n    <tr>\n        <td>Gentil</td>\n        <td>1975</td>\n        <td>36</td>\n    </tr>\n    <tr>\n        <td>Gigondas</td>\n        <td>1978</td>\n        <td>5</td>\n    </tr>\n    <tr>\n        <td>Grands Echezeaux</td>\n        <td>1968</td>\n        <td>31</td>\n    </tr>\n    <tr>\n        <td>Julienas</td>\n        <td>1974</td>\n        <td>2</td>\n    </tr>\n    <tr>\n        <td>Mercurey</td>\n        <td>1980</td>\n        <td>57</td>\n    </tr>\n    <tr>\n        <td>Mercurey</td>\n        <td>1981</td>\n        <td>36</td>\n    </tr>\n    <tr>\n        <td>Meursault</td>\n        <td>1980</td>\n        <td>2</td>\n    </tr>\n    <tr>\n        <td>Monthelie</td>\n        <td>1968</td>\n        <td>106</td>\n    </tr>\n    <tr>\n        <td>Pommard</td>\n        <td>1972</td>\n        <td>23</td>\n    </tr>\n    <tr>\n        <td>Pommard</td>\n        <td>1976</td>\n        <td>55</td>\n    </tr>\n    <tr>\n        <td>Pouilly Vinzelles</td>\n        <td>1968</td>\n        <td>10</td>\n    </tr>\n    <tr>\n        <td>Rasteau</td>\n        <td>1980</td>\n        <td>15</td>\n    </tr>\n    <tr>\n        <td>Richebourg</td>\n        <td>1943</td>\n        <td>72</td>\n    </tr>\n    <tr>\n        <td>Saint Amour</td>\n        <td>1974</td>\n        <td>80</td>\n    </tr>\n    <tr>\n        <td>Saint Amour</td>\n        <td>1980</td>\n        <td>14</td>\n    </tr>\n    <tr>\n        <td>Savigny les Beaunes</td>\n        <td>1974</td>\n        <td>44</td>\n    </tr>\n    <tr>\n        <td>Savigny les Beaunes</td>\n        <td>1977</td>\n        <td>7</td>\n    </tr>\n    <tr>\n        <td>Savigny les Beaunes</td>\n        <td>1978</td>\n        <td>11</td>\n    </tr>\n    <tr>\n        <td>Seyssel</td>\n        <td>1974</td>\n        <td>24</td>\n    </tr>\n    <tr>\n        <td>Seyssel</td>\n        <td>1980</td>\n        <td>21</td>\n    </tr>\n    <tr>\n        <td>Tavel</td>\n        <td>1980</td>\n        <td>33</td>\n    </tr>\n    <tr>\n        <td>Volnay</td>\n        <td>1980</td>\n        <td>5</td>\n    </tr>\n</table>",
            "text/plain": "[('Arbois', 1980, 8),\n ('Auxey Duresses', 1914, 80),\n ('Beaujolais Primeur', 1983, 7),\n ('Beaujolais Villages', 1975, 10),\n ('Beaujolais Villages', 1976, 120),\n ('Beaujolais Villages', 1978, 130),\n ('Beaujolais Villages', 1979, 520),\n ('Chapelle Chambertin', 1973, 30),\n ('Chateau Corton Grancey', 1980, 4),\n ('Chenas', 1984, 1),\n ('Clairette de Die', 1976, 5),\n ('Cornas', 1980, 25),\n ('Cote de Brouilly', 1980, 23),\n ('Coteaux du Tricastin', 1974, 1),\n ('Coteaux du Tricastin', 1978, 12),\n ('Cotes de Beaune Villages', 1971, 14),\n ('Cotes de Beaune Villages', 1975, 96),\n ('Cotes de Nuits', 1978, 21),\n ('Cotes de Provence', 1980, 18),\n ('Etoile', 1980, 9),\n ('Fleurie', 1980, 7),\n ('Gentil', 1975, 36),\n ('Gigondas', 1978, 5),\n ('Grands Echezeaux', 1968, 31),\n ('Julienas', 1974, 2),\n ('Mercurey', 1980, 57),\n ('Mercurey', 1981, 36),\n ('Meursault', 1980, 2),\n ('Monthelie', 1968, 106),\n ('Pommard', 1972, 23),\n ('Pommard', 1976, 55),\n ('Pouilly Vinzelles', 1968, 10),\n ('Rasteau', 1980, 15),\n ('Richebourg', 1943, 72),\n ('Saint Amour', 1974, 80),\n ('Saint Amour', 1980, 14),\n ('Savigny les Beaunes', 1974, 44),\n ('Savigny les Beaunes', 1977, 7),\n ('Savigny les Beaunes', 1978, 11),\n ('Seyssel', 1974, 24),\n ('Seyssel', 1980, 21),\n ('Tavel', 1980, 33),\n ('Volnay', 1980, 5)]"
          },
          "metadata": {}
        }
      ]
    },
    {
      "metadata": {},
      "cell_type": "markdown",
      "source": "#### Exercise 2.5\n\nRetrieve the wine number (NV) of wines produced by more than three producers"
    },
    {
      "metadata": {
        "trusted": true
      },
      "cell_type": "code",
      "source": "%%sql\nSELECT DISTINCT NV FROM production GROUP BY NV HAVING COUNT(NP) >=3\n",
      "execution_count": 36,
      "outputs": [
        {
          "output_type": "stream",
          "text": " * sqlite:///wine.db\nDone.\n",
          "name": "stdout"
        },
        {
          "output_type": "execute_result",
          "execution_count": 36,
          "data": {
            "text/html": "<table>\n    <tr>\n        <th>NV</th>\n    </tr>\n    <tr>\n        <td>12</td>\n    </tr>\n    <tr>\n        <td>43</td>\n    </tr>\n    <tr>\n        <td>45</td>\n    </tr>\n    <tr>\n        <td>54</td>\n    </tr>\n    <tr>\n        <td>67</td>\n    </tr>\n    <tr>\n        <td>69</td>\n    </tr>\n    <tr>\n        <td>74</td>\n    </tr>\n    <tr>\n        <td>78</td>\n    </tr>\n    <tr>\n        <td>79</td>\n    </tr>\n    <tr>\n        <td>87</td>\n    </tr>\n    <tr>\n        <td>89</td>\n    </tr>\n    <tr>\n        <td>98</td>\n    </tr>\n</table>",
            "text/plain": "[(12,),\n (43,),\n (45,),\n (54,),\n (67,),\n (69,),\n (74,),\n (78,),\n (79,),\n (87,),\n (89,),\n (98,)]"
          },
          "metadata": {}
        }
      ]
    },
    {
      "metadata": {},
      "cell_type": "markdown",
      "source": "#### Exercise 2.6\n\nWhich producers have not produced any wine?"
    },
    {
      "metadata": {
        "scrolled": false,
        "trusted": true
      },
      "cell_type": "code",
      "source": "%%sql\nSELECT DISTINCT pr.NP, NV FROM producers pr LEFT JOIN production pd ON pr.NP=pd.NP  WHERE NV IS NULL ORDER BY pr.NP\n",
      "execution_count": 52,
      "outputs": [
        {
          "output_type": "stream",
          "text": " * sqlite:///wine.db\nDone.\n",
          "name": "stdout"
        },
        {
          "output_type": "execute_result",
          "execution_count": 52,
          "data": {
            "text/html": "<table>\n    <tr>\n        <th>NP</th>\n        <th>NV</th>\n    </tr>\n    <tr>\n        <td>3</td>\n        <td>None</td>\n    </tr>\n    <tr>\n        <td>6</td>\n        <td>None</td>\n    </tr>\n    <tr>\n        <td>8</td>\n        <td>None</td>\n    </tr>\n    <tr>\n        <td>16</td>\n        <td>None</td>\n    </tr>\n    <tr>\n        <td>17</td>\n        <td>None</td>\n    </tr>\n    <tr>\n        <td>18</td>\n        <td>None</td>\n    </tr>\n    <tr>\n        <td>19</td>\n        <td>None</td>\n    </tr>\n    <tr>\n        <td>20</td>\n        <td>None</td>\n    </tr>\n    <tr>\n        <td>21</td>\n        <td>None</td>\n    </tr>\n    <tr>\n        <td>26</td>\n        <td>None</td>\n    </tr>\n    <tr>\n        <td>28</td>\n        <td>None</td>\n    </tr>\n    <tr>\n        <td>29</td>\n        <td>None</td>\n    </tr>\n    <tr>\n        <td>31</td>\n        <td>None</td>\n    </tr>\n    <tr>\n        <td>32</td>\n        <td>None</td>\n    </tr>\n    <tr>\n        <td>33</td>\n        <td>None</td>\n    </tr>\n    <tr>\n        <td>34</td>\n        <td>None</td>\n    </tr>\n    <tr>\n        <td>37</td>\n        <td>None</td>\n    </tr>\n    <tr>\n        <td>39</td>\n        <td>None</td>\n    </tr>\n    <tr>\n        <td>41</td>\n        <td>None</td>\n    </tr>\n    <tr>\n        <td>44</td>\n        <td>None</td>\n    </tr>\n    <tr>\n        <td>47</td>\n        <td>None</td>\n    </tr>\n    <tr>\n        <td>48</td>\n        <td>None</td>\n    </tr>\n    <tr>\n        <td>49</td>\n        <td>None</td>\n    </tr>\n    <tr>\n        <td>51</td>\n        <td>None</td>\n    </tr>\n    <tr>\n        <td>53</td>\n        <td>None</td>\n    </tr>\n    <tr>\n        <td>57</td>\n        <td>None</td>\n    </tr>\n    <tr>\n        <td>58</td>\n        <td>None</td>\n    </tr>\n    <tr>\n        <td>61</td>\n        <td>None</td>\n    </tr>\n    <tr>\n        <td>62</td>\n        <td>None</td>\n    </tr>\n    <tr>\n        <td>66</td>\n        <td>None</td>\n    </tr>\n    <tr>\n        <td>77</td>\n        <td>None</td>\n    </tr>\n    <tr>\n        <td>83</td>\n        <td>None</td>\n    </tr>\n    <tr>\n        <td>91</td>\n        <td>None</td>\n    </tr>\n    <tr>\n        <td>92</td>\n        <td>None</td>\n    </tr>\n    <tr>\n        <td>94</td>\n        <td>None</td>\n    </tr>\n    <tr>\n        <td>96</td>\n        <td>None</td>\n    </tr>\n    <tr>\n        <td>97</td>\n        <td>None</td>\n    </tr>\n    <tr>\n        <td>100</td>\n        <td>None</td>\n    </tr>\n    <tr>\n        <td>101</td>\n        <td>None</td>\n    </tr>\n    <tr>\n        <td>102</td>\n        <td>None</td>\n    </tr>\n    <tr>\n        <td>103</td>\n        <td>None</td>\n    </tr>\n    <tr>\n        <td>104</td>\n        <td>None</td>\n    </tr>\n    <tr>\n        <td>105</td>\n        <td>None</td>\n    </tr>\n    <tr>\n        <td>106</td>\n        <td>None</td>\n    </tr>\n    <tr>\n        <td>108</td>\n        <td>None</td>\n    </tr>\n    <tr>\n        <td>109</td>\n        <td>None</td>\n    </tr>\n    <tr>\n        <td>110</td>\n        <td>None</td>\n    </tr>\n    <tr>\n        <td>111</td>\n        <td>None</td>\n    </tr>\n    <tr>\n        <td>112</td>\n        <td>None</td>\n    </tr>\n    <tr>\n        <td>113</td>\n        <td>None</td>\n    </tr>\n    <tr>\n        <td>114</td>\n        <td>None</td>\n    </tr>\n    <tr>\n        <td>115</td>\n        <td>None</td>\n    </tr>\n    <tr>\n        <td>116</td>\n        <td>None</td>\n    </tr>\n    <tr>\n        <td>117</td>\n        <td>None</td>\n    </tr>\n    <tr>\n        <td>118</td>\n        <td>None</td>\n    </tr>\n    <tr>\n        <td>119</td>\n        <td>None</td>\n    </tr>\n    <tr>\n        <td>121</td>\n        <td>None</td>\n    </tr>\n    <tr>\n        <td>122</td>\n        <td>None</td>\n    </tr>\n    <tr>\n        <td>123</td>\n        <td>None</td>\n    </tr>\n    <tr>\n        <td>124</td>\n        <td>None</td>\n    </tr>\n    <tr>\n        <td>125</td>\n        <td>None</td>\n    </tr>\n    <tr>\n        <td>126</td>\n        <td>None</td>\n    </tr>\n    <tr>\n        <td>127</td>\n        <td>None</td>\n    </tr>\n    <tr>\n        <td>129</td>\n        <td>None</td>\n    </tr>\n</table>",
            "text/plain": "[(3, None),\n (6, None),\n (8, None),\n (16, None),\n (17, None),\n (18, None),\n (19, None),\n (20, None),\n (21, None),\n (26, None),\n (28, None),\n (29, None),\n (31, None),\n (32, None),\n (33, None),\n (34, None),\n (37, None),\n (39, None),\n (41, None),\n (44, None),\n (47, None),\n (48, None),\n (49, None),\n (51, None),\n (53, None),\n (57, None),\n (58, None),\n (61, None),\n (62, None),\n (66, None),\n (77, None),\n (83, None),\n (91, None),\n (92, None),\n (94, None),\n (96, None),\n (97, None),\n (100, None),\n (101, None),\n (102, None),\n (103, None),\n (104, None),\n (105, None),\n (106, None),\n (108, None),\n (109, None),\n (110, None),\n (111, None),\n (112, None),\n (113, None),\n (114, None),\n (115, None),\n (116, None),\n (117, None),\n (118, None),\n (119, None),\n (121, None),\n (122, None),\n (123, None),\n (124, None),\n (125, None),\n (126, None),\n (127, None),\n (129, None)]"
          },
          "metadata": {}
        }
      ]
    },
    {
      "metadata": {},
      "cell_type": "markdown",
      "source": "#### Exercise 2.7\n\nWhat clients (buveurs) have bought at least one wine from 1980?"
    },
    {
      "metadata": {
        "trusted": true
      },
      "cell_type": "code",
      "source": "%%sql\nSELECT DISTINCT clients.NB FROM sales JOIN clients ON sales.NB = clients.NB JOIN wines ON sales.NV = wines.NV \nWHERE MILL = 1980 ORDER BY clients.NB\n",
      "execution_count": 64,
      "outputs": [
        {
          "output_type": "stream",
          "text": " * sqlite:///wine.db\nDone.\n",
          "name": "stdout"
        },
        {
          "output_type": "execute_result",
          "execution_count": 64,
          "data": {
            "text/html": "<table>\n    <tr>\n        <th>NB</th>\n    </tr>\n    <tr>\n        <td>2</td>\n    </tr>\n    <tr>\n        <td>8</td>\n    </tr>\n    <tr>\n        <td>44</td>\n    </tr>\n    <tr>\n        <td>45</td>\n    </tr>\n    <tr>\n        <td>50</td>\n    </tr>\n    <tr>\n        <td>61</td>\n    </tr>\n</table>",
            "text/plain": "[(2,), (8,), (44,), (45,), (50,), (61,)]"
          },
          "metadata": {}
        }
      ]
    },
    {
      "metadata": {},
      "cell_type": "markdown",
      "source": "#### Exercise 2.8\n\nWhat clients (buveurs) have NOT bought any wine from 1980?"
    },
    {
      "metadata": {
        "scrolled": true,
        "trusted": true
      },
      "cell_type": "code",
      "source": "%%sql\nSELECT DISTINCT clients.NB FROM clients WHERE clients.NB NOT IN \n(SELECT DISTINCT clients.NB FROM sales JOIN clients ON sales.NB = clients.NB JOIN wines ON sales.NV = sales.NV \nWHERE MILL = 1980 ORDER BY clients.NB)\n",
      "execution_count": 65,
      "outputs": [
        {
          "output_type": "stream",
          "text": " * sqlite:///wine.db\nDone.\n",
          "name": "stdout"
        },
        {
          "output_type": "execute_result",
          "execution_count": 65,
          "data": {
            "text/html": "<table>\n    <tr>\n        <th>NB</th>\n    </tr>\n    <tr>\n        <td>11</td>\n    </tr>\n    <tr>\n        <td>13</td>\n    </tr>\n    <tr>\n        <td>16</td>\n    </tr>\n    <tr>\n        <td>18</td>\n    </tr>\n    <tr>\n        <td>20</td>\n    </tr>\n    <tr>\n        <td>21</td>\n    </tr>\n    <tr>\n        <td>23</td>\n    </tr>\n    <tr>\n        <td>25</td>\n    </tr>\n    <tr>\n        <td>27</td>\n    </tr>\n    <tr>\n        <td>29</td>\n    </tr>\n    <tr>\n        <td>32</td>\n    </tr>\n    <tr>\n        <td>34</td>\n    </tr>\n    <tr>\n        <td>35</td>\n    </tr>\n    <tr>\n        <td>36</td>\n    </tr>\n    <tr>\n        <td>37</td>\n    </tr>\n    <tr>\n        <td>39</td>\n    </tr>\n    <tr>\n        <td>42</td>\n    </tr>\n    <tr>\n        <td>43</td>\n    </tr>\n    <tr>\n        <td>46</td>\n    </tr>\n    <tr>\n        <td>47</td>\n    </tr>\n    <tr>\n        <td>51</td>\n    </tr>\n    <tr>\n        <td>53</td>\n    </tr>\n    <tr>\n        <td>54</td>\n    </tr>\n    <tr>\n        <td>55</td>\n    </tr>\n    <tr>\n        <td>56</td>\n    </tr>\n    <tr>\n        <td>57</td>\n    </tr>\n    <tr>\n        <td>59</td>\n    </tr>\n    <tr>\n        <td>63</td>\n    </tr>\n    <tr>\n        <td>64</td>\n    </tr>\n    <tr>\n        <td>65</td>\n    </tr>\n    <tr>\n        <td>66</td>\n    </tr>\n    <tr>\n        <td>67</td>\n    </tr>\n    <tr>\n        <td>68</td>\n    </tr>\n    <tr>\n        <td>69</td>\n    </tr>\n    <tr>\n        <td>70</td>\n    </tr>\n    <tr>\n        <td>71</td>\n    </tr>\n    <tr>\n        <td>72</td>\n    </tr>\n    <tr>\n        <td>73</td>\n    </tr>\n    <tr>\n        <td>74</td>\n    </tr>\n    <tr>\n        <td>76</td>\n    </tr>\n    <tr>\n        <td>77</td>\n    </tr>\n    <tr>\n        <td>78</td>\n    </tr>\n    <tr>\n        <td>79</td>\n    </tr>\n    <tr>\n        <td>81</td>\n    </tr>\n    <tr>\n        <td>83</td>\n    </tr>\n    <tr>\n        <td>84</td>\n    </tr>\n    <tr>\n        <td>85</td>\n    </tr>\n    <tr>\n        <td>86</td>\n    </tr>\n    <tr>\n        <td>87</td>\n    </tr>\n    <tr>\n        <td>88</td>\n    </tr>\n    <tr>\n        <td>89</td>\n    </tr>\n    <tr>\n        <td>90</td>\n    </tr>\n    <tr>\n        <td>91</td>\n    </tr>\n    <tr>\n        <td>93</td>\n    </tr>\n    <tr>\n        <td>95</td>\n    </tr>\n    <tr>\n        <td>98</td>\n    </tr>\n    <tr>\n        <td>99</td>\n    </tr>\n</table>",
            "text/plain": "[(11,),\n (13,),\n (16,),\n (18,),\n (20,),\n (21,),\n (23,),\n (25,),\n (27,),\n (29,),\n (32,),\n (34,),\n (35,),\n (36,),\n (37,),\n (39,),\n (42,),\n (43,),\n (46,),\n (47,),\n (51,),\n (53,),\n (54,),\n (55,),\n (56,),\n (57,),\n (59,),\n (63,),\n (64,),\n (65,),\n (66,),\n (67,),\n (68,),\n (69,),\n (70,),\n (71,),\n (72,),\n (73,),\n (74,),\n (76,),\n (77,),\n (78,),\n (79,),\n (81,),\n (83,),\n (84,),\n (85,),\n (86,),\n (87,),\n (88,),\n (89,),\n (90,),\n (91,),\n (93,),\n (95,),\n (98,),\n (99,)]"
          },
          "metadata": {}
        }
      ]
    },
    {
      "metadata": {},
      "cell_type": "markdown",
      "source": "#### Exercise 2.9\n\nWhat clients (buveurs) have bought ONLY wines from 1980?"
    },
    {
      "metadata": {
        "trusted": true
      },
      "cell_type": "code",
      "source": "%%sql\nSELECT DISTINCT sales.NB FROM sales WHERE sales.NB IN \n(SELECT DISTINCT clients.NB FROM sales JOIN clients ON sales.NB = clients.NB JOIN wines ON sales.NV = wines.NV \nWHERE MILL = 1980 ORDER BY clients.NB) GROUP BY sales.NB HAVING count(sales.NB) = 1\n",
      "execution_count": 66,
      "outputs": [
        {
          "output_type": "stream",
          "text": " * sqlite:///wine.db\nDone.\n",
          "name": "stdout"
        },
        {
          "output_type": "execute_result",
          "execution_count": 66,
          "data": {
            "text/html": "<table>\n    <tr>\n        <th>NB</th>\n    </tr>\n    <tr>\n        <td>45</td>\n    </tr>\n    <tr>\n        <td>50</td>\n    </tr>\n</table>",
            "text/plain": "[(45,), (50,)]"
          },
          "metadata": {}
        }
      ]
    },
    {
      "metadata": {},
      "cell_type": "markdown",
      "source": "#### Exercise 2.10\n\nList all wines from 1980"
    },
    {
      "metadata": {
        "trusted": true
      },
      "cell_type": "code",
      "source": "%%sql\nSELECT * FROM WINES WHERE MILL = 1980",
      "execution_count": 68,
      "outputs": [
        {
          "output_type": "stream",
          "text": " * sqlite:///wine.db\nDone.\n",
          "name": "stdout"
        },
        {
          "output_type": "execute_result",
          "execution_count": 68,
          "data": {
            "text/html": "<table>\n    <tr>\n        <th>NV</th>\n        <th>CRU</th>\n        <th>DEGRE</th>\n        <th>MILL</th>\n    </tr>\n    <tr>\n        <td>1</td>\n        <td>Mercurey</td>\n        <td>11.5</td>\n        <td>1980</td>\n    </tr>\n    <tr>\n        <td>4</td>\n        <td>Mercurey</td>\n        <td>10.9</td>\n        <td>1980</td>\n    </tr>\n    <tr>\n        <td>16</td>\n        <td>Meursault</td>\n        <td>12.1</td>\n        <td>1980</td>\n    </tr>\n    <tr>\n        <td>20</td>\n        <td>Cote de Brouilly</td>\n        <td>12.1</td>\n        <td>1980</td>\n    </tr>\n    <tr>\n        <td>26</td>\n        <td>Chateau Corton Grancey</td>\n        <td>None</td>\n        <td>1980</td>\n    </tr>\n    <tr>\n        <td>28</td>\n        <td>Volnay</td>\n        <td>11</td>\n        <td>1980</td>\n    </tr>\n    <tr>\n        <td>43</td>\n        <td>Fleurie</td>\n        <td>11.4</td>\n        <td>1980</td>\n    </tr>\n    <tr>\n        <td>74</td>\n        <td>Arbois</td>\n        <td>12</td>\n        <td>1980</td>\n    </tr>\n    <tr>\n        <td>78</td>\n        <td>Etoile</td>\n        <td>12</td>\n        <td>1980</td>\n    </tr>\n    <tr>\n        <td>79</td>\n        <td>Seyssel</td>\n        <td>11</td>\n        <td>1980</td>\n    </tr>\n    <tr>\n        <td>80</td>\n        <td>Seyssel</td>\n        <td>11</td>\n        <td>1980</td>\n    </tr>\n    <tr>\n        <td>81</td>\n        <td>Cornas</td>\n        <td>11.1</td>\n        <td>1980</td>\n    </tr>\n    <tr>\n        <td>82</td>\n        <td>Cornas</td>\n        <td>11</td>\n        <td>1980</td>\n    </tr>\n    <tr>\n        <td>83</td>\n        <td>Saint Amour</td>\n        <td>10</td>\n        <td>1980</td>\n    </tr>\n    <tr>\n        <td>84</td>\n        <td>Rasteau</td>\n        <td>10</td>\n        <td>1980</td>\n    </tr>\n    <tr>\n        <td>85</td>\n        <td>Tavel</td>\n        <td>11</td>\n        <td>1980</td>\n    </tr>\n    <tr>\n        <td>86</td>\n        <td>Tavel</td>\n        <td>11</td>\n        <td>1980</td>\n    </tr>\n    <tr>\n        <td>87</td>\n        <td>Cotes de Provence</td>\n        <td>None</td>\n        <td>1980</td>\n    </tr>\n</table>",
            "text/plain": "[(1, 'Mercurey', 11.5, 1980),\n (4, 'Mercurey', 10.9, 1980),\n (16, 'Meursault', 12.1, 1980),\n (20, 'Cote de Brouilly', 12.1, 1980),\n (26, 'Chateau Corton Grancey', None, 1980),\n (28, 'Volnay', 11, 1980),\n (43, 'Fleurie', 11.4, 1980),\n (74, 'Arbois', 12, 1980),\n (78, 'Etoile', 12, 1980),\n (79, 'Seyssel', 11, 1980),\n (80, 'Seyssel', 11, 1980),\n (81, 'Cornas', 11.1, 1980),\n (82, 'Cornas', 11, 1980),\n (83, 'Saint Amour', 10, 1980),\n (84, 'Rasteau', 10, 1980),\n (85, 'Tavel', 11, 1980),\n (86, 'Tavel', 11, 1980),\n (87, 'Cotes de Provence', None, 1980)]"
          },
          "metadata": {}
        }
      ]
    },
    {
      "metadata": {},
      "cell_type": "markdown",
      "source": "#### Exercise 2.11\n\nWhat are the wines from 1980 bought by NB=2?"
    },
    {
      "metadata": {
        "trusted": true
      },
      "cell_type": "code",
      "source": "%%sql\nSELECT DISTINCT sales.NV FROM sales JOIN wines ON sales.NV = wines.NV \nWHERE MILL = 1980 AND NB=2\n",
      "execution_count": 75,
      "outputs": [
        {
          "output_type": "stream",
          "text": " * sqlite:///wine.db\nDone.\n",
          "name": "stdout"
        },
        {
          "output_type": "execute_result",
          "execution_count": 75,
          "data": {
            "text/html": "<table>\n    <tr>\n        <th>NV</th>\n    </tr>\n    <tr>\n        <td>1</td>\n    </tr>\n</table>",
            "text/plain": "[(1,)]"
          },
          "metadata": {}
        }
      ]
    },
    {
      "metadata": {},
      "cell_type": "markdown",
      "source": "#### Exercise 2.12\n\nWhat clients (buveurs) have bought ALL the wines from 1980?"
    },
    {
      "metadata": {
        "trusted": true
      },
      "cell_type": "code",
      "source": "%%sql\nSELECT sales.NB, COUNT(sales.NB) FROM sales JOIN wines ON sales.NV = wines.NV \nWHERE MILL = 1980 AND NB IN (SELECT DISTINCT clients.NB FROM sales JOIN clients ON sales.NB = clients.NB JOIN wines ON sales.NV = wines.NV \nWHERE MILL = 1980 ORDER BY clients.NB) GROUP BY sales.NB HAVING COUNT(sales.NB) = (SELECT COUNT(NV) FROM WINES WHERE MILL = 1980)",
      "execution_count": 89,
      "outputs": [
        {
          "output_type": "stream",
          "text": " * sqlite:///wine.db\nDone.\n",
          "name": "stdout"
        },
        {
          "output_type": "execute_result",
          "execution_count": 89,
          "data": {
            "text/html": "<table>\n    <tr>\n        <th>NB</th>\n        <th>COUNT(sales.NB)</th>\n    </tr>\n    <tr>\n        <td>44</td>\n        <td>18</td>\n    </tr>\n</table>",
            "text/plain": "[(44, 18)]"
          },
          "metadata": {}
        }
      ]
    },
    {
      "metadata": {
        "trusted": true
      },
      "cell_type": "code",
      "source": "%%sql\nSELECT DISTINCT B.NB FROM sales B JOIN wines ON B.NV = wines.NV \nWHERE NOT EXISTS (SELECT V.NV FROM sales V JOIN wines ON V.NV = wines.NV \n    WHERE MILL = 1980 AND NOT EXISTS (SELECT S.NB FROM sales S WHERE S.NB = B.NB AND S.NV = V.NV))",
      "execution_count": 98,
      "outputs": [
        {
          "output_type": "stream",
          "text": " * sqlite:///wine.db\nDone.\n",
          "name": "stdout"
        },
        {
          "output_type": "execute_result",
          "execution_count": 98,
          "data": {
            "text/html": "<table>\n    <tr>\n        <th>NB</th>\n    </tr>\n    <tr>\n        <td>44</td>\n    </tr>\n</table>",
            "text/plain": "[(44,)]"
          },
          "metadata": {}
        }
      ]
    },
    {
      "metadata": {
        "trusted": true
      },
      "cell_type": "code",
      "source": "",
      "execution_count": null,
      "outputs": []
    }
  ],
  "metadata": {
    "anaconda-cloud": {},
    "kernelspec": {
      "name": "python36",
      "display_name": "Python 3.6",
      "language": "python"
    },
    "language_info": {
      "mimetype": "text/x-python",
      "nbconvert_exporter": "python",
      "name": "python",
      "pygments_lexer": "ipython3",
      "version": "3.6.6",
      "file_extension": ".py",
      "codemirror_mode": {
        "version": 3,
        "name": "ipython"
      }
    }
  },
  "nbformat": 4,
  "nbformat_minor": 2
}