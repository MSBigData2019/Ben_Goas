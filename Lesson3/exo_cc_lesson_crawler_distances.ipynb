{
  "cells": [
    {
      "metadata": {},
      "cell_type": "markdown",
      "source": "# Distances web crawler + API test\n"
    },
    {
      "metadata": {
        "trusted": true
      },
      "cell_type": "code",
      "source": "import pandas as pd;\nimport requests\nimport unittest\nfrom bs4 import BeautifulSoup\n#from multiprocessing import Pool\nfrom ipywidgets import widgets\nfrom IPython.display import display\n#import json\nimport re\n",
      "execution_count": 2,
      "outputs": []
    },
    {
      "metadata": {
        "trusted": true
      },
      "cell_type": "code",
      "source": "website_main = \"https://fr.wikipedia.org/wiki/Liste_des_communes_de_France_les_plus_peupl%C3%A9es\"\nwebsite_prefix = \"https://www.distance24.org/route.json?stops=\"\n",
      "execution_count": 3,
      "outputs": []
    },
    {
      "metadata": {
        "trusted": true
      },
      "cell_type": "code",
      "source": "def _handle_request_result_and_build_soup(request_result):\n    if request_result.status_code == 200:\n        html_doc =  request_result.text\n        soup = BeautifulSoup(html_doc,\"html.parser\")\n        return soup\n",
      "execution_count": 4,
      "outputs": []
    },
    {
      "metadata": {
        "trusted": true
      },
      "cell_type": "code",
      "source": "def _convert_string_to_float(string):\n    temp = string.strip()\n    if temp[0]== '(' : # small negative percentage\n        return float(temp[1:-2])\n    if temp[-1]== '-' : # -- NA value\n        return 0.0\n    temp = ''.join(temp.split(',')) # remove thousand's comma\n    return float(temp)\n",
      "execution_count": 5,
      "outputs": []
    },
    {
      "metadata": {
        "trusted": true
      },
      "cell_type": "code",
      "source": "def get_page_soup(page):\n    res = requests.get(page)\n    #r = requests.get(url, headers=api_headers)\n    soup = _handle_request_result_and_build_soup(res)\n    return soup\n",
      "execution_count": 6,
      "outputs": []
    },
    {
      "metadata": {
        "trusted": true
      },
      "cell_type": "code",
      "source": "def get_page_api(page):\n    res = requests.get(website_prefix + page);\n                       #, headers=api_headers, \n                       #auth=(login, password))\n    if res.status_code != 200:\n        print(\"Git error: status code\", res.status_code)\n    return res.json()\n",
      "execution_count": 26,
      "outputs": []
    },
    {
      "metadata": {
        "trusted": true
      },
      "cell_type": "code",
      "source": "",
      "execution_count": null,
      "outputs": []
    },
    {
      "metadata": {
        "trusted": true
      },
      "cell_type": "code",
      "source": "",
      "execution_count": null,
      "outputs": []
    },
    {
      "metadata": {
        "trusted": true
      },
      "cell_type": "markdown",
      "source": "# Matrice de distances"
    },
    {
      "metadata": {
        "trusted": true
      },
      "cell_type": "code",
      "source": "s = get_page_soup(website_main)\n",
      "execution_count": 9,
      "outputs": []
    },
    {
      "metadata": {
        "trusted": true
      },
      "cell_type": "code",
      "source": "l = s.find_all(\"tr\")\n#l\n",
      "execution_count": 68,
      "outputs": []
    },
    {
      "metadata": {
        "trusted": true
      },
      "cell_type": "code",
      "source": "#l[1].find(\"a\").text",
      "execution_count": 69,
      "outputs": []
    },
    {
      "metadata": {
        "trusted": true
      },
      "cell_type": "code",
      "source": "#for i in range(1,51):\n#   print(l[i].find(\"a\").text)",
      "execution_count": 67,
      "outputs": []
    },
    {
      "metadata": {
        "trusted": true
      },
      "cell_type": "code",
      "source": "g=get_page_api('Paris|Rouen')",
      "execution_count": 29,
      "outputs": []
    },
    {
      "metadata": {
        "trusted": true
      },
      "cell_type": "code",
      "source": "g['distance']",
      "execution_count": 34,
      "outputs": [
        {
          "output_type": "execute_result",
          "execution_count": 34,
          "data": {
            "text/plain": "112"
          },
          "metadata": {}
        }
      ]
    },
    {
      "metadata": {
        "trusted": true
      },
      "cell_type": "code",
      "source": "df = pd.DataFrame();\nfor i in range(1,51):\n    df[l[i].find(\"a\").text]=0\nfor i in range(1,3):\n    src = l[i].find(\"a\").text\n    row = pd.Series(name=src); #nouvelle ligne, nommee\n    for j in range(1,i):\n        dst = l[j].find(\"a\").text\n        row.at[dst]=df.loc[dst][src] #acces ligne\n    row.at[src]=0\n    for j in range(i+1,51):\n        dst = l[j].find(\"a\").text\n        g=get_page_api(src + '|' + dst)\n        row.at[dst]=g['distance']\n    #print(row)\n    df = df.append(row)\n    \n",
      "execution_count": 65,
      "outputs": []
    },
    {
      "metadata": {
        "trusted": true
      },
      "cell_type": "code",
      "source": "df\n",
      "execution_count": 66,
      "outputs": [
        {
          "output_type": "execute_result",
          "execution_count": 66,
          "data": {
            "text/html": "<div>\n<style scoped>\n    .dataframe tbody tr th:only-of-type {\n        vertical-align: middle;\n    }\n\n    .dataframe tbody tr th {\n        vertical-align: top;\n    }\n\n    .dataframe thead th {\n        text-align: right;\n    }\n</style>\n<table border=\"1\" class=\"dataframe\">\n  <thead>\n    <tr style=\"text-align: right;\">\n      <th></th>\n      <th>Paris</th>\n      <th>Marseille</th>\n      <th>Lyon</th>\n      <th>Toulouse</th>\n      <th>Nice</th>\n      <th>Nantes</th>\n      <th>Montpellier</th>\n      <th>Strasbourg</th>\n      <th>Bordeaux</th>\n      <th>Lille</th>\n      <th>...</th>\n      <th>Saint-Paul</th>\n      <th>Nancy</th>\n      <th>Nouméa</th>\n      <th>Tourcoing</th>\n      <th>Roubaix</th>\n      <th>Nanterre</th>\n      <th>Vitry-sur-Seine</th>\n      <th>Avignon</th>\n      <th>Créteil</th>\n      <th>Dunkerque</th>\n    </tr>\n  </thead>\n  <tbody>\n    <tr>\n      <th>Paris</th>\n      <td>0</td>\n      <td>661</td>\n      <td>392</td>\n      <td>589</td>\n      <td>688</td>\n      <td>343</td>\n      <td>596</td>\n      <td>397</td>\n      <td>500</td>\n      <td>204</td>\n      <td>...</td>\n      <td>6771</td>\n      <td>282</td>\n      <td>16767</td>\n      <td>216</td>\n      <td>213</td>\n      <td>11</td>\n      <td>8</td>\n      <td>578</td>\n      <td>11</td>\n      <td>243</td>\n    </tr>\n    <tr>\n      <th>Marseille</th>\n      <td>661</td>\n      <td>0</td>\n      <td>278</td>\n      <td>319</td>\n      <td>159</td>\n      <td>696</td>\n      <td>126</td>\n      <td>617</td>\n      <td>506</td>\n      <td>835</td>\n      <td>...</td>\n      <td>7336</td>\n      <td>604</td>\n      <td>17124</td>\n      <td>844</td>\n      <td>840</td>\n      <td>669</td>\n      <td>653</td>\n      <td>86</td>\n      <td>652</td>\n      <td>891</td>\n    </tr>\n  </tbody>\n</table>\n<p>2 rows × 49 columns</p>\n</div>",
            "text/plain": "           Paris  Marseille  Lyon  Toulouse  Nice  Nantes  Montpellier  \\\nParis          0        661   392       589   688     343          596   \nMarseille    661          0   278       319   159     696          126   \n\n           Strasbourg  Bordeaux  Lille    ...      Saint-Paul  Nancy  Nouméa  \\\nParis             397       500    204    ...            6771    282   16767   \nMarseille         617       506    835    ...            7336    604   17124   \n\n           Tourcoing  Roubaix  Nanterre  Vitry-sur-Seine  Avignon  Créteil  \\\nParis            216      213        11                8      578       11   \nMarseille        844      840       669              653       86      652   \n\n           Dunkerque  \nParis            243  \nMarseille        891  \n\n[2 rows x 49 columns]"
          },
          "metadata": {}
        }
      ]
    },
    {
      "metadata": {
        "trusted": true
      },
      "cell_type": "code",
      "source": "",
      "execution_count": null,
      "outputs": []
    }
  ],
  "metadata": {
    "kernelspec": {
      "name": "python36",
      "display_name": "Python 3.6",
      "language": "python"
    },
    "language_info": {
      "mimetype": "text/x-python",
      "nbconvert_exporter": "python",
      "name": "python",
      "pygments_lexer": "ipython3",
      "version": "3.6.6",
      "file_extension": ".py",
      "codemirror_mode": {
        "version": 3,
        "name": "ipython"
      }
    }
  },
  "nbformat": 4,
  "nbformat_minor": 2
}