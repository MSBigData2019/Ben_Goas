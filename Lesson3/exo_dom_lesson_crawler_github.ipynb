{
  "cells": [
    {
      "metadata": {},
      "cell_type": "markdown",
      "source": "# Github web crawler + API test\n"
    },
    {
      "metadata": {
        "trusted": true
      },
      "cell_type": "code",
      "source": "import pandas as pd;\nimport requests\nimport unittest\nfrom bs4 import BeautifulSoup\n#from multiprocessing import Pool\nfrom ipywidgets import widgets\nfrom IPython.display import display\n",
      "execution_count": 1,
      "outputs": []
    },
    {
      "metadata": {
        "trusted": true
      },
      "cell_type": "code",
      "source": "website_main = \"https://gist.github.com/paulmillr/2657075\"\nwebsite_prefix = \"https://api.github.com\"\napi_headers = {'Accept': 'application/vnd.github.v3+json'}",
      "execution_count": 2,
      "outputs": []
    },
    {
      "metadata": {
        "trusted": true
      },
      "cell_type": "code",
      "source": "def _handle_request_result_and_build_soup(request_result):\n    if request_result.status_code == 200:\n        html_doc =  request_result.text\n        soup = BeautifulSoup(html_doc,\"html.parser\")\n        return soup\n",
      "execution_count": 3,
      "outputs": []
    },
    {
      "metadata": {
        "trusted": true
      },
      "cell_type": "code",
      "source": "def _convert_string_to_float(string):\n    temp = string.strip()\n    if temp[0]== '(' : # small negative percentage\n        return float(temp[1:-2])\n    if temp[-1]== '-' : # -- NA value\n        return 0.0\n    temp = ''.join(temp.split(',')) # remove thousand's comma\n    return float(temp)\n",
      "execution_count": 4,
      "outputs": []
    },
    {
      "metadata": {
        "trusted": true
      },
      "cell_type": "code",
      "source": "def get_page_soup(page):\n    res = requests.get(page)\n    #r = requests.get(url, headers=api_headers)\n    soup = _handle_request_result_and_build_soup(res)\n    return soup\n",
      "execution_count": 5,
      "outputs": []
    },
    {
      "metadata": {
        "trusted": true
      },
      "cell_type": "code",
      "source": "def get_page_api(page):\n    res = requests.get(website_prefix + page, headers=api_headers, \n                       auth=(login, password))\n    if res.status_code != 200:\n        print(\"Git error: status code\", res.status_code)\n    return res.json()\n",
      "execution_count": 6,
      "outputs": []
    },
    {
      "metadata": {
        "trusted": true
      },
      "cell_type": "code",
      "source": "def process_github(nb):\n    s = get_page_soup(website_main)\n    liste = s.find_all(\"tr\", limit = (nb+1))\n    liste_heads = liste[0].find_all(\"th\", limit = 4)\n    #liste_heads[0].text = #, titres des rangs\n    #liste_heads[1].text = User\n    #liste_heads[2].text = Contribs\n    #liste_heads[3].text = Location\n    #liste_heads[4].text = Picture, discard\n    df = pd.DataFrame(columns=[liste_heads[1].text, liste_heads[2].text,\n                           liste_heads[3].text, 'moyenne'])\n    for i in range(1, len(liste)):\n        if i%8 == 0:\n            print('.', end='', flush=True)\n        liste_user = liste[i].find_all(\"td\", limit = 3) #premier utilisateur, rank\n        #liste_user[0].a.text #name\n        #liste_user[1].text #contribs\n        #liste_user[2].text #location\n        name = liste_user[0].a.text\n        #print(i, ' ', name)\n        #GET /users/:username/repos #Default: owner\n        g = get_page_api(\"/users/\" + name + \"/repos\")\n        if len(g) > 0:\n            sum = 0;\n            for k in range(len(g)):\n                #print(g[k]['name'] + ' ' + str(g[k]['stargazers_count']))\n                sum += g[k]['stargazers_count']\n            sum /= len(g)\n        else:\n            sum = 0 #at 179 thejameskyle !\n        #print(sum)\n        df.loc[str(i)] = pd.Series({liste_heads[1].text:name,\n                                    liste_heads[2].text:liste_user[1].text,\n                                    liste_heads[3].text:liste_user[2].text,\n                                   'moyenne': sum})\n    \n    print(\"\");\n    return df;\n",
      "execution_count": 7,
      "outputs": []
    },
    {
      "metadata": {
        "trusted": true
      },
      "cell_type": "code",
      "source": "",
      "execution_count": null,
      "outputs": []
    },
    {
      "metadata": {
        "trusted": true
      },
      "cell_type": "code",
      "source": "login = \"bgtel\";\npassword = \"blank\"\n\ntext1 = widgets.Text(\n    placeholder='login',\n    description='Login:'\n)\n\ntext2 = widgets.Text(\n    placeholder='access token or password',\n    description='Password:'\n)\n\ndef handle_submit1(sender):\n    global login #2 lignes requis\n    login = text1.value\n    print(\"Login stored\")\n\ndef handle_submit2(sender):\n    global password\n    password = text2.value\n    text2.value=u'*'*len(text2.value)\n    print(\"Password stored\")\n\ntext1.on_submit(handle_submit1)\ntext2.on_submit(handle_submit2)\n\nprint(\"Warning, the password my be sent in clear text in the header!\")\nprint(\"Enter login infos here:\")\ndisplay(text1)\ndisplay(text2)\n",
      "execution_count": 8,
      "outputs": [
        {
          "output_type": "stream",
          "text": "Warning, the password my be sent in clear text in the header!\nEnter login infos here:\n",
          "name": "stdout"
        },
        {
          "output_type": "display_data",
          "data": {
            "application/vnd.jupyter.widget-view+json": {
              "model_id": "973a211adb3449f2a88a8d125eb9f161",
              "version_minor": 0,
              "version_major": 2
            },
            "text/plain": "Text(value='', description='Login:', placeholder='login')"
          },
          "metadata": {}
        },
        {
          "output_type": "display_data",
          "data": {
            "application/vnd.jupyter.widget-view+json": {
              "model_id": "6b5b4c2e8e9942a5838816d2d1d9a06f",
              "version_minor": 0,
              "version_major": 2
            },
            "text/plain": "Text(value='', description='Password:', placeholder='access token or password')"
          },
          "metadata": {}
        },
        {
          "output_type": "stream",
          "text": "Password stored\n",
          "name": "stdout"
        }
      ]
    },
    {
      "metadata": {
        "trusted": true
      },
      "cell_type": "code",
      "source": "",
      "execution_count": null,
      "outputs": []
    },
    {
      "metadata": {},
      "cell_type": "markdown",
      "source": "# Lancer ici une fois les droits d'acc&egrave;s remplis ci-dessus"
    },
    {
      "metadata": {
        "trusted": true
      },
      "cell_type": "code",
      "source": "df = pd.DataFrame();\nif password != \"blank\":\n    nb = 256\n    print(\"Progress to ------------------->\")\n    df = process_github(nb);\n    df = df.sort_values(['moyenne'], ascending = [0])\nelse:\n    print(\"Need login infos in the fields above!\")\ndf.head(10)",
      "execution_count": 11,
      "outputs": [
        {
          "output_type": "stream",
          "text": "Progress to -------------------->\n................................\n",
          "name": "stdout"
        },
        {
          "output_type": "execute_result",
          "execution_count": 11,
          "data": {
            "text/html": "<div>\n<style scoped>\n    .dataframe tbody tr th:only-of-type {\n        vertical-align: middle;\n    }\n\n    .dataframe tbody tr th {\n        vertical-align: top;\n    }\n\n    .dataframe thead th {\n        text-align: right;\n    }\n</style>\n<table border=\"1\" class=\"dataframe\">\n  <thead>\n    <tr style=\"text-align: right;\">\n      <th></th>\n      <th>User</th>\n      <th>Contribs</th>\n      <th>Location</th>\n      <th>moyenne</th>\n    </tr>\n  </thead>\n  <tbody>\n    <tr>\n      <th>226</th>\n      <td>bailicangdu</td>\n      <td>1500</td>\n      <td>Shanghai, China</td>\n      <td>3489.923077</td>\n    </tr>\n    <tr>\n      <th>19</th>\n      <td>kamranahmedse</td>\n      <td>4994</td>\n      <td>Dubai</td>\n      <td>3295.833333</td>\n    </tr>\n    <tr>\n      <th>143</th>\n      <td>vinta</td>\n      <td>2213</td>\n      <td>Taipei, Taiwan</td>\n      <td>1946.933333</td>\n    </tr>\n    <tr>\n      <th>118</th>\n      <td>mrdoob</td>\n      <td>2555</td>\n      <td></td>\n      <td>1856.366667</td>\n    </tr>\n    <tr>\n      <th>45</th>\n      <td>sebastianbergmann</td>\n      <td>4390</td>\n      <td>Siegburg, Germany</td>\n      <td>1611.200000</td>\n    </tr>\n  </tbody>\n</table>\n</div>",
            "text/plain": "                  User Contribs           Location      moyenne\n226        bailicangdu     1500    Shanghai, China  3489.923077\n19       kamranahmedse     4994              Dubai  3295.833333\n143              vinta     2213     Taipei, Taiwan  1946.933333\n118             mrdoob     2555                     1856.366667\n45   sebastianbergmann     4390  Siegburg, Germany  1611.200000"
          },
          "metadata": {}
        }
      ]
    },
    {
      "metadata": {
        "trusted": true
      },
      "cell_type": "code",
      "source": "",
      "execution_count": null,
      "outputs": []
    },
    {
      "metadata": {
        "trusted": true
      },
      "cell_type": "code",
      "source": "# Pour verif d'acces\nget_page_api(\"/rate_limit\") #60 per hour sans user id, not enough",
      "execution_count": 13,
      "outputs": [
        {
          "output_type": "execute_result",
          "execution_count": 13,
          "data": {
            "text/plain": "{'rate': {'limit': 5000, 'remaining': 3617, 'reset': 1539632768},\n 'resources': {'core': {'limit': 5000, 'remaining': 3617, 'reset': 1539632768},\n  'graphql': {'limit': 5000, 'remaining': 5000, 'reset': 1539634452},\n  'search': {'limit': 30, 'remaining': 30, 'reset': 1539630912}}}"
          },
          "metadata": {}
        }
      ]
    },
    {
      "metadata": {
        "trusted": true
      },
      "cell_type": "code",
      "source": "",
      "execution_count": null,
      "outputs": []
    }
  ],
  "metadata": {
    "kernelspec": {
      "name": "python36",
      "display_name": "Python 3.6",
      "language": "python"
    },
    "language_info": {
      "mimetype": "text/x-python",
      "nbconvert_exporter": "python",
      "name": "python",
      "pygments_lexer": "ipython3",
      "version": "3.6.6",
      "file_extension": ".py",
      "codemirror_mode": {
        "version": 3,
        "name": "ipython"
      }
    }
  },
  "nbformat": 4,
  "nbformat_minor": 2
}
