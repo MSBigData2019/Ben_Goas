{
  "cells": [
    {
      "metadata": {},
      "cell_type": "markdown",
      "source": "# Github web crawler + API test\n"
    },
    {
      "metadata": {
        "trusted": true
      },
      "cell_type": "code",
      "source": "import pandas as pd;\nimport requests\nimport unittest\nfrom bs4 import BeautifulSoup\n#from multiprocessing import Pool\nfrom ipywidgets import widgets\nfrom IPython.display import display\n#import json\nimport re\n",
      "execution_count": 11,
      "outputs": []
    },
    {
      "metadata": {
        "trusted": true
      },
      "cell_type": "code",
      "source": "website_main = \"https://gist.github.com/paulmillr/2657075\"\nwebsite_prefix = \"https://api.github.com\"\napi_headers = {'Accept': 'application/vnd.github.v3+json'}",
      "execution_count": 2,
      "outputs": []
    },
    {
      "metadata": {
        "trusted": true
      },
      "cell_type": "code",
      "source": "def _handle_request_result_and_build_soup(request_result):\n    if request_result.status_code == 200:\n        html_doc =  request_result.text\n        soup = BeautifulSoup(html_doc,\"html.parser\")\n        return soup\n",
      "execution_count": 3,
      "outputs": []
    },
    {
      "metadata": {
        "trusted": true
      },
      "cell_type": "code",
      "source": "def _convert_string_to_float(string):\n    temp = string.strip()\n    if temp[0]== '(' : # small negative percentage\n        return float(temp[1:-2])\n    if temp[-1]== '-' : # -- NA value\n        return 0.0\n    temp = ''.join(temp.split(',')) # remove thousand's comma\n    return float(temp)\n",
      "execution_count": 4,
      "outputs": []
    },
    {
      "metadata": {
        "trusted": true
      },
      "cell_type": "code",
      "source": "def get_page_soup(page):\n    res = requests.get(page)\n    #r = requests.get(url, headers=api_headers)\n    soup = _handle_request_result_and_build_soup(res)\n    return soup\n",
      "execution_count": 5,
      "outputs": []
    },
    {
      "metadata": {
        "trusted": true
      },
      "cell_type": "code",
      "source": "def get_page_api(page):\n    res = requests.get(website_prefix + page, headers=api_headers, \n                       auth=(login, password))\n    if res.status_code != 200:\n        print(\"Git error: status code\", res.status_code)\n    return res\n",
      "execution_count": 6,
      "outputs": []
    },
    {
      "metadata": {
        "trusted": true
      },
      "cell_type": "code",
      "source": "def process_github(nb):\n    s = get_page_soup(website_main)\n    liste = s.find_all(\"tr\", limit = (nb+1))\n    liste_heads = liste[0].find_all(\"th\", limit = 4)\n    #liste_heads[0].text = #, titres des rangs\n    #liste_heads[1].text = User\n    #liste_heads[2].text = Contribs\n    #liste_heads[3].text = Location\n    #liste_heads[4].text = Picture, discard\n    df = pd.DataFrame(columns=[liste_heads[1].text, liste_heads[2].text,\n                           liste_heads[3].text, 'stars', 'count', 'moyenne'])\n    for i in range(1, len(liste)):\n        if i%8 == 0:\n            print('.', end='', flush=True)\n        liste_user = liste[i].find_all(\"td\", limit = 3) #premier utilisateur, rank\n        #liste_user[0].a.text #name\n        #liste_user[1].text #contribs\n        #liste_user[2].text #location\n        name = liste_user[0].a.text\n        #print(i, ' ', name)\n        #GET /users/:username/repos #Default: owner\n        p = 0;\n        maxp = 1;\n        while p < maxp:\n            if p == 0:\n                cnt = 0;\n                sum = 0;\n            p = p + 1\n            g = get_page_api(\"/users/\" + name + \"/repos?per_page=100&page=\" + str(p))\n            heads = g.headers;\n            #print(heads);\n            if 'Link' not in heads:\n                maxp = 0; #done\n            elif p == 1:\n                pages = heads['Link'].split(',')\n                links = list(map(lambda l : l.split(';'), pages))\n                #print(links)\n                #print(re.search('&page=(.+?)>', links[1][0]).group(1))\n                maxp = int(re.search('&page=(.+?)>', links[1][0]).group(1));\n                if maxp > 20:\n                    print(\"limiting to 20 pages max instead of\", maxp)\n                    maxp = 20;\n        \n            g = g.json()\n            if len(g) > 0:\n                for k in range(len(g)):\n                    #print(g[k]['name'] + ' ' + str(g[k]['stargazers_count']))\n                    sum += g[k]['stargazers_count']\n                cnt += len(g)\n                #print(len(g))\n            else:\n                sum = 0 #at 179 thejameskyle !\n        \n        #print(sum, cnt)\n        if cnt != 0:\n            mean = sum / cnt;\n        else:\n            mean = 0;\n        df.loc[str(i)] = pd.Series({liste_heads[1].text:name,\n                                    liste_heads[2].text:liste_user[1].text,\n                                    liste_heads[3].text:liste_user[2].text,\n                                   'stars': sum, 'count': cnt, 'moyenne': mean})\n    \n    print(\"\");\n    return df;\n",
      "execution_count": 39,
      "outputs": []
    },
    {
      "metadata": {
        "trusted": true
      },
      "cell_type": "code",
      "source": "",
      "execution_count": null,
      "outputs": []
    },
    {
      "metadata": {
        "trusted": true
      },
      "cell_type": "code",
      "source": "login = \"bgtel\";\npassword = \"blank\"\n\ntext1 = widgets.Text(\n    placeholder='login',\n    description='Login:'\n)\n\ntext2 = widgets.Text(\n    placeholder='access token or password',\n    description='Password:'\n)\n\ndef handle_submit1(sender):\n    global login #2 lignes requis\n    login = text1.value\n    print(\"Login stored\")\n\ndef handle_submit2(sender):\n    global password\n    password = text2.value\n    text2.value=u'*'*len(text2.value)\n    print(\"Password stored\")\n\ntext1.on_submit(handle_submit1)\ntext2.on_submit(handle_submit2)\n\nprint(\"Enter login infos here:\")\ndisplay(text1)\ndisplay(text2)\n",
      "execution_count": 9,
      "outputs": [
        {
          "output_type": "stream",
          "text": "Enter login infos here:\n",
          "name": "stdout"
        },
        {
          "output_type": "display_data",
          "data": {
            "application/vnd.jupyter.widget-view+json": {
              "model_id": "5b2b4d6928a4435dae0565a92274f235",
              "version_minor": 0,
              "version_major": 2
            },
            "text/plain": "Text(value='', description='Login:', placeholder='login')"
          },
          "metadata": {}
        },
        {
          "output_type": "display_data",
          "data": {
            "application/vnd.jupyter.widget-view+json": {
              "model_id": "b00f392374304163a5d3ee3aed691536",
              "version_minor": 0,
              "version_major": 2
            },
            "text/plain": "Text(value='', description='Password:', placeholder='access token or password')"
          },
          "metadata": {}
        },
        {
          "output_type": "stream",
          "text": "Password stored\n",
          "name": "stdout"
        }
      ]
    },
    {
      "metadata": {
        "trusted": true
      },
      "cell_type": "code",
      "source": "",
      "execution_count": null,
      "outputs": []
    },
    {
      "metadata": {},
      "cell_type": "markdown",
      "source": "# Lancer ici une fois les droits d'acc&egrave;s remplis ci-dessus"
    },
    {
      "metadata": {
        "trusted": true
      },
      "cell_type": "code",
      "source": "df = pd.DataFrame();\nif password != \"blank\":\n    nb = 256\n    print(\"Progress to ------------------->\")\n    df = process_github(nb);\n    df = df.sort_values(['moyenne'], ascending = [0])\nelse:\n    print(\"Need login infos in the fields above!\")\ndf.head(10)",
      "execution_count": 40,
      "outputs": [
        {
          "output_type": "stream",
          "text": "Progress to ------------------->\n................................\n",
          "name": "stdout"
        },
        {
          "output_type": "execute_result",
          "execution_count": 40,
          "data": {
            "text/html": "<div>\n<style scoped>\n    .dataframe tbody tr th:only-of-type {\n        vertical-align: middle;\n    }\n\n    .dataframe tbody tr th {\n        vertical-align: top;\n    }\n\n    .dataframe thead th {\n        text-align: right;\n    }\n</style>\n<table border=\"1\" class=\"dataframe\">\n  <thead>\n    <tr style=\"text-align: right;\">\n      <th></th>\n      <th>User</th>\n      <th>Contribs</th>\n      <th>Location</th>\n      <th>stars</th>\n      <th>count</th>\n      <th>moyenne</th>\n    </tr>\n  </thead>\n  <tbody>\n    <tr>\n      <th>226</th>\n      <td>bailicangdu</td>\n      <td>1500</td>\n      <td>Shanghai, China</td>\n      <td>45546</td>\n      <td>13</td>\n      <td>3503.538462</td>\n    </tr>\n    <tr>\n      <th>19</th>\n      <td>kamranahmedse</td>\n      <td>4994</td>\n      <td>Dubai</td>\n      <td>100129</td>\n      <td>44</td>\n      <td>2275.659091</td>\n    </tr>\n    <tr>\n      <th>143</th>\n      <td>vinta</td>\n      <td>2213</td>\n      <td>Taipei, Taiwan</td>\n      <td>58573</td>\n      <td>32</td>\n      <td>1830.406250</td>\n    </tr>\n    <tr>\n      <th>118</th>\n      <td>mrdoob</td>\n      <td>2555</td>\n      <td></td>\n      <td>55905</td>\n      <td>35</td>\n      <td>1597.285714</td>\n    </tr>\n    <tr>\n      <th>195</th>\n      <td>IanLunn</td>\n      <td>1757</td>\n      <td>Devon, UK</td>\n      <td>25237</td>\n      <td>18</td>\n      <td>1402.055556</td>\n    </tr>\n    <tr>\n      <th>45</th>\n      <td>sebastianbergmann</td>\n      <td>4390</td>\n      <td>Siegburg, Germany</td>\n      <td>83312</td>\n      <td>60</td>\n      <td>1388.533333</td>\n    </tr>\n    <tr>\n      <th>231</th>\n      <td>junyanz</td>\n      <td>1479</td>\n      <td>Berkeley, CA</td>\n      <td>19223</td>\n      <td>14</td>\n      <td>1373.071429</td>\n    </tr>\n    <tr>\n      <th>154</th>\n      <td>nolimits4web</td>\n      <td>2127</td>\n      <td>Rostov-on-Don, Russia</td>\n      <td>18745</td>\n      <td>14</td>\n      <td>1338.928571</td>\n    </tr>\n    <tr>\n      <th>196</th>\n      <td>ruanyf</td>\n      <td>1755</td>\n      <td>Shanghai, China</td>\n      <td>66867</td>\n      <td>53</td>\n      <td>1261.641509</td>\n    </tr>\n    <tr>\n      <th>110</th>\n      <td>JakeWharton</td>\n      <td>2654</td>\n      <td>Pittsburgh, PA, USA</td>\n      <td>107301</td>\n      <td>100</td>\n      <td>1073.010000</td>\n    </tr>\n  </tbody>\n</table>\n</div>",
            "text/plain": "                  User Contribs               Location   stars count  \\\n226        bailicangdu     1500        Shanghai, China   45546    13   \n19       kamranahmedse     4994                  Dubai  100129    44   \n143              vinta     2213         Taipei, Taiwan   58573    32   \n118             mrdoob     2555                          55905    35   \n195            IanLunn     1757              Devon, UK   25237    18   \n45   sebastianbergmann     4390      Siegburg, Germany   83312    60   \n231            junyanz     1479           Berkeley, CA   19223    14   \n154       nolimits4web     2127  Rostov-on-Don, Russia   18745    14   \n196             ruanyf     1755        Shanghai, China   66867    53   \n110        JakeWharton     2654    Pittsburgh, PA, USA  107301   100   \n\n         moyenne  \n226  3503.538462  \n19   2275.659091  \n143  1830.406250  \n118  1597.285714  \n195  1402.055556  \n45   1388.533333  \n231  1373.071429  \n154  1338.928571  \n196  1261.641509  \n110  1073.010000  "
          },
          "metadata": {}
        }
      ]
    },
    {
      "metadata": {
        "trusted": true
      },
      "cell_type": "code",
      "source": "",
      "execution_count": null,
      "outputs": []
    },
    {
      "metadata": {
        "trusted": true
      },
      "cell_type": "code",
      "source": "# Pour verif d'acces\nget_page_api(\"/rate_limit\") #60 per hour sans user id, not enough",
      "execution_count": null,
      "outputs": []
    },
    {
      "metadata": {
        "trusted": true
      },
      "cell_type": "code",
      "source": "#[['<https://api.github.com/user/1060/repos?per_page=100&page=2>', ' rel=\"next\"'], [' <https://api.github.com/user/1060/repos?per_page=100&page=4>', ' rel=\"last\"']]\n#[['<https://api.github.com/user/1060/repos?per_page=100&page=1>', ' rel=\"prev\"'], [' <https://api.github.com/user/1060/repos?per_page=100&page=3>', ' rel=\"next\"'], [' <https://api.github.com/user/1060/repos?per_page=100&page=4>', ' rel=\"last\"'], [' <https://api.github.com/user/1060/repos?per_page=100&page=1>', ' rel=\"first\"']]\n#[['<https://api.github.com/user/1060/repos?per_page=100&page=2>', ' rel=\"prev\"'], [' <https://api.github.com/user/1060/repos?per_page=100&page=4>', ' rel=\"next\"'], [' <https://api.github.com/user/1060/repos?per_page=100&page=4>', ' rel=\"last\"'], [' <https://api.github.com/user/1060/repos?per_page=100&page=1>', ' rel=\"first\"']]\n#[['<https://api.github.com/user/1060/repos?per_page=100&page=3>', ' rel=\"prev\"'], [' <https://api.github.com/user/1060/repos?per_page=100&page=1>', ' rel=\"first\"']]",
      "execution_count": null,
      "outputs": []
    },
    {
      "metadata": {
        "trusted": true
      },
      "cell_type": "code",
      "source": "",
      "execution_count": null,
      "outputs": []
    }
  ],
  "metadata": {
    "kernelspec": {
      "name": "python36",
      "display_name": "Python 3.6",
      "language": "python"
    }
  },
  "nbformat": 4,
  "nbformat_minor": 2
}