{
  "cells": [
    {
      "metadata": {},
      "cell_type": "markdown",
      "source": "# Reuters web crawler\n"
    },
    {
      "metadata": {
        "trusted": true
      },
      "cell_type": "code",
      "source": "import requests\nimport unittest\nfrom bs4 import BeautifulSoup\nfrom multiprocessing import Pool\n",
      "execution_count": 20,
      "outputs": []
    },
    {
      "metadata": {
        "trusted": true
      },
      "cell_type": "code",
      "source": "website_prefix = \"https://www.reuters.com/finance/stocks/financial-highlights/\"",
      "execution_count": 2,
      "outputs": []
    },
    {
      "metadata": {
        "trusted": true
      },
      "cell_type": "code",
      "source": "def _handle_request_result_and_build_soup(request_result):\n    if request_result.status_code == 200:\n        html_doc =  request_result.text\n        soup = BeautifulSoup(html_doc,\"html.parser\")\n        return soup\n",
      "execution_count": 3,
      "outputs": []
    },
    {
      "metadata": {
        "trusted": true
      },
      "cell_type": "code",
      "source": "def _convert_string_to_float(string):\n    temp = string.strip()\n    if temp[0]== '(' : # small negative percentage\n        return float(temp[1:-2])\n    if temp[-1]== '-' : # -- NA value\n        return 0.0\n    temp = ''.join(temp.split(',')) # remove thousand's comma\n    return float(temp)\n",
      "execution_count": 4,
      "outputs": []
    },
    {
      "metadata": {
        "trusted": true
      },
      "cell_type": "code",
      "source": "def get_reuters_data(page):\n    res = requests.get(website_prefix + page)\n    soup = _handle_request_result_and_build_soup(res)\n    \n    nasdaqChangeSrc = soup.find(\"div\", class_= \"sectionQuote nasdaqChange\")\n    nasdaqChangeSpans = nasdaqChangeSrc.find_all(\"span\", limit=2)\n    nasdaqChange = _convert_string_to_float(nasdaqChangeSpans[1].text)\n    \n    priceChangeSrc = soup.find(\"div\", class_= \"sectionQuote priceChange\")\n    priceChangeSpans = priceChangeSrc.find(\"span\", class_=\"valueContentPercent\")\n    priceChange = _convert_string_to_float(priceChangeSpans.span.text)\n    \n    tables = soup.find_all(\"table\", class_= \"dataTable\", limit=3)\n    # tables[0] has Quarter Ending Dec-18\n    ## tables[1] has % Owned Institutions\n    # tables[2] has Dividend Yield\n    allQuarters = tables[0].find(\"tr\", class_=\"stripe\")\n    quartersData = allQuarters.find_all(\"td\", class_=\"data\")\n    quarters = list(map(lambda x : _convert_string_to_float(x.text), quartersData[1:-1]))\n\n    #OwnedData = tables[1].find_all(\"td\", class_=\"data\")\n    #owned = list(map(lambda x : _convert_string_to_float(x.text), OwnedData[-3:]))\n\n    allYields = tables[2].find(\"tr\", class_=\"stripe\")\n    yieldsData = allYields.find_all(\"td\", class_=\"data\")\n    yields = list(map(lambda x : _convert_string_to_float(x.text), yieldsData))\n    \n    # The real % to get is on the lower right of the page\n    tables2 = soup.find_all(\"tbody\", class_= \"dataSmall\", limit=3)\n    owned = tables2[2].find(\"td\", class_=\"data\").text\n    \n    return [quarters, [nasdaqChange, priceChange], owned, yields]",
      "execution_count": 17,
      "outputs": []
    },
    {
      "metadata": {
        "trusted": true
      },
      "cell_type": "code",
      "source": "",
      "execution_count": null,
      "outputs": []
    },
    {
      "metadata": {},
      "cell_type": "markdown",
      "source": "# Result lists\n\n- Quarter Ending Dec-18 [Mean, High, Low]\n- Change [value, %]\n- % Owned Institutions [%]\n- Dividend Yield [Company, industry, sector]\n"
    },
    {
      "metadata": {
        "trusted": true
      },
      "cell_type": "code",
      "source": "sources = [\"AIR.PA\", \"LVMH.PA\", \"DANO.PA\"]",
      "execution_count": 5,
      "outputs": []
    },
    {
      "metadata": {
        "trusted": true
      },
      "cell_type": "code",
      "source": "p = Pool(6);\np.map(get_reuters_data, sources)",
      "execution_count": 24,
      "outputs": [
        {
          "output_type": "execute_result",
          "execution_count": 24,
          "data": {
            "text/plain": "[[[23493.0, 26073.4, 21431.0], [100.26, 3.01], '43.53%', [1.45, 1.34, 1.64]],\n [[13667.7, 13769.0, 13575.0], [262.5, 0.21], '20.57%', [1.92, 1.7, 2.6]],\n [[6072.6, 6142.0, 6025.0], [63.87, -0.09], '50.60%', [2.9, 2.78, 2.48]]]"
          },
          "metadata": {}
        }
      ]
    },
    {
      "metadata": {
        "trusted": true
      },
      "cell_type": "code",
      "source": " ",
      "execution_count": null,
      "outputs": []
    }
  ],
  "metadata": {
    "kernelspec": {
      "name": "python36",
      "display_name": "Python 3.6",
      "language": "python"
    },
    "language_info": {
      "mimetype": "text/x-python",
      "nbconvert_exporter": "python",
      "name": "python",
      "pygments_lexer": "ipython3",
      "version": "3.6.6",
      "file_extension": ".py",
      "codemirror_mode": {
        "version": 3,
        "name": "ipython"
      }
    }
  },
  "nbformat": 4,
  "nbformat_minor": 2
}