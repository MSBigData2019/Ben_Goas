{
  "cells": [
    {
      "metadata": {},
      "cell_type": "markdown",
      "source": "# Darty web crawler\n\nRéduction moyenne sur une page de résultats\n"
    },
    {
      "metadata": {
        "trusted": true
      },
      "cell_type": "code",
      "source": "import requests\nimport unittest\nfrom bs4 import BeautifulSoup\nfrom multiprocessing import Pool\n",
      "execution_count": 1,
      "outputs": []
    },
    {
      "metadata": {
        "trusted": true
      },
      "cell_type": "code",
      "source": "website_prefixe = \"https://www.darty.com/nav/recherche?s=prix_desc&npk=1&text=\"\nwebsite_suffixe = \"&fa=756\"\n",
      "execution_count": 2,
      "outputs": []
    },
    {
      "metadata": {
        "trusted": true
      },
      "cell_type": "code",
      "source": "def _handle_request_result_and_build_soup(request_result):\n    if request_result.status_code == 200:\n        html_doc =  request_result.text\n        soup = BeautifulSoup(html_doc,\"html.parser\")\n        return soup\n",
      "execution_count": 3,
      "outputs": []
    },
    {
      "metadata": {
        "trusted": true
      },
      "cell_type": "code",
      "source": "def _convert_string_to_float(string):\n    temp = string.strip()\n    if temp[0]== '(' : # small negative percentage\n        return float(temp[1:-2])\n    if temp[-1]== '-' : # -- NA value\n        return 0.0\n    temp = ''.join(temp.split(',')) # remove thousand's comma\n    return float(temp)\n",
      "execution_count": 4,
      "outputs": []
    },
    {
      "metadata": {
        "trusted": true
      },
      "cell_type": "code",
      "source": "def get_data(page):\n    res = requests.get(website_prefixe + page + website_suffixe)\n    soup = _handle_request_result_and_build_soup(res)\n    l1 = soup.find_all(\"p\", class_=\"darty_prix_barre_remise darty_small separator_top\")\n    return list(map(lambda x : int(x.text[2:-1]), l1))\n",
      "execution_count": 5,
      "outputs": []
    },
    {
      "metadata": {
        "trusted": true
      },
      "cell_type": "code",
      "source": "",
      "execution_count": null,
      "outputs": []
    },
    {
      "metadata": {
        "trusted": true
      },
      "cell_type": "code",
      "source": "pages = [\"dell\", \"acer\"]",
      "execution_count": 6,
      "outputs": []
    },
    {
      "metadata": {
        "trusted": true
      },
      "cell_type": "code",
      "source": "p = Pool(6);\nresults = p.map(get_data, pages)",
      "execution_count": 7,
      "outputs": []
    },
    {
      "metadata": {
        "trusted": true
      },
      "cell_type": "code",
      "source": "l = list(map(lambda l : sum(l) / float(len(l)), results))\nlist(zip(pages, l))",
      "execution_count": 8,
      "outputs": [
        {
          "output_type": "execute_result",
          "execution_count": 8,
          "data": {
            "text/plain": "[('dell', 30.727272727272727), ('acer', 24.0)]"
          },
          "metadata": {}
        }
      ]
    },
    {
      "metadata": {
        "trusted": true
      },
      "cell_type": "code",
      "source": "",
      "execution_count": null,
      "outputs": []
    },
    {
      "metadata": {
        "trusted": true
      },
      "cell_type": "code",
      "source": "",
      "execution_count": null,
      "outputs": []
    }
  ],
  "metadata": {
    "kernelspec": {
      "name": "python36",
      "display_name": "Python 3.6",
      "language": "python"
    },
    "language_info": {
      "mimetype": "text/x-python",
      "nbconvert_exporter": "python",
      "name": "python",
      "pygments_lexer": "ipython3",
      "version": "3.6.6",
      "file_extension": ".py",
      "codemirror_mode": {
        "version": 3,
        "name": "ipython"
      }
    }
  },
  "nbformat": 4,
  "nbformat_minor": 2
}