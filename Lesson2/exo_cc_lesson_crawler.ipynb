{
  "cells": [
    {
      "metadata": {},
      "cell_type": "markdown",
      "source": "# Rue du commerce web crawler\n"
    },
    {
      "metadata": {
        "trusted": true
      },
      "cell_type": "code",
      "source": "import requests\nimport unittest\nfrom bs4 import BeautifulSoup\n",
      "execution_count": 13,
      "outputs": []
    },
    {
      "metadata": {
        "trusted": true
      },
      "cell_type": "code",
      "source": "website_prefixe = \"https://www.rueducommerce.fr/recherche/pc-portable-\"\nwebsite_suffixe = \"?sort=remise&universe=MC-3540&view=grid\"\n",
      "execution_count": 14,
      "outputs": []
    },
    {
      "metadata": {
        "trusted": true
      },
      "cell_type": "code",
      "source": "def _handle_request_result_and_build_soup(request_result):\n    if request_result.status_code == 200:\n        html_doc =  request_result.text\n        soup = BeautifulSoup(html_doc,\"html.parser\")\n        return soup\n",
      "execution_count": 15,
      "outputs": []
    },
    {
      "metadata": {
        "trusted": true
      },
      "cell_type": "code",
      "source": "def _convert_string_to_float(string):\n    temp = string.strip()\n    if temp[0]== '(' : # small negative percentage\n        return float(temp[1:-2])\n    if temp[-1]== '-' : # -- NA value\n        return 0.0\n    temp = ''.join(temp.split(',')) # remove thousand's comma\n    return float(temp)\n",
      "execution_count": 10,
      "outputs": []
    },
    {
      "metadata": {
        "trusted": true
      },
      "cell_type": "code",
      "source": "",
      "execution_count": null,
      "outputs": []
    },
    {
      "metadata": {
        "trusted": true
      },
      "cell_type": "code",
      "source": "page = \"dell\"",
      "execution_count": 11,
      "outputs": []
    },
    {
      "metadata": {
        "trusted": true
      },
      "cell_type": "code",
      "source": "res = requests.get(\"https://www.darty.com/nav/recherche?s=prix_desc&npk=1&text=dell&fa=756\")",
      "execution_count": 18,
      "outputs": []
    },
    {
      "metadata": {
        "trusted": true
      },
      "cell_type": "code",
      "source": "soup = _handle_request_result_and_build_soup(res)",
      "execution_count": 24,
      "outputs": []
    },
    {
      "metadata": {
        "trusted": true
      },
      "cell_type": "code",
      "source": "l1 = soup.find_all(\"p\", class_=\"darty_prix_barre_remise darty_small separator_top\")\nlist(map(lambda x : x.text, l1))",
      "execution_count": 31,
      "outputs": [
        {
          "output_type": "execute_result",
          "execution_count": 31,
          "data": {
            "text/plain": "['- 34%',\n '- 40%',\n '- 50%',\n '- 43%',\n '- 43%',\n '- 6%',\n '- 27%',\n '- 23%',\n '- 23%',\n '- 23%',\n '- 26%']"
          },
          "metadata": {}
        }
      ]
    },
    {
      "metadata": {
        "trusted": true
      },
      "cell_type": "code",
      "source": "page = \"acer\"",
      "execution_count": 33,
      "outputs": []
    },
    {
      "metadata": {
        "trusted": true
      },
      "cell_type": "code",
      "source": "res = requests.get(\"https://www.darty.com/nav/recherche?s=prix_desc&npk=1&text=acer&fa=756\")\nsoup = _handle_request_result_and_build_soup(res)\nl1 = soup.find_all(\"p\", class_=\"darty_prix_barre_remise darty_small separator_top\")\nlist(map(lambda x : x.text, l1))",
      "execution_count": 35,
      "outputs": [
        {
          "output_type": "execute_result",
          "execution_count": 35,
          "data": {
            "text/plain": "['- 22%', '- 23%', '- 23%', '- 25%', '- 25%', '- 26%']"
          },
          "metadata": {}
        }
      ]
    },
    {
      "metadata": {
        "trusted": true
      },
      "cell_type": "code",
      "source": "",
      "execution_count": null,
      "outputs": []
    }
  ],
  "metadata": {
    "kernelspec": {
      "name": "python36",
      "display_name": "Python 3.6",
      "language": "python"
    },
    "language_info": {
      "mimetype": "text/x-python",
      "nbconvert_exporter": "python",
      "name": "python",
      "pygments_lexer": "ipython3",
      "version": "3.6.6",
      "file_extension": ".py",
      "codemirror_mode": {
        "version": 3,
        "name": "ipython"
      }
    }
  },
  "nbformat": 4,
  "nbformat_minor": 2
}